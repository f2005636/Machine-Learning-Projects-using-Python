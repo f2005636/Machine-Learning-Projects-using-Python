{
 "cells": [
  {
   "cell_type": "markdown",
   "metadata": {},
   "source": [
    "# Accounts Receivable"
   ]
  },
  {
   "cell_type": "markdown",
   "metadata": {},
   "source": [
    "###### Understand the factors of successful collection efforts. You can Predict which customers will pay fastest and recover more money and improve collections efficiency."
   ]
  },
  {
   "cell_type": "code",
   "execution_count": 84,
   "metadata": {
    "collapsed": true
   },
   "outputs": [],
   "source": [
    "import math\n",
    "import numpy as np\n",
    "import pandas as pd\n",
    "from datetime import datetime\n",
    "\n",
    "import seaborn as sns\n",
    "import matplotlib.pyplot as plt\n",
    "%matplotlib inline \n",
    "plt.style.use('seaborn-whitegrid')\n",
    "\n",
    "from sklearn.model_selection import train_test_split\n",
    "from sklearn.linear_model import LinearRegression\n",
    "from sklearn import metrics\n",
    "import statsmodels.api as sm"
   ]
  },
  {
   "cell_type": "markdown",
   "metadata": {},
   "source": [
    "# 1 Get the Data"
   ]
  },
  {
   "cell_type": "code",
   "execution_count": 85,
   "metadata": {},
   "outputs": [
    {
     "name": "stdout",
     "output_type": "stream",
     "text": [
      "<class 'pandas.core.frame.DataFrame'>\n",
      "Int64Index: 2466 entries, 0 to 2465\n",
      "Data columns (total 12 columns):\n",
      "countryCode      2466 non-null int64\n",
      "customerID       2466 non-null object\n",
      "PaperlessDate    2466 non-null object\n",
      "invoiceNumber    2466 non-null int64\n",
      "InvoiceDate      2466 non-null object\n",
      "DueDate          2466 non-null object\n",
      "InvoiceAmount    2466 non-null float64\n",
      "Disputed         2466 non-null object\n",
      "SettledDate      2466 non-null object\n",
      "PaperlessBill    2466 non-null object\n",
      "DaysToSettle     2466 non-null int64\n",
      "DaysLate         2466 non-null int64\n",
      "dtypes: float64(1), int64(4), object(7)\n",
      "memory usage: 250.5+ KB\n"
     ]
    }
   ],
   "source": [
    "df = pd.read_csv('07 WA_Fn-UseC_-Accounts-Receivable.csv')\n",
    "df.dropna(inplace=True)\n",
    "df.info()"
   ]
  },
  {
   "cell_type": "code",
   "execution_count": 86,
   "metadata": {
    "collapsed": true
   },
   "outputs": [],
   "source": [
    "df1 = df[df['DaysLate']>0].copy()\n",
    "df2 = pd.DataFrame(df1.groupby(['customerID'], axis=0, as_index=False)['DaysLate'].count())\n",
    "df2.columns = (['customerID','repeatCust'])\n",
    "df3 = pd.merge(df, df2, how='left', on='customerID')\n",
    "df3['repeatCust'].fillna(0, inplace=True)"
   ]
  },
  {
   "cell_type": "code",
   "execution_count": 87,
   "metadata": {},
   "outputs": [
    {
     "name": "stdout",
     "output_type": "stream",
     "text": [
      "<class 'pandas.core.frame.DataFrame'>\n",
      "Int64Index: 2466 entries, 0 to 2465\n",
      "Data columns (total 13 columns):\n",
      "countryCode      2466 non-null int64\n",
      "customerID       2466 non-null object\n",
      "PaperlessDate    2466 non-null object\n",
      "invoiceNumber    2466 non-null int64\n",
      "InvoiceDate      2466 non-null object\n",
      "DueDate          2466 non-null object\n",
      "InvoiceAmount    2466 non-null float64\n",
      "Disputed         2466 non-null object\n",
      "SettledDate      2466 non-null object\n",
      "PaperlessBill    2466 non-null object\n",
      "DaysToSettle     2466 non-null int64\n",
      "DaysLate         2466 non-null int64\n",
      "repeatCust       2466 non-null float64\n",
      "dtypes: float64(2), int64(4), object(7)\n",
      "memory usage: 269.7+ KB\n"
     ]
    }
   ],
   "source": [
    "df = df3\n",
    "df.info()"
   ]
  },
  {
   "cell_type": "code",
   "execution_count": 88,
   "metadata": {
    "collapsed": true
   },
   "outputs": [],
   "source": [
    "def func_CC (x):\n",
    "    if x==391: return \"a. 391\"\n",
    "    elif x==818: return \"c. 818\"\n",
    "    else: return \"b. others\"\n",
    "df['countryCode_bin'] = df['countryCode'].apply(func_CC)"
   ]
  },
  {
   "cell_type": "code",
   "execution_count": 89,
   "metadata": {
    "collapsed": true
   },
   "outputs": [],
   "source": [
    "def func_RC (x):\n",
    "    if x<2: return \"a. less than 2\"\n",
    "    elif x<6: return \"b. less than 6\"\n",
    "    elif x<15: return \"c. less than 15\"\n",
    "    else: return \"d. more than 15\"\n",
    "df['repeatCust_bin'] = df['repeatCust'].apply(func_RC)"
   ]
  },
  {
   "cell_type": "code",
   "execution_count": 90,
   "metadata": {
    "collapsed": true
   },
   "outputs": [],
   "source": [
    "def func_IA (x):\n",
    "    if x>70: return \"b. more than 70\"\n",
    "    else: return \"a. less than 70\"\n",
    "df['InvoiceAmount_bin'] = df['InvoiceAmount'].apply(func_IA)"
   ]
  },
  {
   "cell_type": "code",
   "execution_count": 91,
   "metadata": {},
   "outputs": [
    {
     "name": "stdout",
     "output_type": "stream",
     "text": [
      "<class 'pandas.core.frame.DataFrame'>\n",
      "Int64Index: 2466 entries, 0 to 2465\n",
      "Data columns (total 6 columns):\n",
      "Disputed             2466 non-null object\n",
      "PaperlessBill        2466 non-null object\n",
      "DaysLate             2466 non-null int64\n",
      "countryCode_bin      2466 non-null object\n",
      "repeatCust_bin       2466 non-null object\n",
      "InvoiceAmount_bin    2466 non-null object\n",
      "dtypes: int64(1), object(5)\n",
      "memory usage: 134.9+ KB\n"
     ]
    }
   ],
   "source": [
    "df = df[['Disputed','PaperlessBill','DaysLate','countryCode_bin','repeatCust_bin','InvoiceAmount_bin']].copy()\n",
    "df.info()"
   ]
  },
  {
   "cell_type": "markdown",
   "metadata": {},
   "source": [
    "# 2a Disputed"
   ]
  },
  {
   "cell_type": "code",
   "execution_count": 92,
   "metadata": {},
   "outputs": [
    {
     "data": {
      "text/plain": [
       "<matplotlib.axes._subplots.AxesSubplot at 0x20cb3451898>"
      ]
     },
     "execution_count": 92,
     "metadata": {},
     "output_type": "execute_result"
    },
    {
     "data": {
      "image/png": "[encoded data removed]",
      "text/plain": [
       "<matplotlib.figure.Figure at 0x20cb17d1dd8>"
      ]
     },
     "metadata": {},
     "output_type": "display_data"
    }
   ],
   "source": [
    "temp = pd.DataFrame(df.groupby(['Disputed'], axis=0, as_index=False)['DaysLate'].mean())\n",
    "plt.figure(figsize=(8,4))\n",
    "sns.barplot(x=\"Disputed\", y=\"DaysLate\",data=temp)"
   ]
  },
  {
   "cell_type": "markdown",
   "metadata": {},
   "source": [
    "# 2b PaperlessBill"
   ]
  },
  {
   "cell_type": "code",
   "execution_count": 93,
   "metadata": {},
   "outputs": [
    {
     "data": {
      "text/plain": [
       "<matplotlib.axes._subplots.AxesSubplot at 0x20cb3413cc0>"
      ]
     },
     "execution_count": 93,
     "metadata": {},
     "output_type": "execute_result"
    },
    {
     "data": {
      "image/png": "[encoded data removed]",
      "text/plain": [
       "<matplotlib.figure.Figure at 0x20cb33e7588>"
      ]
     },
     "metadata": {},
     "output_type": "display_data"
    }
   ],
   "source": [
    "temp = pd.DataFrame(df.groupby(['PaperlessBill'], axis=0, as_index=False)['DaysLate'].mean())\n",
    "plt.figure(figsize=(8,4))\n",
    "sns.barplot(x=\"PaperlessBill\", y=\"DaysLate\",data=temp)"
   ]
  },
  {
   "cell_type": "markdown",
   "metadata": {},
   "source": [
    "# 2c countryCode_bin"
   ]
  },
  {
   "cell_type": "code",
   "execution_count": 94,
   "metadata": {},
   "outputs": [
    {
     "data": {
      "text/plain": [
       "<matplotlib.axes._subplots.AxesSubplot at 0x20cb3ee1c88>"
      ]
     },
     "execution_count": 94,
     "metadata": {},
     "output_type": "execute_result"
    },
    {
     "data": {
      "image/png": "[encoded data removed]",
      "text/plain": [
       "<matplotlib.figure.Figure at 0x20cb3ed5780>"
      ]
     },
     "metadata": {},
     "output_type": "display_data"
    }
   ],
   "source": [
    "temp = pd.DataFrame(df.groupby(['countryCode_bin'], axis=0, as_index=False)['DaysLate'].mean())\n",
    "plt.figure(figsize=(8,4))\n",
    "sns.barplot(x=\"countryCode_bin\", y=\"DaysLate\",data=temp)"
   ]
  },
  {
   "cell_type": "markdown",
   "metadata": {},
   "source": [
    "# 2d repeatCust_bin"
   ]
  },
  {
   "cell_type": "code",
   "execution_count": 95,
   "metadata": {},
   "outputs": [
    {
     "data": {
      "text/plain": [
       "<matplotlib.axes._subplots.AxesSubplot at 0x20cb3ecf668>"
      ]
     },
     "execution_count": 95,
     "metadata": {},
     "output_type": "execute_result"
    },
    {
     "data": {
      "image/png": "[encoded data removed]",
      "text/plain": [
       "<matplotlib.figure.Figure at 0x20cb3e9b978>"
      ]
     },
     "metadata": {},
     "output_type": "display_data"
    }
   ],
   "source": [
    "temp = pd.DataFrame(df.groupby(['repeatCust_bin'], axis=0, as_index=False)['DaysLate'].mean())\n",
    "plt.figure(figsize=(8,4))\n",
    "sns.barplot(x=\"repeatCust_bin\", y=\"DaysLate\",data=temp)"
   ]
  },
  {
   "cell_type": "markdown",
   "metadata": {},
   "source": [
    "# 2e InvoiceAmount_bin"
   ]
  },
  {
   "cell_type": "code",
   "execution_count": 96,
   "metadata": {},
   "outputs": [
    {
     "data": {
      "text/plain": [
       "<matplotlib.axes._subplots.AxesSubplot at 0x20cb3f90d68>"
      ]
     },
     "execution_count": 96,
     "metadata": {},
     "output_type": "execute_result"
    },
    {
     "data": {
      "image/png": "[encoded data removed]",
      "text/plain": [
       "<matplotlib.figure.Figure at 0x20cb3f11780>"
      ]
     },
     "metadata": {},
     "output_type": "display_data"
    }
   ],
   "source": [
    "temp = pd.DataFrame(df.groupby(['InvoiceAmount_bin'], axis=0, as_index=False)['DaysLate'].mean())\n",
    "plt.figure(figsize=(8,4))\n",
    "sns.barplot(x=\"InvoiceAmount_bin\", y=\"DaysLate\",data=temp)"
   ]
  },
  {
   "cell_type": "markdown",
   "metadata": {},
   "source": [
    "# 3 Train Test Split"
   ]
  },
  {
   "cell_type": "code",
   "execution_count": 97,
   "metadata": {
    "collapsed": true
   },
   "outputs": [],
   "source": [
    "df.drop('countryCode_bin',axis=1,inplace=True)"
   ]
  },
  {
   "cell_type": "code",
   "execution_count": 98,
   "metadata": {
    "collapsed": true
   },
   "outputs": [],
   "source": [
    "cat_feats = ['Disputed','PaperlessBill','repeatCust_bin','InvoiceAmount_bin']\n",
    "final_data = pd.get_dummies(df,columns=cat_feats,drop_first=True)"
   ]
  },
  {
   "cell_type": "code",
   "execution_count": 99,
   "metadata": {
    "collapsed": true
   },
   "outputs": [],
   "source": [
    "x = final_data.drop(['DaysLate'],axis=1)\n",
    "y = final_data['DaysLate']\n",
    "x_train, x_test, y_train, y_test = train_test_split(x,y,test_size=0.3, random_state=101)"
   ]
  },
  {
   "cell_type": "markdown",
   "metadata": {},
   "source": [
    "# 4 Building the Model"
   ]
  },
  {
   "cell_type": "code",
   "execution_count": 100,
   "metadata": {},
   "outputs": [
    {
     "name": "stdout",
     "output_type": "stream",
     "text": [
      "                            OLS Regression Results                            \n",
      "==============================================================================\n",
      "Dep. Variable:               DaysLate   R-squared:                       0.453\n",
      "Model:                            OLS   Adj. R-squared:                  0.451\n",
      "Method:                 Least Squares   F-statistic:                     237.1\n",
      "Date:                Sat, 18 Nov 2017   Prob (F-statistic):          5.90e-221\n",
      "Time:                        00:32:03   Log-Likelihood:                -5130.1\n",
      "No. Observations:                1726   AIC:                         1.027e+04\n",
      "Df Residuals:                    1719   BIC:                         1.031e+04\n",
      "Df Model:                           6                                         \n",
      "Covariance Type:            nonrobust                                         \n",
      "=====================================================================================================\n",
      "                                        coef    std err          t      P>|t|      [0.025      0.975]\n",
      "-----------------------------------------------------------------------------------------------------\n",
      "const                                -1.5117      0.274     -5.508      0.000      -2.050      -0.973\n",
      "Disputed_Yes                          5.9014      0.280     21.083      0.000       5.352       6.450\n",
      "PaperlessBill_Paper                   1.8153      0.229      7.943      0.000       1.367       2.264\n",
      "repeatCust_bin_b. less than 6         0.6261      0.334      1.876      0.061      -0.028       1.281\n",
      "repeatCust_bin_c. less than 15        2.3127      0.332      6.973      0.000       1.662       2.963\n",
      "repeatCust_bin_d. more than 15        7.4404      0.327     22.755      0.000       6.799       8.082\n",
      "InvoiceAmount_bin_b. more than 70    -0.1979      0.247     -0.800      0.424      -0.683       0.287\n",
      "==============================================================================\n",
      "Omnibus:                      446.075   Durbin-Watson:                   1.982\n",
      "Prob(Omnibus):                  0.000   Jarque-Bera (JB):             1557.328\n",
      "Skew:                           1.247   Prob(JB):                         0.00\n",
      "Kurtosis:                       6.928   Cond. No.                         5.96\n",
      "==============================================================================\n",
      "\n",
      "Warnings:\n",
      "[1] Standard Errors assume that the covariance matrix of the errors is correctly specified.\n"
     ]
    }
   ],
   "source": [
    "x_train = sm.add_constant(x_train).copy()\n",
    "lm_sm = sm.OLS(y_train, x_train)\n",
    "est = lm_sm.fit()\n",
    "print(est.summary())"
   ]
  },
  {
   "cell_type": "markdown",
   "metadata": {},
   "source": [
    "# 5 Predictions and Evaluation"
   ]
  },
  {
   "cell_type": "code",
   "execution_count": 101,
   "metadata": {
    "collapsed": true
   },
   "outputs": [],
   "source": [
    "x_test = sm.add_constant(x_test).copy()\n",
    "y_pred = est.predict(x_test)"
   ]
  },
  {
   "cell_type": "code",
   "execution_count": 102,
   "metadata": {},
   "outputs": [
    {
     "data": {
      "text/plain": [
       "<matplotlib.axes._subplots.AxesSubplot at 0x20cb4058c50>"
      ]
     },
     "execution_count": 102,
     "metadata": {},
     "output_type": "execute_result"
    },
    {
     "data": {
      "image/png": "[encoded data removed]",
      "text/plain": [
       "<matplotlib.figure.Figure at 0x20cb40584e0>"
      ]
     },
     "metadata": {},
     "output_type": "display_data"
    }
   ],
   "source": [
    "y = pd.concat([y_test,pd.DataFrame(y_pred)],axis=1)\n",
    "y.columns = ('act','pred')\n",
    "\n",
    "def act_decile (x):\n",
    "    if x == 0: return \"a. 0\"\n",
    "    elif x <= 2: return \"b. (0-2] days\"\n",
    "    elif x <= 7: return \"c. (2-7] days\"\n",
    "    else: return \"d. more (7-) days\"\n",
    "y['act_bin'] = y['act'].apply(act_decile)\n",
    "\n",
    "temp = pd.DataFrame(y.groupby(['act_bin'], axis=0, as_index=False)['act','pred'].mean())\n",
    "temp.index = temp['act_bin']\n",
    "temp.plot(marker='o',figsize=(8,4))"
   ]
  }
 ],
 "metadata": {
  "kernelspec": {
   "display_name": "Python 3",
   "language": "python",
   "name": "python3"
  },
  "language_info": {
   "codemirror_mode": {
    "name": "ipython",
    "version": 3
   },
   "file_extension": ".py",
   "mimetype": "text/x-python",
   "name": "python",
   "nbconvert_exporter": "python",
   "pygments_lexer": "ipython3",
   "version": "3.6.2"
  }
 },
 "nbformat": 4,
 "nbformat_minor": 2
}

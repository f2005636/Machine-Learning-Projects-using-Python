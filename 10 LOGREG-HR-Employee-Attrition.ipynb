{
 "cells": [
  {
   "cell_type": "markdown",
   "metadata": {},
   "source": [
    "# HR Employee Attrition"
   ]
  },
  {
   "cell_type": "markdown",
   "metadata": {},
   "source": [
    "###### Find out the leading drivers of Employee Attrition. Track and analyze employee satisfaction and Retain valuable employees. Watson Analytics could be used to Explore deeper into the data for interesting insights and also to create Dashboards."
   ]
  },
  {
   "cell_type": "code",
   "execution_count": 105,
   "metadata": {},
   "outputs": [],
   "source": [
    "import math\n",
    "import numpy as np\n",
    "import pandas as pd\n",
    "from datetime import datetime\n",
    "\n",
    "import seaborn as sns\n",
    "import matplotlib.pyplot as plt\n",
    "%matplotlib inline \n",
    "plt.style.use('seaborn-whitegrid')\n",
    "\n",
    "from sklearn.model_selection import train_test_split\n",
    "from sklearn.linear_model import LogisticRegression\n",
    "from sklearn import metrics\n",
    "from sklearn.metrics import classification_report, confusion_matrix\n",
    "import statsmodels.api as sm"
   ]
  },
  {
   "cell_type": "markdown",
   "metadata": {},
   "source": [
    "# 1 Get the Data"
   ]
  },
  {
   "cell_type": "code",
   "execution_count": 106,
   "metadata": {},
   "outputs": [
    {
     "name": "stdout",
     "output_type": "stream",
     "text": [
      "<class 'pandas.core.frame.DataFrame'>\n",
      "Int64Index: 1470 entries, 0 to 1469\n",
      "Data columns (total 35 columns):\n",
      "Age                         1470 non-null int64\n",
      "Attrition                   1470 non-null object\n",
      "BusinessTravel              1470 non-null object\n",
      "DailyRate                   1470 non-null int64\n",
      "Department                  1470 non-null object\n",
      "DistanceFromHome            1470 non-null int64\n",
      "Education                   1470 non-null int64\n",
      "EducationField              1470 non-null object\n",
      "EmployeeCount               1470 non-null int64\n",
      "EmployeeNumber              1470 non-null int64\n",
      "EnvironmentSatisfaction     1470 non-null int64\n",
      "Gender                      1470 non-null object\n",
      "HourlyRate                  1470 non-null int64\n",
      "JobInvolvement              1470 non-null int64\n",
      "JobLevel                    1470 non-null int64\n",
      "JobRole                     1470 non-null object\n",
      "JobSatisfaction             1470 non-null int64\n",
      "MaritalStatus               1470 non-null object\n",
      "MonthlyIncome               1470 non-null int64\n",
      "MonthlyRate                 1470 non-null int64\n",
      "NumCompaniesWorked          1470 non-null int64\n",
      "Over18                      1470 non-null object\n",
      "OverTime                    1470 non-null object\n",
      "PercentSalaryHike           1470 non-null int64\n",
      "PerformanceRating           1470 non-null int64\n",
      "RelationshipSatisfaction    1470 non-null int64\n",
      "StandardHours               1470 non-null int64\n",
      "StockOptionLevel            1470 non-null int64\n",
      "TotalWorkingYears           1470 non-null int64\n",
      "TrainingTimesLastYear       1470 non-null int64\n",
      "WorkLifeBalance             1470 non-null int64\n",
      "YearsAtCompany              1470 non-null int64\n",
      "YearsInCurrentRole          1470 non-null int64\n",
      "YearsSinceLastPromotion     1470 non-null int64\n",
      "YearsWithCurrManager        1470 non-null int64\n",
      "dtypes: int64(26), object(9)\n",
      "memory usage: 413.4+ KB\n"
     ]
    }
   ],
   "source": [
    "df = pd.read_csv('10 WA_Fn-UseC_-HR-Employee-Attrition.csv')\n",
    "df.dropna(inplace=True)\n",
    "df.info()"
   ]
  },
  {
   "cell_type": "code",
   "execution_count": 107,
   "metadata": {
    "collapsed": true
   },
   "outputs": [],
   "source": [
    "def fucn_DB (x):\n",
    "    if x==\"Research & Development\": return \"R&D\"\n",
    "    else: return \"Others\"\n",
    "df['Department_bin'] = df['Department'].apply(fucn_DB)"
   ]
  },
  {
   "cell_type": "code",
   "execution_count": 108,
   "metadata": {},
   "outputs": [],
   "source": [
    "def func_EB (x):\n",
    "    if x==1: return \"One\"\n",
    "    else: return \"Others\"\n",
    "df['EnvironmentSatisfaction_bin'] = df['EnvironmentSatisfaction'].apply(func_EB)"
   ]
  },
  {
   "cell_type": "code",
   "execution_count": 109,
   "metadata": {
    "collapsed": true
   },
   "outputs": [],
   "source": [
    "def func_JLB (x):\n",
    "    if (x==1 or x==3): return \"1 or 3\"\n",
    "    else: return \"Others\"\n",
    "df['JobLevel_bin'] = df['JobLevel'].apply(func_JLB)"
   ]
  },
  {
   "cell_type": "code",
   "execution_count": 110,
   "metadata": {
    "collapsed": true
   },
   "outputs": [],
   "source": [
    "def func_JSB (x):\n",
    "    if x==1: return \"a. 1\"\n",
    "    elif x==4: return \"c. 4\"\n",
    "    else: return \"b. Others\"\n",
    "df['JobSatisfaction_bin'] = df['JobSatisfaction'].apply(func_JSB)"
   ]
  },
  {
   "cell_type": "code",
   "execution_count": 111,
   "metadata": {},
   "outputs": [],
   "source": [
    "def func_RSB (x):\n",
    "    if x==1: return \"One\"\n",
    "    else: return \"Others\"\n",
    "df['RelationshipSatisfaction_bin'] = df['RelationshipSatisfaction'].apply(func_RSB)"
   ]
  },
  {
   "cell_type": "code",
   "execution_count": 112,
   "metadata": {},
   "outputs": [],
   "source": [
    "def func_SOB (x):\n",
    "    if (x==0 or x==3): return \"0 or 3\"\n",
    "    else: return \"Others\"\n",
    "df['StockOptionLevel_bin'] = df['StockOptionLevel'].apply(func_SOB)"
   ]
  },
  {
   "cell_type": "code",
   "execution_count": 113,
   "metadata": {
    "collapsed": true
   },
   "outputs": [],
   "source": [
    "def func_WLB (x):\n",
    "    if x==1: return \"One\"\n",
    "    else: return \"Others\"\n",
    "df['WorkLifeBalance_bin'] = df['WorkLifeBalance'].apply(func_WLB)"
   ]
  },
  {
   "cell_type": "code",
   "execution_count": 114,
   "metadata": {
    "collapsed": true
   },
   "outputs": [],
   "source": [
    "def func_DFHB (x):\n",
    "    if x<=7: return \"a. less than 7\"\n",
    "    else: return \"c. more than 7\"\n",
    "df['DistanceFromHome_bin'] = df['DistanceFromHome'].apply(func_DFHB)"
   ]
  },
  {
   "cell_type": "code",
   "execution_count": 115,
   "metadata": {},
   "outputs": [],
   "source": [
    "def func_MIB (x):\n",
    "    if x<3000: return \"a. 3000\"\n",
    "    elif x<5000: return \"b. 5000\"\n",
    "    else: return \"c. more\"\n",
    "df['MonthlyIncome_bin'] = df['MonthlyIncome'].apply(func_MIB)"
   ]
  },
  {
   "cell_type": "code",
   "execution_count": 116,
   "metadata": {
    "collapsed": true
   },
   "outputs": [],
   "source": [
    "def BTB (x):\n",
    "    if x==\"Travel_Frequently\": return \"Travel_Frequently\"\n",
    "    else: return \"Others\"\n",
    "df['BusinessTravel_bin'] = df['BusinessTravel'].apply(BTB)"
   ]
  },
  {
   "cell_type": "code",
   "execution_count": 117,
   "metadata": {},
   "outputs": [
    {
     "name": "stdout",
     "output_type": "stream",
     "text": [
      "<class 'pandas.core.frame.DataFrame'>\n",
      "Int64Index: 1470 entries, 0 to 1469\n",
      "Data columns (total 14 columns):\n",
      "Attrition                       1470 non-null object\n",
      "Department_bin                  1470 non-null object\n",
      "EnvironmentSatisfaction_bin     1470 non-null object\n",
      "JobInvolvement                  1470 non-null int64\n",
      "JobLevel_bin                    1470 non-null object\n",
      "JobSatisfaction_bin             1470 non-null object\n",
      "OverTime                        1470 non-null object\n",
      "RelationshipSatisfaction_bin    1470 non-null object\n",
      "StockOptionLevel_bin            1470 non-null object\n",
      "WorkLifeBalance_bin             1470 non-null object\n",
      "DistanceFromHome_bin            1470 non-null object\n",
      "MonthlyIncome_bin               1470 non-null object\n",
      "BusinessTravel_bin              1470 non-null object\n",
      "x                               1470 non-null int64\n",
      "dtypes: int64(2), object(12)\n",
      "memory usage: 172.3+ KB\n"
     ]
    }
   ],
   "source": [
    "df = df[['Attrition','Department_bin','EnvironmentSatisfaction_bin','JobInvolvement','JobLevel_bin','JobSatisfaction_bin',\n",
    "         'OverTime','RelationshipSatisfaction_bin','StockOptionLevel_bin','WorkLifeBalance_bin','DistanceFromHome_bin',\n",
    "         'MonthlyIncome_bin','BusinessTravel_bin']].copy()\n",
    "df['x'] = df.index\n",
    "df.info()"
   ]
  },
  {
   "cell_type": "markdown",
   "metadata": {},
   "source": [
    "# 2.1 Department_bin"
   ]
  },
  {
   "cell_type": "code",
   "execution_count": 118,
   "metadata": {},
   "outputs": [
    {
     "data": {
      "text/plain": [
       "<matplotlib.legend.Legend at 0x1584502ba20>"
      ]
     },
     "execution_count": 118,
     "metadata": {},
     "output_type": "execute_result"
    },
    {
     "data": {
      "image/png": "[encoded data removed]",
      "text/plain": [
       "<matplotlib.figure.Figure at 0x1584619f940>"
      ]
     },
     "metadata": {},
     "output_type": "display_data"
    }
   ],
   "source": [
    "temp = df.pivot_table(values=['x'], index=['Department_bin'], columns=['Attrition'], aggfunc='count')\n",
    "temp = temp.apply(lambda c: c / c.sum() * 100, axis=1)\n",
    "temp.plot(kind=\"bar\",stacked=True)\n",
    "plt.legend(loc='center left', bbox_to_anchor=(1.0, 0.5))"
   ]
  },
  {
   "cell_type": "markdown",
   "metadata": {},
   "source": [
    "# 2.2 EnvironmentSatisfaction_bin"
   ]
  },
  {
   "cell_type": "code",
   "execution_count": 119,
   "metadata": {},
   "outputs": [
    {
     "data": {
      "text/plain": [
       "<matplotlib.legend.Legend at 0x15846f4dd68>"
      ]
     },
     "execution_count": 119,
     "metadata": {},
     "output_type": "execute_result"
    },
    {
     "data": {
      "image/png": "[encoded data removed]",
      "text/plain": [
       "<matplotlib.figure.Figure at 0x15846f05b00>"
      ]
     },
     "metadata": {},
     "output_type": "display_data"
    }
   ],
   "source": [
    "temp = df.pivot_table(values=['x'], index=['EnvironmentSatisfaction_bin'], columns=['Attrition'], aggfunc='count')\n",
    "temp = temp.apply(lambda c: c / c.sum() * 100, axis=1)\n",
    "temp.plot(kind=\"bar\",stacked=True)\n",
    "plt.legend(loc='center left', bbox_to_anchor=(1.0, 0.5))"
   ]
  },
  {
   "cell_type": "markdown",
   "metadata": {},
   "source": [
    "# 2.3 JobInvolvement"
   ]
  },
  {
   "cell_type": "code",
   "execution_count": 120,
   "metadata": {},
   "outputs": [
    {
     "data": {
      "text/plain": [
       "<matplotlib.legend.Legend at 0x15847055518>"
      ]
     },
     "execution_count": 120,
     "metadata": {},
     "output_type": "execute_result"
    },
    {
     "data": {
      "image/png": "[encoded data removed]",
      "text/plain": [
       "<matplotlib.figure.Figure at 0x15847055860>"
      ]
     },
     "metadata": {},
     "output_type": "display_data"
    }
   ],
   "source": [
    "temp = df.pivot_table(values=['x'], index=['JobInvolvement'], columns=['Attrition'], aggfunc='count')\n",
    "temp = temp.apply(lambda c: c / c.sum() * 100, axis=1)\n",
    "temp.plot(kind=\"bar\",stacked=True)\n",
    "plt.legend(loc='center left', bbox_to_anchor=(1.0, 0.5))"
   ]
  },
  {
   "cell_type": "markdown",
   "metadata": {},
   "source": [
    "# 2.4 JobLevel_bin"
   ]
  },
  {
   "cell_type": "code",
   "execution_count": 121,
   "metadata": {},
   "outputs": [
    {
     "data": {
      "text/plain": [
       "<matplotlib.legend.Legend at 0x15846f6b3c8>"
      ]
     },
     "execution_count": 121,
     "metadata": {},
     "output_type": "execute_result"
    },
    {
     "data": {
      "image/png": "[encoded data removed]",
      "text/plain": [
       "<matplotlib.figure.Figure at 0x158470466a0>"
      ]
     },
     "metadata": {},
     "output_type": "display_data"
    }
   ],
   "source": [
    "temp = df.pivot_table(values=['x'], index=['JobLevel_bin'], columns=['Attrition'], aggfunc='count')\n",
    "temp = temp.apply(lambda c: c / c.sum() * 100, axis=1)\n",
    "temp.plot(kind=\"bar\",stacked=True)\n",
    "plt.legend(loc='center left', bbox_to_anchor=(1.0, 0.5))"
   ]
  },
  {
   "cell_type": "markdown",
   "metadata": {},
   "source": [
    "# 2.5 JobSatisfaction_bin"
   ]
  },
  {
   "cell_type": "code",
   "execution_count": 122,
   "metadata": {},
   "outputs": [
    {
     "data": {
      "text/plain": [
       "<matplotlib.legend.Legend at 0x15847133128>"
      ]
     },
     "execution_count": 122,
     "metadata": {},
     "output_type": "execute_result"
    },
    {
     "data": {
      "image/png": "[encoded data removed]",
      "text/plain": [
       "<matplotlib.figure.Figure at 0x15847139438>"
      ]
     },
     "metadata": {},
     "output_type": "display_data"
    }
   ],
   "source": [
    "temp = df.pivot_table(values=['x'], index=['JobSatisfaction_bin'], columns=['Attrition'], aggfunc='count')\n",
    "temp = temp.apply(lambda c: c / c.sum() * 100, axis=1)\n",
    "temp.plot(kind=\"bar\",stacked=True)\n",
    "plt.legend(loc='center left', bbox_to_anchor=(1.0, 0.5))"
   ]
  },
  {
   "cell_type": "markdown",
   "metadata": {},
   "source": [
    "# 2.6 OverTime"
   ]
  },
  {
   "cell_type": "code",
   "execution_count": 123,
   "metadata": {},
   "outputs": [
    {
     "data": {
      "text/plain": [
       "<matplotlib.legend.Legend at 0x15847101390>"
      ]
     },
     "execution_count": 123,
     "metadata": {},
     "output_type": "execute_result"
    },
    {
     "data": {
      "image/png": "[encoded data removed]",
      "text/plain": [
       "<matplotlib.figure.Figure at 0x15846f59b38>"
      ]
     },
     "metadata": {},
     "output_type": "display_data"
    }
   ],
   "source": [
    "temp = df.pivot_table(values=['x'], index=['OverTime'], columns=['Attrition'], aggfunc='count')\n",
    "temp = temp.apply(lambda c: c / c.sum() * 100, axis=1)\n",
    "temp.plot(kind=\"bar\",stacked=True)\n",
    "plt.legend(loc='center left', bbox_to_anchor=(1.0, 0.5))"
   ]
  },
  {
   "cell_type": "markdown",
   "metadata": {},
   "source": [
    "# 2.7 RelationshipSatisfaction_bin"
   ]
  },
  {
   "cell_type": "code",
   "execution_count": 124,
   "metadata": {},
   "outputs": [
    {
     "data": {
      "text/plain": [
       "<matplotlib.legend.Legend at 0x158471e14e0>"
      ]
     },
     "execution_count": 124,
     "metadata": {},
     "output_type": "execute_result"
    },
    {
     "data": {
      "image/png": "[encoded data removed]",
      "text/plain": [
       "<matplotlib.figure.Figure at 0x1584719a2e8>"
      ]
     },
     "metadata": {},
     "output_type": "display_data"
    }
   ],
   "source": [
    "temp = df.pivot_table(values=['x'], index=['RelationshipSatisfaction_bin'], columns=['Attrition'], aggfunc='count')\n",
    "temp = temp.apply(lambda c: c / c.sum() * 100, axis=1)\n",
    "temp.plot(kind=\"bar\",stacked=True)\n",
    "plt.legend(loc='center left', bbox_to_anchor=(1.0, 0.5))"
   ]
  },
  {
   "cell_type": "markdown",
   "metadata": {},
   "source": [
    "# 2.8 StockOptionLevel_bin"
   ]
  },
  {
   "cell_type": "code",
   "execution_count": 125,
   "metadata": {},
   "outputs": [
    {
     "data": {
      "text/plain": [
       "<matplotlib.legend.Legend at 0x15847280438>"
      ]
     },
     "execution_count": 125,
     "metadata": {},
     "output_type": "execute_result"
    },
    {
     "data": {
      "image/png": "[encoded data removed]",
      "text/plain": [
       "<matplotlib.figure.Figure at 0x158472742b0>"
      ]
     },
     "metadata": {},
     "output_type": "display_data"
    }
   ],
   "source": [
    "temp = df.pivot_table(values=['x'], index=['StockOptionLevel_bin'], columns=['Attrition'], aggfunc='count')\n",
    "temp = temp.apply(lambda c: c / c.sum() * 100, axis=1)\n",
    "temp.plot(kind=\"bar\",stacked=True)\n",
    "plt.legend(loc='center left', bbox_to_anchor=(1.0, 0.5))"
   ]
  },
  {
   "cell_type": "markdown",
   "metadata": {},
   "source": [
    "# 2.9 WorkLifeBalance_bin"
   ]
  },
  {
   "cell_type": "code",
   "execution_count": 126,
   "metadata": {},
   "outputs": [
    {
     "data": {
      "text/plain": [
       "<matplotlib.legend.Legend at 0x1584615b780>"
      ]
     },
     "execution_count": 126,
     "metadata": {},
     "output_type": "execute_result"
    },
    {
     "data": {
      "image/png": "[encoded data removed]",
      "text/plain": [
       "<matplotlib.figure.Figure at 0x158472486a0>"
      ]
     },
     "metadata": {},
     "output_type": "display_data"
    }
   ],
   "source": [
    "temp = df.pivot_table(values=['x'], index=['WorkLifeBalance_bin'], columns=['Attrition'], aggfunc='count')\n",
    "temp = temp.apply(lambda c: c / c.sum() * 100, axis=1)\n",
    "temp.plot(kind=\"bar\",stacked=True)\n",
    "plt.legend(loc='center left', bbox_to_anchor=(1.0, 0.5))"
   ]
  },
  {
   "cell_type": "markdown",
   "metadata": {},
   "source": [
    "# 2.10 DistanceFromHome_bin"
   ]
  },
  {
   "cell_type": "code",
   "execution_count": 127,
   "metadata": {},
   "outputs": [
    {
     "data": {
      "text/plain": [
       "<matplotlib.legend.Legend at 0x15847097f28>"
      ]
     },
     "execution_count": 127,
     "metadata": {},
     "output_type": "execute_result"
    },
    {
     "data": {
      "image/png": "[encoded data removed]",
      "text/plain": [
       "<matplotlib.figure.Figure at 0x15847062898>"
      ]
     },
     "metadata": {},
     "output_type": "display_data"
    }
   ],
   "source": [
    "temp = df.pivot_table(values=['x'], index=['DistanceFromHome_bin'], columns=['Attrition'], aggfunc='count')\n",
    "temp = temp.apply(lambda c: c / c.sum() * 100, axis=1)\n",
    "temp.plot(kind=\"bar\",stacked=True)\n",
    "plt.legend(loc='center left', bbox_to_anchor=(1.0, 0.5))"
   ]
  },
  {
   "cell_type": "markdown",
   "metadata": {},
   "source": [
    "# 2.11 MonthlyIncome_bin"
   ]
  },
  {
   "cell_type": "code",
   "execution_count": 128,
   "metadata": {},
   "outputs": [
    {
     "data": {
      "text/plain": [
       "<matplotlib.legend.Legend at 0x158473c3710>"
      ]
     },
     "execution_count": 128,
     "metadata": {},
     "output_type": "execute_result"
    },
    {
     "data": {
      "image/png": "[encoded data removed]",
      "text/plain": [
       "<matplotlib.figure.Figure at 0x158473c3860>"
      ]
     },
     "metadata": {},
     "output_type": "display_data"
    }
   ],
   "source": [
    "temp = df.pivot_table(values=['x'], index=['MonthlyIncome_bin'], columns=['Attrition'], aggfunc='count')\n",
    "temp = temp.apply(lambda c: c / c.sum() * 100, axis=1)\n",
    "temp.plot(kind=\"bar\",stacked=True)\n",
    "plt.legend(loc='center left', bbox_to_anchor=(1.0, 0.5))"
   ]
  },
  {
   "cell_type": "markdown",
   "metadata": {},
   "source": [
    "# 2.12 BusinessTravel_bin"
   ]
  },
  {
   "cell_type": "code",
   "execution_count": 129,
   "metadata": {},
   "outputs": [
    {
     "data": {
      "text/plain": [
       "<matplotlib.legend.Legend at 0x158472c1a20>"
      ]
     },
     "execution_count": 129,
     "metadata": {},
     "output_type": "execute_result"
    },
    {
     "data": {
      "image/png": "[encoded data removed]",
      "text/plain": [
       "<matplotlib.figure.Figure at 0x158473f3ba8>"
      ]
     },
     "metadata": {},
     "output_type": "display_data"
    }
   ],
   "source": [
    "temp = df.pivot_table(values=['x'], index=['BusinessTravel_bin'], columns=['Attrition'], aggfunc='count')\n",
    "temp = temp.apply(lambda c: c / c.sum() * 100, axis=1)\n",
    "temp.plot(kind=\"bar\",stacked=True)\n",
    "plt.legend(loc='center left', bbox_to_anchor=(1.0, 0.5))"
   ]
  },
  {
   "cell_type": "markdown",
   "metadata": {},
   "source": [
    "# 3 Train Test Split"
   ]
  },
  {
   "cell_type": "code",
   "execution_count": 130,
   "metadata": {},
   "outputs": [],
   "source": [
    "df['actual'] = df['Attrition'].apply(lambda x: 0 if x == \"No\" else 1)\n",
    "df.drop(['x','Attrition'],axis=1,inplace=True)"
   ]
  },
  {
   "cell_type": "code",
   "execution_count": 131,
   "metadata": {
    "collapsed": true
   },
   "outputs": [],
   "source": [
    "cat_feats = ['Department_bin','EnvironmentSatisfaction_bin','JobInvolvement','JobLevel_bin','JobSatisfaction_bin',\n",
    "             'OverTime','RelationshipSatisfaction_bin','StockOptionLevel_bin','WorkLifeBalance_bin','DistanceFromHome_bin',\n",
    "             'MonthlyIncome_bin','BusinessTravel_bin']\n",
    "final_data = pd.get_dummies(df,columns=cat_feats,drop_first=True)"
   ]
  },
  {
   "cell_type": "code",
   "execution_count": 132,
   "metadata": {
    "collapsed": true
   },
   "outputs": [],
   "source": [
    "x = final_data.drop(['actual'],axis=1)\n",
    "y = final_data['actual']\n",
    "x_train, x_test, y_train, y_test = train_test_split(x,y,test_size=0.3, random_state=101)"
   ]
  },
  {
   "cell_type": "markdown",
   "metadata": {},
   "source": [
    "# 4 Building the Model"
   ]
  },
  {
   "cell_type": "code",
   "execution_count": 133,
   "metadata": {},
   "outputs": [
    {
     "name": "stdout",
     "output_type": "stream",
     "text": [
      "Optimization terminated successfully.\n",
      "         Current function value: 0.308594\n",
      "         Iterations 7\n"
     ]
    },
    {
     "data": {
      "text/html": [
       "<table class=\"simpletable\">\n",
       "<caption>Logit Regression Results</caption>\n",
       "<tr>\n",
       "  <th>Dep. Variable:</th>      <td>actual</td>      <th>  No. Observations:  </th>  <td>  1029</td>  \n",
       "</tr>\n",
       "<tr>\n",
       "  <th>Model:</th>               <td>Logit</td>      <th>  Df Residuals:      </th>  <td>  1012</td>  \n",
       "</tr>\n",
       "<tr>\n",
       "  <th>Method:</th>               <td>MLE</td>       <th>  Df Model:          </th>  <td>    16</td>  \n",
       "</tr>\n",
       "<tr>\n",
       "  <th>Date:</th>          <td>Sat, 18 Nov 2017</td> <th>  Pseudo R-squ.:     </th>  <td>0.3041</td>  \n",
       "</tr>\n",
       "<tr>\n",
       "  <th>Time:</th>              <td>19:34:06</td>     <th>  Log-Likelihood:    </th> <td> -317.54</td> \n",
       "</tr>\n",
       "<tr>\n",
       "  <th>converged:</th>           <td>True</td>       <th>  LL-Null:           </th> <td> -456.31</td> \n",
       "</tr>\n",
       "<tr>\n",
       "  <th> </th>                      <td> </td>        <th>  LLR p-value:       </th> <td>1.119e-49</td>\n",
       "</tr>\n",
       "</table>\n",
       "<table class=\"simpletable\">\n",
       "<tr>\n",
       "                    <td></td>                      <th>coef</th>     <th>std err</th>      <th>z</th>      <th>P>|z|</th>  <th>[0.025</th>    <th>0.975]</th>  \n",
       "</tr>\n",
       "<tr>\n",
       "  <th>const</th>                                <td>    3.5341</td> <td>    0.701</td> <td>    5.042</td> <td> 0.000</td> <td>    2.160</td> <td>    4.908</td>\n",
       "</tr>\n",
       "<tr>\n",
       "  <th>Department_bin_R&D</th>                   <td>   -0.8353</td> <td>    0.225</td> <td>   -3.706</td> <td> 0.000</td> <td>   -1.277</td> <td>   -0.393</td>\n",
       "</tr>\n",
       "<tr>\n",
       "  <th>EnvironmentSatisfaction_bin_Others</th>   <td>   -1.0828</td> <td>    0.241</td> <td>   -4.484</td> <td> 0.000</td> <td>   -1.556</td> <td>   -0.610</td>\n",
       "</tr>\n",
       "<tr>\n",
       "  <th>JobInvolvement_2</th>                     <td>   -0.9030</td> <td>    0.397</td> <td>   -2.273</td> <td> 0.023</td> <td>   -1.682</td> <td>   -0.124</td>\n",
       "</tr>\n",
       "<tr>\n",
       "  <th>JobInvolvement_3</th>                     <td>   -1.4880</td> <td>    0.380</td> <td>   -3.912</td> <td> 0.000</td> <td>   -2.234</td> <td>   -0.742</td>\n",
       "</tr>\n",
       "<tr>\n",
       "  <th>JobInvolvement_4</th>                     <td>   -2.5896</td> <td>    0.597</td> <td>   -4.338</td> <td> 0.000</td> <td>   -3.760</td> <td>   -1.420</td>\n",
       "</tr>\n",
       "<tr>\n",
       "  <th>JobLevel_bin_Others</th>                  <td>   -1.1028</td> <td>    0.270</td> <td>   -4.089</td> <td> 0.000</td> <td>   -1.631</td> <td>   -0.574</td>\n",
       "</tr>\n",
       "<tr>\n",
       "  <th>JobSatisfaction_bin_b. Others</th>        <td>   -0.5344</td> <td>    0.260</td> <td>   -2.057</td> <td> 0.040</td> <td>   -1.043</td> <td>   -0.025</td>\n",
       "</tr>\n",
       "<tr>\n",
       "  <th>JobSatisfaction_bin_c. 4</th>             <td>   -0.9720</td> <td>    0.298</td> <td>   -3.260</td> <td> 0.001</td> <td>   -1.556</td> <td>   -0.388</td>\n",
       "</tr>\n",
       "<tr>\n",
       "  <th>OverTime_Yes</th>                         <td>    1.9280</td> <td>    0.222</td> <td>    8.683</td> <td> 0.000</td> <td>    1.493</td> <td>    2.363</td>\n",
       "</tr>\n",
       "<tr>\n",
       "  <th>RelationshipSatisfaction_bin_Others</th>  <td>   -0.6023</td> <td>    0.255</td> <td>   -2.365</td> <td> 0.018</td> <td>   -1.102</td> <td>   -0.103</td>\n",
       "</tr>\n",
       "<tr>\n",
       "  <th>StockOptionLevel_bin_Others</th>          <td>   -1.2413</td> <td>    0.216</td> <td>   -5.760</td> <td> 0.000</td> <td>   -1.664</td> <td>   -0.819</td>\n",
       "</tr>\n",
       "<tr>\n",
       "  <th>WorkLifeBalance_bin_Others</th>           <td>   -1.3481</td> <td>    0.383</td> <td>   -3.524</td> <td> 0.000</td> <td>   -2.098</td> <td>   -0.598</td>\n",
       "</tr>\n",
       "<tr>\n",
       "  <th>DistanceFromHome_bin_c. more than 7</th>  <td>    0.6811</td> <td>    0.208</td> <td>    3.276</td> <td> 0.001</td> <td>    0.274</td> <td>    1.089</td>\n",
       "</tr>\n",
       "<tr>\n",
       "  <th>MonthlyIncome_bin_b. 5000</th>            <td>   -0.7269</td> <td>    0.289</td> <td>   -2.515</td> <td> 0.012</td> <td>   -1.293</td> <td>   -0.160</td>\n",
       "</tr>\n",
       "<tr>\n",
       "  <th>MonthlyIncome_bin_c. more</th>            <td>   -1.2396</td> <td>    0.278</td> <td>   -4.461</td> <td> 0.000</td> <td>   -1.784</td> <td>   -0.695</td>\n",
       "</tr>\n",
       "<tr>\n",
       "  <th>BusinessTravel_bin_Travel_Frequently</th> <td>    1.0450</td> <td>    0.233</td> <td>    4.482</td> <td> 0.000</td> <td>    0.588</td> <td>    1.502</td>\n",
       "</tr>\n",
       "</table>"
      ],
      "text/plain": [
       "<class 'statsmodels.iolib.summary.Summary'>\n",
       "\"\"\"\n",
       "                           Logit Regression Results                           \n",
       "==============================================================================\n",
       "Dep. Variable:                 actual   No. Observations:                 1029\n",
       "Model:                          Logit   Df Residuals:                     1012\n",
       "Method:                           MLE   Df Model:                           16\n",
       "Date:                Sat, 18 Nov 2017   Pseudo R-squ.:                  0.3041\n",
       "Time:                        19:34:06   Log-Likelihood:                -317.54\n",
       "converged:                       True   LL-Null:                       -456.31\n",
       "                                        LLR p-value:                 1.119e-49\n",
       "========================================================================================================\n",
       "                                           coef    std err          z      P>|z|      [0.025      0.975]\n",
       "--------------------------------------------------------------------------------------------------------\n",
       "const                                    3.5341      0.701      5.042      0.000       2.160       4.908\n",
       "Department_bin_R&D                      -0.8353      0.225     -3.706      0.000      -1.277      -0.393\n",
       "EnvironmentSatisfaction_bin_Others      -1.0828      0.241     -4.484      0.000      -1.556      -0.610\n",
       "JobInvolvement_2                        -0.9030      0.397     -2.273      0.023      -1.682      -0.124\n",
       "JobInvolvement_3                        -1.4880      0.380     -3.912      0.000      -2.234      -0.742\n",
       "JobInvolvement_4                        -2.5896      0.597     -4.338      0.000      -3.760      -1.420\n",
       "JobLevel_bin_Others                     -1.1028      0.270     -4.089      0.000      -1.631      -0.574\n",
       "JobSatisfaction_bin_b. Others           -0.5344      0.260     -2.057      0.040      -1.043      -0.025\n",
       "JobSatisfaction_bin_c. 4                -0.9720      0.298     -3.260      0.001      -1.556      -0.388\n",
       "OverTime_Yes                             1.9280      0.222      8.683      0.000       1.493       2.363\n",
       "RelationshipSatisfaction_bin_Others     -0.6023      0.255     -2.365      0.018      -1.102      -0.103\n",
       "StockOptionLevel_bin_Others             -1.2413      0.216     -5.760      0.000      -1.664      -0.819\n",
       "WorkLifeBalance_bin_Others              -1.3481      0.383     -3.524      0.000      -2.098      -0.598\n",
       "DistanceFromHome_bin_c. more than 7      0.6811      0.208      3.276      0.001       0.274       1.089\n",
       "MonthlyIncome_bin_b. 5000               -0.7269      0.289     -2.515      0.012      -1.293      -0.160\n",
       "MonthlyIncome_bin_c. more               -1.2396      0.278     -4.461      0.000      -1.784      -0.695\n",
       "BusinessTravel_bin_Travel_Frequently     1.0450      0.233      4.482      0.000       0.588       1.502\n",
       "========================================================================================================\n",
       "\"\"\""
      ]
     },
     "execution_count": 133,
     "metadata": {},
     "output_type": "execute_result"
    }
   ],
   "source": [
    "x_train = sm.add_constant(x_train).copy()\n",
    "logit = sm.Logit(y_train, x_train)\n",
    "result = logit.fit()\n",
    "result.summary()"
   ]
  },
  {
   "cell_type": "code",
   "execution_count": 134,
   "metadata": {
    "collapsed": true
   },
   "outputs": [],
   "source": [
    "x_test = sm.add_constant(x_test).copy()\n",
    "y_pred = result.predict(x_test)\n",
    "x_test = x_test.reset_index(drop=True)\n",
    "y_test = y_test.reset_index(drop=True)\n",
    "y_pred = y_pred.reset_index(drop=True)\n",
    "test_calc = pd.concat([x_test,y_test,pd.DataFrame(y_pred)],axis=1)\n",
    "test_calc.rename(columns={0: 'predicted'}, inplace=True)"
   ]
  },
  {
   "cell_type": "code",
   "execution_count": 135,
   "metadata": {},
   "outputs": [
    {
     "name": "stdout",
     "output_type": "stream",
     "text": [
      "max c:  0.35\n",
      "max a:  0.55\n"
     ]
    },
    {
     "data": {
      "image/png": "[encoded data removed]",
      "text/plain": [
       "<matplotlib.figure.Figure at 0x15846f3df60>"
      ]
     },
     "metadata": {},
     "output_type": "display_data"
    }
   ],
   "source": [
    "c = [0.15,0.2,0.25,0.3,0.35,0.4,0.45,0.5,0.55,0.6,0.65,0.7,0.75,0.8,0.85]\n",
    "a = [0.15,0.2,0.25,0.3,0.35,0.4,0.45,0.5,0.55,0.6,0.65,0.7,0.75,0.8,0.85]\n",
    "p = [0.15,0.2,0.25,0.3,0.35,0.4,0.45,0.5,0.55,0.6,0.65,0.7,0.75,0.8,0.85]\n",
    "r = [0.15,0.2,0.25,0.3,0.35,0.4,0.45,0.5,0.55,0.6,0.65,0.7,0.75,0.8,0.85]\n",
    "f = [0.15,0.2,0.25,0.3,0.35,0.4,0.45,0.5,0.55,0.6,0.65,0.7,0.75,0.8,0.85]\n",
    "i = 0\n",
    "\n",
    "for j in c:\n",
    "    def flag(cols):\n",
    "        x = cols[0]\n",
    "        j = cols[1]\n",
    "        if x > j: return 1\n",
    "        else: return 0\n",
    "    test_calc['j']=j\n",
    "    test_calc['flag'] = test_calc[['predicted','j']].apply(flag,axis=1)\n",
    "    df_table = confusion_matrix(test_calc['actual'],test_calc['flag'])\n",
    "    a[i] = (df_table[0,0] + df_table[1,1]) / (df_table[0,0] + df_table[0,1] + df_table[1,0] + df_table[1,1])\n",
    "    p[i] = df_table[1,1] / (df_table[1,1] + df_table[0,1])\n",
    "    r[i] = df_table[1,1] / (df_table[1,1] + df_table[1,0])\n",
    "    f[i] = (2 * p[i] * r[i]) / (p[i] + r[i])\n",
    "    i = i+1\n",
    "\n",
    "df_decision = pd.concat([pd.DataFrame(c),pd.DataFrame(a),pd.DataFrame(p),pd.DataFrame(r),pd.DataFrame(f)],axis=1)\n",
    "df_decision.columns = ['c','a','p','r','f']\n",
    "\n",
    "f_max = df_decision[df_decision['f']==df_decision['f'].max()].head(1)\n",
    "max_c = float(f_max['c'])\n",
    "a_max = df_decision[df_decision['a']==df_decision['a'].max()].head(1)\n",
    "max_a = float(a_max['c'])\n",
    "\n",
    "df_decision.plot(x='c',y=['f','a'],marker=\"o\")\n",
    "\n",
    "print (\"max c: \",max_c)\n",
    "print (\"max a: \",max_a)"
   ]
  },
  {
   "cell_type": "markdown",
   "metadata": {},
   "source": [
    "# 5 Predictions and Evaluation"
   ]
  },
  {
   "cell_type": "code",
   "execution_count": 136,
   "metadata": {},
   "outputs": [
    {
     "name": "stdout",
     "output_type": "stream",
     "text": [
      "[[339  32]\n",
      " [ 27  43]]\n",
      "accuracy: 0.866213151927\n",
      "precision: 0.573333333333\n",
      "recall: 0.614285714286\n",
      "f1 score:  0.593103448276\n"
     ]
    }
   ],
   "source": [
    "test_calc['predicted'] = test_calc['predicted'].apply(lambda x: 1 if x > 0.35 else 0)\n",
    "df_table = confusion_matrix(test_calc['actual'],test_calc['predicted'])\n",
    "print (df_table)\n",
    "\n",
    "print('accuracy:', (df_table[0,0] + df_table[1,1]) / (df_table[0,0] + df_table[0,1] + df_table[1,0] + df_table[1,1]))\n",
    "print ('precision:', df_table[1,1] / (df_table[1,1] + df_table[0,1]))\n",
    "print('recall:', df_table[1,1] / (df_table[1,1] + df_table[1,0]))\n",
    "\n",
    "p = df_table[1,1] / (df_table[1,1] + df_table[0,1])\n",
    "r = df_table[1,1] / (df_table[1,1] + df_table[1,0])\n",
    "print('f1 score: ', (2*p*r)/(p+r))"
   ]
  },
  {
   "cell_type": "code",
   "execution_count": null,
   "metadata": {
    "collapsed": true
   },
   "outputs": [],
   "source": []
  }
 ],
 "metadata": {
  "kernelspec": {
   "display_name": "Python 3",
   "language": "python",
   "name": "python3"
  },
  "language_info": {
   "codemirror_mode": {
    "name": "ipython",
    "version": 3
   },
   "file_extension": ".py",
   "mimetype": "text/x-python",
   "name": "python",
   "nbconvert_exporter": "python",
   "pygments_lexer": "ipython3",
   "version": "3.6.2"
  }
 },
 "nbformat": 4,
 "nbformat_minor": 2
}

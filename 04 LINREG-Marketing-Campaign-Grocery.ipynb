{
 "cells": [
  {
   "cell_type": "markdown",
   "metadata": {},
   "source": [
    "# Marketing Campaign Plan (Grocery Store)"
   ]
  },
  {
   "cell_type": "markdown",
   "metadata": {},
   "source": [
    "###### Using this dataset around Coupons, you can quickly analyze marketing campaigns based on responses, revenue and other key metrics. Predict who will respond to which campaign, which channel they will use and why and thereby increase the likelihood of responses and quality of leads in future campaigns."
   ]
  },
  {
   "cell_type": "code",
   "execution_count": 74,
   "metadata": {
    "collapsed": true
   },
   "outputs": [],
   "source": [
    "import math\n",
    "import numpy as np\n",
    "import pandas as pd\n",
    "from datetime import datetime\n",
    "\n",
    "import seaborn as sns\n",
    "import matplotlib.pyplot as plt\n",
    "%matplotlib inline \n",
    "plt.style.use('seaborn-whitegrid')\n",
    "\n",
    "from sklearn.model_selection import train_test_split\n",
    "from sklearn.linear_model import LinearRegression\n",
    "from sklearn import metrics\n",
    "import statsmodels.api as sm"
   ]
  },
  {
   "cell_type": "markdown",
   "metadata": {},
   "source": [
    "# 1 Get the Data"
   ]
  },
  {
   "cell_type": "code",
   "execution_count": 75,
   "metadata": {},
   "outputs": [
    {
     "name": "stdout",
     "output_type": "stream",
     "text": [
      "<class 'pandas.core.frame.DataFrame'>\n",
      "RangeIndex: 1496 entries, 0 to 1495\n",
      "Data columns (total 15 columns):\n",
      "storeid           1496 non-null int64\n",
      "HealthyStore      1496 non-null object\n",
      "StoreSize         1496 non-null object\n",
      "StoreLayout       1496 non-null object\n",
      "customerID        1496 non-null object\n",
      "gender            1496 non-null object\n",
      "WhoShoppingFor    1496 non-null object\n",
      "Vegetarian        1496 non-null object\n",
      "ShoppingStyle     1496 non-null object\n",
      "CouponUser        1496 non-null object\n",
      "week              1496 non-null int64\n",
      "CouponSequence    1496 non-null object\n",
      "CarryOver         1496 non-null int64\n",
      "CouponValue       1496 non-null object\n",
      "AmountSpent       1496 non-null float64\n",
      "dtypes: float64(1), int64(3), object(11)\n",
      "memory usage: 175.4+ KB\n"
     ]
    }
   ],
   "source": [
    "df = pd.read_csv('04 WA_Fn-UseC_-Marketing-Campaign-Plan_-GroceryS.csv')\n",
    "df.info()"
   ]
  },
  {
   "cell_type": "code",
   "execution_count": 76,
   "metadata": {
    "collapsed": true
   },
   "outputs": [],
   "source": [
    "def func_SS (x):\n",
    "    if x=='Weekly; similar items': return 'Weekly'\n",
    "    else: return'Biweekly + Often'\n",
    "df['ShoppingStyle_bin'] = df['ShoppingStyle'].apply(func_SS)"
   ]
  },
  {
   "cell_type": "code",
   "execution_count": 77,
   "metadata": {
    "collapsed": true
   },
   "outputs": [],
   "source": [
    "def func_C (x):\n",
    "    if x in ('From both','From mailings'): return 'Mails + Both'\n",
    "    else: return 'Newspaper + No'\n",
    "df['CouponUser_bin'] = df['CouponUser'].apply(func_C)"
   ]
  },
  {
   "cell_type": "code",
   "execution_count": 78,
   "metadata": {},
   "outputs": [
    {
     "name": "stdout",
     "output_type": "stream",
     "text": [
      "<class 'pandas.core.frame.DataFrame'>\n",
      "RangeIndex: 1496 entries, 0 to 1495\n",
      "Data columns (total 7 columns):\n",
      "HealthyStore         1496 non-null object\n",
      "StoreSize            1496 non-null object\n",
      "WhoShoppingFor       1496 non-null object\n",
      "CouponValue          1496 non-null object\n",
      "AmountSpent          1496 non-null float64\n",
      "ShoppingStyle_bin    1496 non-null object\n",
      "CouponUser_bin       1496 non-null object\n",
      "dtypes: float64(1), object(6)\n",
      "memory usage: 81.9+ KB\n"
     ]
    }
   ],
   "source": [
    "df = df[['HealthyStore','StoreSize','WhoShoppingFor','CouponValue','AmountSpent',\n",
    "         'ShoppingStyle_bin','CouponUser_bin']].copy()\n",
    "df.info()"
   ]
  },
  {
   "cell_type": "markdown",
   "metadata": {},
   "source": [
    "# 2a HealthyStore"
   ]
  },
  {
   "cell_type": "code",
   "execution_count": 79,
   "metadata": {},
   "outputs": [
    {
     "data": {
      "text/plain": [
       "<matplotlib.axes._subplots.AxesSubplot at 0x14c74091320>"
      ]
     },
     "execution_count": 79,
     "metadata": {},
     "output_type": "execute_result"
    },
    {
     "data": {
      "image/png": "[encoded data removed]",
      "text/plain": [
       "<matplotlib.figure.Figure at 0x14c74091e48>"
      ]
     },
     "metadata": {},
     "output_type": "display_data"
    }
   ],
   "source": [
    "temp = pd.DataFrame(df.groupby(['HealthyStore'], axis=0, as_index=False)['AmountSpent'].sum())\n",
    "plt.figure(figsize=(8,4))\n",
    "sns.barplot(x=\"HealthyStore\", y=\"AmountSpent\",data=temp)"
   ]
  },
  {
   "cell_type": "markdown",
   "metadata": {},
   "source": [
    "# 2b StoreSize"
   ]
  },
  {
   "cell_type": "code",
   "execution_count": 80,
   "metadata": {},
   "outputs": [
    {
     "data": {
      "text/plain": [
       "<matplotlib.axes._subplots.AxesSubplot at 0x14c7404e390>"
      ]
     },
     "execution_count": 80,
     "metadata": {},
     "output_type": "execute_result"
    },
    {
     "data": {
      "image/png": "[encoded data removed]",
      "text/plain": [
       "<matplotlib.figure.Figure at 0x14c7408c5c0>"
      ]
     },
     "metadata": {},
     "output_type": "display_data"
    }
   ],
   "source": [
    "temp = pd.DataFrame(df.groupby(['StoreSize'], axis=0, as_index=False)['AmountSpent'].sum())\n",
    "plt.figure(figsize=(8,4))\n",
    "sns.barplot(x=\"StoreSize\", y=\"AmountSpent\",data=temp)"
   ]
  },
  {
   "cell_type": "markdown",
   "metadata": {},
   "source": [
    "# 2c CouponValue"
   ]
  },
  {
   "cell_type": "code",
   "execution_count": 81,
   "metadata": {},
   "outputs": [
    {
     "data": {
      "text/plain": [
       "<matplotlib.axes._subplots.AxesSubplot at 0x14c7408c668>"
      ]
     },
     "execution_count": 81,
     "metadata": {},
     "output_type": "execute_result"
    },
    {
     "data": {
      "image/png": "[encoded data removed]",
      "text/plain": [
       "<matplotlib.figure.Figure at 0x14c73fe59b0>"
      ]
     },
     "metadata": {},
     "output_type": "display_data"
    }
   ],
   "source": [
    "temp = pd.DataFrame(df.groupby(['CouponValue'], axis=0, as_index=False)['AmountSpent'].sum())\n",
    "plt.figure(figsize=(8,4))\n",
    "sns.barplot(x=\"CouponValue\", y=\"AmountSpent\",data=temp)"
   ]
  },
  {
   "cell_type": "markdown",
   "metadata": {},
   "source": [
    "# 2d ShoppingStyle_bin"
   ]
  },
  {
   "cell_type": "code",
   "execution_count": 82,
   "metadata": {},
   "outputs": [
    {
     "data": {
      "text/plain": [
       "<matplotlib.axes._subplots.AxesSubplot at 0x14c7412ecc0>"
      ]
     },
     "execution_count": 82,
     "metadata": {},
     "output_type": "execute_result"
    },
    {
     "data": {
      "image/png": "[encoded data removed]",
      "text/plain": [
       "<matplotlib.figure.Figure at 0x14c740746a0>"
      ]
     },
     "metadata": {},
     "output_type": "display_data"
    }
   ],
   "source": [
    "temp = pd.DataFrame(df.groupby(['ShoppingStyle_bin'], axis=0, as_index=False)['AmountSpent'].sum())\n",
    "plt.figure(figsize=(8,4))\n",
    "sns.barplot(x=\"ShoppingStyle_bin\", y=\"AmountSpent\",data=temp)"
   ]
  },
  {
   "cell_type": "markdown",
   "metadata": {},
   "source": [
    "# 2e CouponUser_bin"
   ]
  },
  {
   "cell_type": "code",
   "execution_count": 83,
   "metadata": {},
   "outputs": [
    {
     "data": {
      "text/plain": [
       "<matplotlib.axes._subplots.AxesSubplot at 0x14c74190fd0>"
      ]
     },
     "execution_count": 83,
     "metadata": {},
     "output_type": "execute_result"
    },
    {
     "data": {
      "image/png": "[encoded data removed]",
      "text/plain": [
       "<matplotlib.figure.Figure at 0x14c7408c748>"
      ]
     },
     "metadata": {},
     "output_type": "display_data"
    }
   ],
   "source": [
    "temp = pd.DataFrame(df.groupby(['CouponUser_bin'], axis=0, as_index=False)['AmountSpent'].sum())\n",
    "plt.figure(figsize=(8,4))\n",
    "sns.barplot(x=\"CouponUser_bin\", y=\"AmountSpent\",data=temp)"
   ]
  },
  {
   "cell_type": "markdown",
   "metadata": {},
   "source": [
    "# 3 Train Test Split"
   ]
  },
  {
   "cell_type": "code",
   "execution_count": 84,
   "metadata": {
    "collapsed": true
   },
   "outputs": [],
   "source": [
    "df = df[df['AmountSpent'] > 50].copy()\n",
    "df.dropna(inplace=True)\n",
    "df.drop(['StoreSize','HealthyStore'],axis=1,inplace=True)"
   ]
  },
  {
   "cell_type": "code",
   "execution_count": 85,
   "metadata": {
    "collapsed": true
   },
   "outputs": [],
   "source": [
    "cat_feats = ['WhoShoppingFor','CouponValue','ShoppingStyle_bin','CouponUser_bin']\n",
    "final_data = pd.get_dummies(df,columns=cat_feats,drop_first=True)"
   ]
  },
  {
   "cell_type": "code",
   "execution_count": 86,
   "metadata": {
    "collapsed": true
   },
   "outputs": [],
   "source": [
    "x = final_data.drop(['AmountSpent'],axis=1)\n",
    "y = final_data['AmountSpent']\n",
    "x_train, x_test, y_train, y_test = train_test_split(x,y,test_size=0.3, random_state=101)"
   ]
  },
  {
   "cell_type": "markdown",
   "metadata": {},
   "source": [
    "# 4 Building the Model"
   ]
  },
  {
   "cell_type": "code",
   "execution_count": 87,
   "metadata": {},
   "outputs": [
    {
     "name": "stdout",
     "output_type": "stream",
     "text": [
      "                            OLS Regression Results                            \n",
      "==============================================================================\n",
      "Dep. Variable:            AmountSpent   R-squared:                       0.465\n",
      "Model:                            OLS   Adj. R-squared:                  0.461\n",
      "Method:                 Least Squares   F-statistic:                     116.1\n",
      "Date:                Fri, 17 Nov 2017   Prob (F-statistic):          1.75e-122\n",
      "Time:                        22:59:27   Log-Likelihood:                -4564.1\n",
      "No. Observations:                 945   AIC:                             9144.\n",
      "Df Residuals:                     937   BIC:                             9183.\n",
      "Df Model:                           7                                         \n",
      "Covariance Type:            nonrobust                                         \n",
      "==================================================================================================\n",
      "                                     coef    std err          t      P>|t|      [0.025      0.975]\n",
      "--------------------------------------------------------------------------------------------------\n",
      "const                            123.6454      2.778     44.501      0.000     118.193     129.098\n",
      "WhoShoppingFor_Self and family    56.1086      2.585     21.701      0.000      51.035      61.183\n",
      "WhoShoppingFor_Self and spouse    21.7690      2.262      9.622      0.000      17.329      26.209\n",
      "CouponValue_05 percent             9.0030      2.761      3.261      0.001       3.584      14.422\n",
      "CouponValue_15 percent            16.9076      2.800      6.039      0.000      11.413      22.402\n",
      "CouponValue_25 percent            19.9738      2.814      7.099      0.000      14.452      25.496\n",
      "ShoppingStyle_bin_Weekly         -32.8965      2.136    -15.401      0.000     -37.088     -28.704\n",
      "CouponUser_bin_Newspaper + No     -7.4576      2.029     -3.675      0.000     -11.440      -3.475\n",
      "==============================================================================\n",
      "Omnibus:                      238.219   Durbin-Watson:                   2.016\n",
      "Prob(Omnibus):                  0.000   Jarque-Bera (JB):              671.886\n",
      "Skew:                           1.266   Prob(JB):                    1.26e-146\n",
      "Kurtosis:                       6.263   Cond. No.                         6.50\n",
      "==============================================================================\n",
      "\n",
      "Warnings:\n",
      "[1] Standard Errors assume that the covariance matrix of the errors is correctly specified.\n"
     ]
    }
   ],
   "source": [
    "x_train = sm.add_constant(x_train).copy()\n",
    "lm_sm = sm.OLS(y_train, x_train)\n",
    "est = lm_sm.fit()\n",
    "print(est.summary())"
   ]
  },
  {
   "cell_type": "markdown",
   "metadata": {},
   "source": [
    "# 5 Predictions and Evaluation"
   ]
  },
  {
   "cell_type": "code",
   "execution_count": 88,
   "metadata": {},
   "outputs": [
    {
     "name": "stdout",
     "output_type": "stream",
     "text": [
      "BIAS: 1.99\n",
      "MAPE: 17.73 %\n"
     ]
    }
   ],
   "source": [
    "x_test = sm.add_constant(x_test).copy()\n",
    "y_pred = est.predict(x_test)\n",
    "\n",
    "print('BIAS:', round(np.mean(y_test - y_pred),2))\n",
    "print('MAPE:', round(np.mean(np.absolute((y_test - y_pred)/y_test))*100,2), \"%\")"
   ]
  }
 ],
 "metadata": {
  "kernelspec": {
   "display_name": "Python 3",
   "language": "python",
   "name": "python3"
  },
  "language_info": {
   "codemirror_mode": {
    "name": "ipython",
    "version": 3
   },
   "file_extension": ".py",
   "mimetype": "text/x-python",
   "name": "python",
   "nbconvert_exporter": "python",
   "pygments_lexer": "ipython3",
   "version": "3.6.2"
  }
 },
 "nbformat": 4,
 "nbformat_minor": 2
}

{
 "cells": [
  {
   "cell_type": "markdown",
   "metadata": {},
   "source": [
    "# 12 Time Use Survey"
   ]
  },
  {
   "cell_type": "markdown",
   "metadata": {},
   "source": [
    "###### This dataset comprises demographic, select personal and other attributes of a subset of Americans. For example, use Explore to find interesting trends about how Americans spend their time."
   ]
  },
  {
   "cell_type": "code",
   "execution_count": 32,
   "metadata": {
    "collapsed": true
   },
   "outputs": [],
   "source": [
    "import math\n",
    "import numpy as np\n",
    "import pandas as pd\n",
    "from datetime import datetime\n",
    "\n",
    "import seaborn as sns\n",
    "import matplotlib.pyplot as plt\n",
    "%matplotlib inline \n",
    "plt.style.use('seaborn-whitegrid')\n",
    "\n",
    "from sklearn.model_selection import train_test_split\n",
    "from sklearn.neighbors import KNeighborsClassifier\n",
    "from sklearn.metrics import classification_report,confusion_matrix"
   ]
  },
  {
   "cell_type": "markdown",
   "metadata": {},
   "source": [
    "# 1 Get the Data"
   ]
  },
  {
   "cell_type": "code",
   "execution_count": 33,
   "metadata": {},
   "outputs": [
    {
     "name": "stdout",
     "output_type": "stream",
     "text": [
      "<class 'pandas.core.frame.DataFrame'>\n",
      "RangeIndex: 97275 entries, 0 to 97274\n",
      "Data columns (total 23 columns):\n",
      "Education Level           97275 non-null object\n",
      "Age                       97275 non-null int64\n",
      "Age Range                 97275 non-null object\n",
      "Employment Status         97275 non-null object\n",
      "Gender                    97275 non-null object\n",
      "Children                  97275 non-null int64\n",
      "Weekly Earnings           97275 non-null int64\n",
      "Year                      97275 non-null int64\n",
      "Weekly Hours Worked       97275 non-null int64\n",
      "Sleeping                  97275 non-null int64\n",
      "Grooming                  97275 non-null int64\n",
      "Housework                 97275 non-null int64\n",
      "Food & Drink Prep         97275 non-null int64\n",
      "Caring for Children       97275 non-null int64\n",
      "Playing with Children     97275 non-null int64\n",
      "Job Searching             97275 non-null int64\n",
      "Shopping                  97275 non-null int64\n",
      "Eating and Drinking       97275 non-null int64\n",
      "Socializing & Relaxing    97275 non-null int64\n",
      "Television                97275 non-null int64\n",
      "Golfing                   97275 non-null int64\n",
      "Running                   97275 non-null int64\n",
      "Volunteering              97275 non-null int64\n",
      "dtypes: int64(19), object(4)\n",
      "memory usage: 17.1+ MB\n"
     ]
    }
   ],
   "source": [
    "df = pd.read_csv('12 WA_American-Time-Use-Survey-lite.csv')\n",
    "df.info()"
   ]
  },
  {
   "cell_type": "code",
   "execution_count": 34,
   "metadata": {
    "collapsed": true
   },
   "outputs": [],
   "source": [
    "df1 = df[(df['Age']>=20) & (df['Age']<=69)].copy()\n",
    "df2 = df1[(df1['Weekly Hours Worked']<=69) & (df1['Weekly Hours Worked']>=10)].copy()\n",
    "df3 = df2[(df2['Weekly Earnings']>200) & (df2['Weekly Earnings']<2000)].copy()\n",
    "df4 = df3[df3['Children']<=3].copy()"
   ]
  },
  {
   "cell_type": "code",
   "execution_count": 35,
   "metadata": {
    "collapsed": true
   },
   "outputs": [],
   "source": [
    "def func_EL (x):\n",
    "    if x in ('9th grade','10th grade','11th grade','12th grade','High School'): return '1. Lower'\n",
    "    elif x in ('Some College','Associate Degree'): return '2. Meduim'\n",
    "    elif x in ('Bachelor','Master'): return '3. Higher'\n",
    "    elif x in ('Doctoral Degree','Prof. Degree'): return '4. Professional'\n",
    "    else: return '5. Others'\n",
    "df4['Education Level bin'] = df4['Education Level'].apply(func_EL)"
   ]
  },
  {
   "cell_type": "code",
   "execution_count": 36,
   "metadata": {
    "collapsed": true
   },
   "outputs": [],
   "source": [
    "def func_WHW (x):\n",
    "    if x<25: return '1. y < 25'\n",
    "    elif x<40: return '2. y < 40'\n",
    "    elif x==40: return '3. y = 40'\n",
    "    elif x<50: return '4. y < 50'\n",
    "    else: return '5. y >= 50'\n",
    "df4['Weekly Hours Worked bin'] = df4['Weekly Hours Worked'].apply(func_WHW)"
   ]
  },
  {
   "cell_type": "code",
   "execution_count": 37,
   "metadata": {},
   "outputs": [
    {
     "name": "stdout",
     "output_type": "stream",
     "text": [
      "<class 'pandas.core.frame.DataFrame'>\n",
      "Int64Index: 40877 entries, 1 to 97273\n",
      "Data columns (total 4 columns):\n",
      "Education Level bin        40877 non-null object\n",
      "Gender                     40877 non-null object\n",
      "Weekly Earnings            40877 non-null int64\n",
      "Weekly Hours Worked bin    40877 non-null object\n",
      "dtypes: int64(1), object(3)\n",
      "memory usage: 1.6+ MB\n"
     ]
    }
   ],
   "source": [
    "df = df4[['Education Level bin','Gender','Weekly Earnings','Weekly Hours Worked bin']].copy()\n",
    "df.dropna(inplace=True)\n",
    "df.info()"
   ]
  },
  {
   "cell_type": "markdown",
   "metadata": {},
   "source": [
    "# 2a Education Level"
   ]
  },
  {
   "cell_type": "code",
   "execution_count": 38,
   "metadata": {},
   "outputs": [
    {
     "data": {
      "text/plain": [
       "<matplotlib.axes._subplots.AxesSubplot at 0x25718761e10>"
      ]
     },
     "execution_count": 38,
     "metadata": {},
     "output_type": "execute_result"
    },
    {
     "data": {
      "image/png": "[encoded data removed]",
      "text/plain": [
       "<matplotlib.figure.Figure at 0x25718344c18>"
      ]
     },
     "metadata": {},
     "output_type": "display_data"
    }
   ],
   "source": [
    "temp = pd.DataFrame(df.groupby(['Education Level bin'], axis=0, as_index=False)['Weekly Earnings'].mean())\n",
    "plt.figure(figsize=(8,4))\n",
    "sns.barplot(x=\"Education Level bin\", y=\"Weekly Earnings\",data=temp)"
   ]
  },
  {
   "cell_type": "markdown",
   "metadata": {},
   "source": [
    "# 2b Weekly Hours Worked"
   ]
  },
  {
   "cell_type": "code",
   "execution_count": 39,
   "metadata": {},
   "outputs": [
    {
     "data": {
      "text/plain": [
       "<matplotlib.axes._subplots.AxesSubplot at 0x2571b5442e8>"
      ]
     },
     "execution_count": 39,
     "metadata": {},
     "output_type": "execute_result"
    },
    {
     "data": {
      "image/png": "[encoded data removed]",
      "text/plain": [
       "<matplotlib.figure.Figure at 0x257180d6f28>"
      ]
     },
     "metadata": {},
     "output_type": "display_data"
    }
   ],
   "source": [
    "temp = pd.DataFrame(df.groupby(['Weekly Hours Worked bin'], axis=0, as_index=False)['Weekly Earnings'].mean())\n",
    "plt.figure(figsize=(8,4))\n",
    "sns.barplot(x=\"Weekly Hours Worked bin\", y=\"Weekly Earnings\",data=temp)"
   ]
  },
  {
   "cell_type": "markdown",
   "metadata": {},
   "source": [
    " # 3 Train Test Split"
   ]
  },
  {
   "cell_type": "code",
   "execution_count": 40,
   "metadata": {},
   "outputs": [],
   "source": [
    "def WE_bins (x):\n",
    "    if x <= 500: return \"a. less than 500\"\n",
    "    else: return \"b. more than 500\"\n",
    "df['actual'] = df['Weekly Earnings'].apply(WE_bins)"
   ]
  },
  {
   "cell_type": "code",
   "execution_count": 41,
   "metadata": {},
   "outputs": [],
   "source": [
    "cat_feats = ['Education Level bin','Gender','Weekly Hours Worked bin']\n",
    "final_data = pd.get_dummies(df,columns=cat_feats,drop_first=True)"
   ]
  },
  {
   "cell_type": "code",
   "execution_count": 42,
   "metadata": {},
   "outputs": [],
   "source": [
    "x = final_data.drop(['Weekly Earnings','actual'],axis=1)\n",
    "y = final_data['actual']\n",
    "x_train, x_test, y_train, y_test = train_test_split(x,y,test_size=0.3, random_state=101)"
   ]
  },
  {
   "cell_type": "markdown",
   "metadata": {},
   "source": [
    "# 4 Building the Model"
   ]
  },
  {
   "cell_type": "code",
   "execution_count": 43,
   "metadata": {},
   "outputs": [
    {
     "data": {
      "text/plain": [
       "Text(0,0.5,'Error Rate')"
      ]
     },
     "execution_count": 43,
     "metadata": {},
     "output_type": "execute_result"
    },
    {
     "data": {
      "image/png": "[encoded data removed]",
      "text/plain": [
       "<matplotlib.figure.Figure at 0x2571b5ed320>"
      ]
     },
     "metadata": {},
     "output_type": "display_data"
    }
   ],
   "source": [
    "error_rate = []\n",
    "for i in range(1,51,5):    \n",
    "    knn = KNeighborsClassifier(n_neighbors=i)\n",
    "    knn.fit(x_train,y_train)\n",
    "    pred_i = knn.predict(x_test)\n",
    "    error_rate.append(np.mean(pred_i != y_test))\n",
    "\n",
    "plt.figure(figsize=(8,4))\n",
    "plt.plot(range(1,51,5),error_rate,color='darkred', marker='o',markersize=10)\n",
    "plt.title('Error Rate vs. K Value')\n",
    "plt.xlabel('K')\n",
    "plt.ylabel('Error Rate')"
   ]
  },
  {
   "cell_type": "markdown",
   "metadata": {},
   "source": [
    "# 5 Predictions and Evaluation"
   ]
  },
  {
   "cell_type": "code",
   "execution_count": 44,
   "metadata": {},
   "outputs": [
    {
     "name": "stdout",
     "output_type": "stream",
     "text": [
      "\u001b[1m\u001b[4maccuracy\u001b[0m\n",
      "77.38 %\n",
      "\n",
      "\n",
      "\u001b[1m\u001b[4mclassification_report\u001b[0m\n",
      "                  precision    recall  f1-score   support\n",
      "\n",
      "a. less than 500       0.63      0.49      0.55      3489\n",
      "b. more than 500       0.81      0.89      0.85      8775\n",
      "\n",
      "     avg / total       0.76      0.77      0.76     12264\n",
      "\n",
      "\n",
      "\n",
      "\u001b[1m\u001b[4mconfusion_matrix\u001b[0m\n",
      "[[1702 1787]\n",
      " [ 987 7788]]\n"
     ]
    }
   ],
   "source": [
    "knn = KNeighborsClassifier(n_neighbors=15)\n",
    "knn.fit(x_train,y_train)\n",
    "y_pred = knn.predict(x_test)\n",
    "\n",
    "print('\\033[1m' + '\\033[4m' + 'accuracy' + '\\033[0m')\n",
    "print(round(np.mean(y_test==y_pred)*100,2),\"%\")\n",
    "print('\\n')\n",
    "print('\\033[1m' + '\\033[4m' + 'classification_report' + '\\033[0m')\n",
    "print(classification_report(y_test,y_pred))\n",
    "print('\\n')\n",
    "print('\\033[1m' + '\\033[4m' + 'confusion_matrix' + '\\033[0m')\n",
    "print(confusion_matrix(y_test,y_pred))"
   ]
  },
  {
   "cell_type": "code",
   "execution_count": null,
   "metadata": {
    "collapsed": true
   },
   "outputs": [],
   "source": []
  }
 ],
 "metadata": {
  "kernelspec": {
   "display_name": "Python 3",
   "language": "python",
   "name": "python3"
  },
  "language_info": {
   "codemirror_mode": {
    "name": "ipython",
    "version": 3
   },
   "file_extension": ".py",
   "mimetype": "text/x-python",
   "name": "python",
   "nbconvert_exporter": "python",
   "pygments_lexer": "ipython3",
   "version": "3.6.2"
  }
 },
 "nbformat": 4,
 "nbformat_minor": 2
}

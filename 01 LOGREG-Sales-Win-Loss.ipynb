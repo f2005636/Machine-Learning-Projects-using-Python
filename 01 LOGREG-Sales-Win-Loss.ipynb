{
 "cells": [
  {
   "cell_type": "markdown",
   "metadata": {},
   "source": [
    "# Sales Win Loss"
   ]
  },
  {
   "cell_type": "markdown",
   "metadata": {},
   "source": [
    "###### Understand your sales pipeline and uncover what can lead to successful sales opportunities and better anticipate performance gaps."
   ]
  },
  {
   "cell_type": "code",
   "execution_count": 25,
   "metadata": {},
   "outputs": [],
   "source": [
    "import math\n",
    "import numpy as np\n",
    "import pandas as pd\n",
    "from datetime import datetime\n",
    "\n",
    "import seaborn as sns\n",
    "import matplotlib.pyplot as plt\n",
    "%matplotlib inline \n",
    "plt.style.use('seaborn-whitegrid')\n",
    "\n",
    "from sklearn.model_selection import train_test_split\n",
    "from sklearn.linear_model import LogisticRegression\n",
    "from sklearn import metrics\n",
    "from sklearn.metrics import classification_report, confusion_matrix\n",
    "import statsmodels.api as sm"
   ]
  },
  {
   "cell_type": "markdown",
   "metadata": {},
   "source": [
    "# 1 Get the Data"
   ]
  },
  {
   "cell_type": "code",
   "execution_count": 26,
   "metadata": {},
   "outputs": [
    {
     "name": "stdout",
     "output_type": "stream",
     "text": [
      "<class 'pandas.core.frame.DataFrame'>\n",
      "Int64Index: 78025 entries, 0 to 78024\n",
      "Data columns (total 19 columns):\n",
      "Opportunity Number                         78025 non-null int64\n",
      "Supplies Subgroup                          78025 non-null object\n",
      "Supplies Group                             78025 non-null object\n",
      "Region                                     78025 non-null object\n",
      "Route To Market                            78025 non-null object\n",
      "Elapsed Days In Sales Stage                78025 non-null int64\n",
      "Opportunity Result                         78025 non-null object\n",
      "Sales Stage Change Count                   78025 non-null int64\n",
      "Total Days Identified Through Closing      78025 non-null int64\n",
      "Total Days Identified Through Qualified    78025 non-null int64\n",
      "Opportunity Amount USD                     78025 non-null int64\n",
      "Client Size By Revenue                     78025 non-null int64\n",
      "Client Size By Employee Count              78025 non-null int64\n",
      "Revenue From Client Past Two Years         78025 non-null int64\n",
      "Competitor Type                            78025 non-null object\n",
      "Ratio Days Identified To Total Days        78025 non-null float64\n",
      "Ratio Days Validated To Total Days         78025 non-null float64\n",
      "Ratio Days Qualified To Total Days         78025 non-null float64\n",
      "Deal Size Category                         78025 non-null int64\n",
      "dtypes: float64(3), int64(10), object(6)\n",
      "memory usage: 11.9+ MB\n"
     ]
    }
   ],
   "source": [
    "df = pd.read_csv('01 WA_Fn-UseC_-Sales-Win-Loss.csv')\n",
    "df.dropna(inplace=True)\n",
    "df.info()"
   ]
  },
  {
   "cell_type": "code",
   "execution_count": 27,
   "metadata": {
    "collapsed": true
   },
   "outputs": [],
   "source": [
    "def func_RFC (x):\n",
    "    if x == 0: return \"NO\"\n",
    "    else: return \"YES\"\n",
    "df['Revenue_Past_2Years_bin'] = df['Revenue From Client Past Two Years'].apply(func_RFC)"
   ]
  },
  {
   "cell_type": "code",
   "execution_count": 28,
   "metadata": {
    "collapsed": true
   },
   "outputs": [],
   "source": [
    "def func_RTM (x):\n",
    "    if x == \"Telecoverage\": return \"c. Telecoverage\"\n",
    "    elif x in (\"Reseller\",\"Telesales\"): return \"a. Reseller or Telesales\"\n",
    "    else: return \"b. Others\"\n",
    "df['Route_Market_bin'] = df['Route To Market'].apply(func_RTM)"
   ]
  },
  {
   "cell_type": "code",
   "execution_count": 29,
   "metadata": {
    "collapsed": true
   },
   "outputs": [],
   "source": [
    "def func_DSC (x):\n",
    "    if x == 1: return \"a. 1\"\n",
    "    elif x in (2,3): return \"b. 2 or 3\"\n",
    "    else: return \"c. Others\"\n",
    "df['Deal_Size_bin'] = df['Deal Size Category'].apply(func_DSC)"
   ]
  },
  {
   "cell_type": "code",
   "execution_count": 30,
   "metadata": {},
   "outputs": [],
   "source": [
    "def bin_SSCC (x):\n",
    "    if x <= 2: return \"a. <= 2 times\"\n",
    "    else: return \"b. > 2 times\"\n",
    "df['Sales_Change_bin'] = df['Sales Stage Change Count'].apply(bin_SSCC)"
   ]
  },
  {
   "cell_type": "code",
   "execution_count": 31,
   "metadata": {},
   "outputs": [],
   "source": [
    "def TDITQ (x):\n",
    "    if x < 4: return \"a. 0-4\"\n",
    "    elif x < 12: return \"b. 4-12\"\n",
    "    elif x < 24: return \"c. 12-24\"\n",
    "    else: return \"d. 24+\"\n",
    "df['Total_Days_Qualified_bin'] = df['Total Days Identified Through Qualified'].apply(TDITQ)"
   ]
  },
  {
   "cell_type": "code",
   "execution_count": 32,
   "metadata": {},
   "outputs": [
    {
     "name": "stdout",
     "output_type": "stream",
     "text": [
      "<class 'pandas.core.frame.DataFrame'>\n",
      "Int64Index: 78025 entries, 0 to 78024\n",
      "Data columns (total 24 columns):\n",
      "Opportunity Number                         78025 non-null int64\n",
      "Supplies Subgroup                          78025 non-null object\n",
      "Supplies Group                             78025 non-null object\n",
      "Region                                     78025 non-null object\n",
      "Route To Market                            78025 non-null object\n",
      "Elapsed Days In Sales Stage                78025 non-null int64\n",
      "Opportunity Result                         78025 non-null object\n",
      "Sales Stage Change Count                   78025 non-null int64\n",
      "Total Days Identified Through Closing      78025 non-null int64\n",
      "Total Days Identified Through Qualified    78025 non-null int64\n",
      "Opportunity Amount USD                     78025 non-null int64\n",
      "Client Size By Revenue                     78025 non-null int64\n",
      "Client Size By Employee Count              78025 non-null int64\n",
      "Revenue From Client Past Two Years         78025 non-null int64\n",
      "Competitor Type                            78025 non-null object\n",
      "Ratio Days Identified To Total Days        78025 non-null float64\n",
      "Ratio Days Validated To Total Days         78025 non-null float64\n",
      "Ratio Days Qualified To Total Days         78025 non-null float64\n",
      "Deal Size Category                         78025 non-null int64\n",
      "Revenue_Past_2Years_bin                    78025 non-null object\n",
      "Route_Market_bin                           78025 non-null object\n",
      "Deal_Size_bin                              78025 non-null object\n",
      "Sales_Change_bin                           78025 non-null object\n",
      "Total_Days_Qualified_bin                   78025 non-null object\n",
      "dtypes: float64(3), int64(10), object(11)\n",
      "memory usage: 14.9+ MB\n"
     ]
    }
   ],
   "source": [
    "df.info()"
   ]
  },
  {
   "cell_type": "code",
   "execution_count": 33,
   "metadata": {},
   "outputs": [
    {
     "name": "stdout",
     "output_type": "stream",
     "text": [
      "<class 'pandas.core.frame.DataFrame'>\n",
      "Int64Index: 78025 entries, 0 to 78024\n",
      "Data columns (total 7 columns):\n",
      "Opportunity Number          78025 non-null int64\n",
      "Opportunity Result          78025 non-null object\n",
      "Sales_Change_bin            78025 non-null object\n",
      "Total_Days_Qualified_bin    78025 non-null object\n",
      "Deal_Size_bin               78025 non-null object\n",
      "Revenue_Past_2Years_bin     78025 non-null object\n",
      "Route_Market_bin            78025 non-null object\n",
      "dtypes: int64(1), object(6)\n",
      "memory usage: 4.8+ MB\n"
     ]
    }
   ],
   "source": [
    "df = df[['Opportunity Number','Opportunity Result','Sales_Change_bin','Total_Days_Qualified_bin',\n",
    "         'Deal_Size_bin','Revenue_Past_2Years_bin','Route_Market_bin']].copy()\n",
    "df.info()"
   ]
  },
  {
   "cell_type": "markdown",
   "metadata": {},
   "source": [
    "# 2.1 Sales_Change_bin"
   ]
  },
  {
   "cell_type": "code",
   "execution_count": 34,
   "metadata": {},
   "outputs": [
    {
     "data": {
      "text/plain": [
       "<matplotlib.legend.Legend at 0x26cfcce7dd8>"
      ]
     },
     "execution_count": 34,
     "metadata": {},
     "output_type": "execute_result"
    },
    {
     "data": {
      "image/png": "[encoded data removed]",
      "text/plain": [
       "<matplotlib.figure.Figure at 0x26cfcce7e10>"
      ]
     },
     "metadata": {},
     "output_type": "display_data"
    }
   ],
   "source": [
    "temp = df.pivot_table(values=['Opportunity Number'], index=['Sales_Change_bin'], \n",
    "                      columns=['Opportunity Result'], aggfunc='count')\n",
    "temp = temp.apply(lambda c: c / c.sum() * 100, axis=1)\n",
    "temp.plot(kind=\"bar\",stacked=True)\n",
    "plt.legend(loc='center left', bbox_to_anchor=(1.0, 0.5))"
   ]
  },
  {
   "cell_type": "markdown",
   "metadata": {},
   "source": [
    "# 2.2 Total_Days_Qualified_bin"
   ]
  },
  {
   "cell_type": "code",
   "execution_count": 35,
   "metadata": {},
   "outputs": [
    {
     "data": {
      "text/plain": [
       "<matplotlib.legend.Legend at 0x26c80050b00>"
      ]
     },
     "execution_count": 35,
     "metadata": {},
     "output_type": "execute_result"
    },
    {
     "data": {
      "image/png": "[encoded data removed]",
      "text/plain": [
       "<matplotlib.figure.Figure at 0x26c8016abe0>"
      ]
     },
     "metadata": {},
     "output_type": "display_data"
    }
   ],
   "source": [
    "temp = df.pivot_table(values=['Opportunity Number'], index=['Total_Days_Qualified_bin'], \n",
    "                      columns=['Opportunity Result'], aggfunc='count')\n",
    "temp = temp.apply(lambda c: c / c.sum() * 100, axis=1)\n",
    "temp.plot(kind=\"bar\",stacked=True)\n",
    "plt.legend(loc='center left', bbox_to_anchor=(1.0, 0.5))"
   ]
  },
  {
   "cell_type": "markdown",
   "metadata": {},
   "source": [
    "# 2.3 Deal_Size_bin"
   ]
  },
  {
   "cell_type": "code",
   "execution_count": 36,
   "metadata": {},
   "outputs": [
    {
     "data": {
      "text/plain": [
       "<matplotlib.legend.Legend at 0x26c80046630>"
      ]
     },
     "execution_count": 36,
     "metadata": {},
     "output_type": "execute_result"
    },
    {
     "data": {
      "image/png": "[encoded data removed]",
      "text/plain": [
       "<matplotlib.figure.Figure at 0x26c80010908>"
      ]
     },
     "metadata": {},
     "output_type": "display_data"
    }
   ],
   "source": [
    "temp = df.pivot_table(values=['Opportunity Number'], index=['Deal_Size_bin'], \n",
    "                      columns=['Opportunity Result'], aggfunc='count')\n",
    "temp = temp.apply(lambda c: c / c.sum() * 100, axis=1)\n",
    "temp.plot(kind=\"bar\",stacked=True)\n",
    "plt.legend(loc='center left', bbox_to_anchor=(1.0, 0.5))"
   ]
  },
  {
   "cell_type": "markdown",
   "metadata": {},
   "source": [
    "# 2.4 Revenue_Past_2Years_bin"
   ]
  },
  {
   "cell_type": "code",
   "execution_count": 37,
   "metadata": {},
   "outputs": [
    {
     "data": {
      "text/plain": [
       "<matplotlib.legend.Legend at 0x26c801ce358>"
      ]
     },
     "execution_count": 37,
     "metadata": {},
     "output_type": "execute_result"
    },
    {
     "data": {
      "image/png": "[encoded data removed]",
      "text/plain": [
       "<matplotlib.figure.Figure at 0x26cfccadd30>"
      ]
     },
     "metadata": {},
     "output_type": "display_data"
    }
   ],
   "source": [
    "temp = df.pivot_table(values=['Opportunity Number'], index=['Revenue_Past_2Years_bin'], \n",
    "                      columns=['Opportunity Result'], aggfunc='count')\n",
    "temp = temp.apply(lambda c: c / c.sum() * 100, axis=1)\n",
    "temp.plot(kind=\"bar\",stacked=True)\n",
    "plt.legend(loc='center left', bbox_to_anchor=(1.0, 0.5))"
   ]
  },
  {
   "cell_type": "markdown",
   "metadata": {},
   "source": [
    "# 2.5 Route_Market_bin"
   ]
  },
  {
   "cell_type": "code",
   "execution_count": 38,
   "metadata": {},
   "outputs": [
    {
     "data": {
      "text/plain": [
       "<matplotlib.legend.Legend at 0x26cfcd135c0>"
      ]
     },
     "execution_count": 38,
     "metadata": {},
     "output_type": "execute_result"
    },
    {
     "data": {
      "image/png": "[encoded data removed]",
      "text/plain": [
       "<matplotlib.figure.Figure at 0x26cfccc72b0>"
      ]
     },
     "metadata": {},
     "output_type": "display_data"
    }
   ],
   "source": [
    "temp = df.pivot_table(values=['Opportunity Number'], index=['Route_Market_bin'], \n",
    "                      columns=['Opportunity Result'], aggfunc='count')\n",
    "temp = temp.apply(lambda c: c / c.sum() * 100, axis=1)\n",
    "temp.plot(kind=\"bar\",stacked=True)\n",
    "plt.legend(loc='center left', bbox_to_anchor=(1.0, 0.5))"
   ]
  },
  {
   "cell_type": "markdown",
   "metadata": {},
   "source": [
    "# 3 Train Test Split"
   ]
  },
  {
   "cell_type": "code",
   "execution_count": 39,
   "metadata": {
    "collapsed": true
   },
   "outputs": [],
   "source": [
    "df['actual'] = df['Opportunity Result'].apply(lambda x: 0 if x == \"Loss\" else 1)\n",
    "df.drop(['Opportunity Number','Opportunity Result'],axis=1,inplace=True)"
   ]
  },
  {
   "cell_type": "code",
   "execution_count": 40,
   "metadata": {
    "collapsed": true
   },
   "outputs": [],
   "source": [
    "cat_feats = ['Sales_Change_bin','Total_Days_Qualified_bin','Deal_Size_bin','Revenue_Past_2Years_bin','Route_Market_bin']\n",
    "final_data = pd.get_dummies(df,columns=cat_feats,drop_first=True)"
   ]
  },
  {
   "cell_type": "code",
   "execution_count": 41,
   "metadata": {
    "collapsed": true
   },
   "outputs": [],
   "source": [
    "x = final_data.drop(['actual'],axis=1)\n",
    "y = final_data['actual']\n",
    "x_train, x_test, y_train, y_test = train_test_split(x,y,test_size=0.3, random_state=101)"
   ]
  },
  {
   "cell_type": "markdown",
   "metadata": {},
   "source": [
    "# 4 Building the Model"
   ]
  },
  {
   "cell_type": "code",
   "execution_count": 42,
   "metadata": {},
   "outputs": [
    {
     "name": "stdout",
     "output_type": "stream",
     "text": [
      "Optimization terminated successfully.\n",
      "         Current function value: 0.377055\n",
      "         Iterations 7\n"
     ]
    },
    {
     "data": {
      "text/html": [
       "<table class=\"simpletable\">\n",
       "<caption>Logit Regression Results</caption>\n",
       "<tr>\n",
       "  <th>Dep. Variable:</th>      <td>actual</td>      <th>  No. Observations:  </th>  <td> 54617</td> \n",
       "</tr>\n",
       "<tr>\n",
       "  <th>Model:</th>               <td>Logit</td>      <th>  Df Residuals:      </th>  <td> 54607</td> \n",
       "</tr>\n",
       "<tr>\n",
       "  <th>Method:</th>               <td>MLE</td>       <th>  Df Model:          </th>  <td>     9</td> \n",
       "</tr>\n",
       "<tr>\n",
       "  <th>Date:</th>          <td>Sat, 18 Nov 2017</td> <th>  Pseudo R-squ.:     </th>  <td>0.2921</td> \n",
       "</tr>\n",
       "<tr>\n",
       "  <th>Time:</th>              <td>23:17:52</td>     <th>  Log-Likelihood:    </th> <td> -20594.</td>\n",
       "</tr>\n",
       "<tr>\n",
       "  <th>converged:</th>           <td>True</td>       <th>  LL-Null:           </th> <td> -29090.</td>\n",
       "</tr>\n",
       "<tr>\n",
       "  <th> </th>                      <td> </td>        <th>  LLR p-value:       </th>  <td> 0.000</td> \n",
       "</tr>\n",
       "</table>\n",
       "<table class=\"simpletable\">\n",
       "<tr>\n",
       "                  <td></td>                     <th>coef</th>     <th>std err</th>      <th>z</th>      <th>P>|z|</th>  <th>[0.025</th>    <th>0.975]</th>  \n",
       "</tr>\n",
       "<tr>\n",
       "  <th>const</th>                             <td>    0.0059</td> <td>    0.033</td> <td>    0.178</td> <td> 0.859</td> <td>   -0.059</td> <td>    0.070</td>\n",
       "</tr>\n",
       "<tr>\n",
       "  <th>Sales_Change_bin_b. > 2 times</th>     <td>    1.3816</td> <td>    0.028</td> <td>   49.548</td> <td> 0.000</td> <td>    1.327</td> <td>    1.436</td>\n",
       "</tr>\n",
       "<tr>\n",
       "  <th>Total_Days_Qualified_bin_b. 4-12</th>  <td>   -1.0618</td> <td>    0.031</td> <td>  -33.711</td> <td> 0.000</td> <td>   -1.124</td> <td>   -1.000</td>\n",
       "</tr>\n",
       "<tr>\n",
       "  <th>Total_Days_Qualified_bin_c. 12-24</th> <td>   -2.2504</td> <td>    0.038</td> <td>  -59.580</td> <td> 0.000</td> <td>   -2.324</td> <td>   -2.176</td>\n",
       "</tr>\n",
       "<tr>\n",
       "  <th>Total_Days_Qualified_bin_d. 24+</th>   <td>   -2.9472</td> <td>    0.044</td> <td>  -67.307</td> <td> 0.000</td> <td>   -3.033</td> <td>   -2.861</td>\n",
       "</tr>\n",
       "<tr>\n",
       "  <th>Deal_Size_bin_b. 2 or 3</th>           <td>   -0.6090</td> <td>    0.033</td> <td>  -18.210</td> <td> 0.000</td> <td>   -0.675</td> <td>   -0.543</td>\n",
       "</tr>\n",
       "<tr>\n",
       "  <th>Deal_Size_bin_c. Others</th>           <td>   -1.2265</td> <td>    0.034</td> <td>  -35.876</td> <td> 0.000</td> <td>   -1.294</td> <td>   -1.160</td>\n",
       "</tr>\n",
       "<tr>\n",
       "  <th>Revenue_Past_2Years_bin_YES</th>       <td>    2.3664</td> <td>    0.035</td> <td>   66.944</td> <td> 0.000</td> <td>    2.297</td> <td>    2.436</td>\n",
       "</tr>\n",
       "<tr>\n",
       "  <th>Route_Market_bin_b. Others</th>        <td>   -0.5880</td> <td>    0.026</td> <td>  -22.227</td> <td> 0.000</td> <td>   -0.640</td> <td>   -0.536</td>\n",
       "</tr>\n",
       "<tr>\n",
       "  <th>Route_Market_bin_c. Telecoverage</th>  <td>   -1.6607</td> <td>    0.210</td> <td>   -7.900</td> <td> 0.000</td> <td>   -2.073</td> <td>   -1.249</td>\n",
       "</tr>\n",
       "</table>"
      ],
      "text/plain": [
       "<class 'statsmodels.iolib.summary.Summary'>\n",
       "\"\"\"\n",
       "                           Logit Regression Results                           \n",
       "==============================================================================\n",
       "Dep. Variable:                 actual   No. Observations:                54617\n",
       "Model:                          Logit   Df Residuals:                    54607\n",
       "Method:                           MLE   Df Model:                            9\n",
       "Date:                Sat, 18 Nov 2017   Pseudo R-squ.:                  0.2921\n",
       "Time:                        23:17:52   Log-Likelihood:                -20594.\n",
       "converged:                       True   LL-Null:                       -29090.\n",
       "                                        LLR p-value:                     0.000\n",
       "=====================================================================================================\n",
       "                                        coef    std err          z      P>|z|      [0.025      0.975]\n",
       "-----------------------------------------------------------------------------------------------------\n",
       "const                                 0.0059      0.033      0.178      0.859      -0.059       0.070\n",
       "Sales_Change_bin_b. > 2 times         1.3816      0.028     49.548      0.000       1.327       1.436\n",
       "Total_Days_Qualified_bin_b. 4-12     -1.0618      0.031    -33.711      0.000      -1.124      -1.000\n",
       "Total_Days_Qualified_bin_c. 12-24    -2.2504      0.038    -59.580      0.000      -2.324      -2.176\n",
       "Total_Days_Qualified_bin_d. 24+      -2.9472      0.044    -67.307      0.000      -3.033      -2.861\n",
       "Deal_Size_bin_b. 2 or 3              -0.6090      0.033    -18.210      0.000      -0.675      -0.543\n",
       "Deal_Size_bin_c. Others              -1.2265      0.034    -35.876      0.000      -1.294      -1.160\n",
       "Revenue_Past_2Years_bin_YES           2.3664      0.035     66.944      0.000       2.297       2.436\n",
       "Route_Market_bin_b. Others           -0.5880      0.026    -22.227      0.000      -0.640      -0.536\n",
       "Route_Market_bin_c. Telecoverage     -1.6607      0.210     -7.900      0.000      -2.073      -1.249\n",
       "=====================================================================================================\n",
       "\"\"\""
      ]
     },
     "execution_count": 42,
     "metadata": {},
     "output_type": "execute_result"
    }
   ],
   "source": [
    "x_train = sm.add_constant(x_train).copy()\n",
    "logit = sm.Logit(y_train, x_train)\n",
    "result = logit.fit()\n",
    "result.summary()"
   ]
  },
  {
   "cell_type": "code",
   "execution_count": 43,
   "metadata": {
    "collapsed": true
   },
   "outputs": [],
   "source": [
    "x_test = sm.add_constant(x_test).copy()\n",
    "y_pred = result.predict(x_test)\n",
    "x_test = x_test.reset_index(drop=True)\n",
    "y_test = y_test.reset_index(drop=True)\n",
    "y_pred = y_pred.reset_index(drop=True)\n",
    "test_calc = pd.concat([x_test,y_test,pd.DataFrame(y_pred)],axis=1)\n",
    "test_calc.rename(columns={0: 'predicted'}, inplace=True)"
   ]
  },
  {
   "cell_type": "code",
   "execution_count": 44,
   "metadata": {},
   "outputs": [
    {
     "name": "stdout",
     "output_type": "stream",
     "text": [
      "max c:  0.3\n",
      "max a:  0.45\n"
     ]
    },
    {
     "data": {
      "image/png": "[encoded data removed]",
      "text/plain": [
       "<matplotlib.figure.Figure at 0x26c804cd8d0>"
      ]
     },
     "metadata": {},
     "output_type": "display_data"
    }
   ],
   "source": [
    "c = [0.15,0.2,0.25,0.3,0.35,0.4,0.45,0.5,0.55,0.6,0.65,0.7,0.75,0.8,0.85]\n",
    "a = [0.15,0.2,0.25,0.3,0.35,0.4,0.45,0.5,0.55,0.6,0.65,0.7,0.75,0.8,0.85]\n",
    "p = [0.15,0.2,0.25,0.3,0.35,0.4,0.45,0.5,0.55,0.6,0.65,0.7,0.75,0.8,0.85]\n",
    "r = [0.15,0.2,0.25,0.3,0.35,0.4,0.45,0.5,0.55,0.6,0.65,0.7,0.75,0.8,0.85]\n",
    "f = [0.15,0.2,0.25,0.3,0.35,0.4,0.45,0.5,0.55,0.6,0.65,0.7,0.75,0.8,0.85]\n",
    "i = 0\n",
    "\n",
    "for j in c:\n",
    "    def flag(cols):\n",
    "        x = cols[0]\n",
    "        j = cols[1]\n",
    "        if x > j: return 1\n",
    "        else: return 0\n",
    "    test_calc['j']=j\n",
    "    test_calc['flag'] = test_calc[['predicted','j']].apply(flag,axis=1)\n",
    "    df_table = confusion_matrix(test_calc['actual'],test_calc['flag'])\n",
    "    a[i] = (df_table[0,0] + df_table[1,1]) / (df_table[0,0] + df_table[0,1] + df_table[1,0] + df_table[1,1])\n",
    "    p[i] = df_table[1,1] / (df_table[1,1] + df_table[0,1])\n",
    "    r[i] = df_table[1,1] / (df_table[1,1] + df_table[1,0])\n",
    "    f[i] = (2 * p[i] * r[i]) / (p[i] + r[i])\n",
    "    i = i+1\n",
    "\n",
    "df_decision = pd.concat([pd.DataFrame(c),pd.DataFrame(a),pd.DataFrame(p),pd.DataFrame(r),pd.DataFrame(f)],axis=1)\n",
    "df_decision.columns = ['c','a','p','r','f']\n",
    "\n",
    "f_max = df_decision[df_decision['f']==df_decision['f'].max()].head(1)\n",
    "max_c = float(f_max['c'])\n",
    "a_max = df_decision[df_decision['a']==df_decision['a'].max()].head(1)\n",
    "max_a = float(a_max['c'])\n",
    "\n",
    "df_decision.plot(x='c',y=['f','a'],marker=\"o\")\n",
    "\n",
    "print (\"max c: \",max_c)\n",
    "print (\"max a: \",max_a)"
   ]
  },
  {
   "cell_type": "markdown",
   "metadata": {},
   "source": [
    "# 5 Predictions and Evaluation"
   ]
  },
  {
   "cell_type": "code",
   "execution_count": 45,
   "metadata": {},
   "outputs": [
    {
     "name": "stdout",
     "output_type": "stream",
     "text": [
      "[[15538  2508]\n",
      " [ 1852  3510]]\n",
      "accuracy: 0.813738892686\n",
      "precision: 0.583250249252\n",
      "recall: 0.654606490116\n",
      "f1 score:  0.616871704745\n"
     ]
    }
   ],
   "source": [
    "test_calc['predicted'] = test_calc['predicted'].apply(lambda x: 1 if x > 0.3 else 0)\n",
    "df_table = confusion_matrix(test_calc['actual'],test_calc['predicted'])\n",
    "print (df_table)\n",
    "\n",
    "print('accuracy:', (df_table[0,0] + df_table[1,1]) / (df_table[0,0] + df_table[0,1] + df_table[1,0] + df_table[1,1]))\n",
    "print ('precision:', df_table[1,1] / (df_table[1,1] + df_table[0,1]))\n",
    "print('recall:', df_table[1,1] / (df_table[1,1] + df_table[1,0]))\n",
    "\n",
    "p = df_table[1,1] / (df_table[1,1] + df_table[0,1])\n",
    "r = df_table[1,1] / (df_table[1,1] + df_table[1,0])\n",
    "print('f1 score: ', (2*p*r)/(p+r))"
   ]
  },
  {
   "cell_type": "code",
   "execution_count": null,
   "metadata": {
    "collapsed": true
   },
   "outputs": [],
   "source": []
  }
 ],
 "metadata": {
  "kernelspec": {
   "display_name": "Python 3",
   "language": "python",
   "name": "python3"
  },
  "language_info": {
   "codemirror_mode": {
    "name": "ipython",
    "version": 3
   },
   "file_extension": ".py",
   "mimetype": "text/x-python",
   "name": "python",
   "nbconvert_exporter": "python",
   "pygments_lexer": "ipython3",
   "version": "3.6.2"
  }
 },
 "nbformat": 4,
 "nbformat_minor": 2
}

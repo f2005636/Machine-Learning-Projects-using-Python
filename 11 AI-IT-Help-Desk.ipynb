{
 "cells": [
  {
   "cell_type": "markdown",
   "metadata": {},
   "source": [
    "# IT Help Desk"
   ]
  },
  {
   "cell_type": "markdown",
   "metadata": {},
   "source": [
    "###### Analyze helpdesk tickets, including number, amount of high priority, average response time and more. Understand what causes high priority tickets and improve resolution times with better understanding of ticket details."
   ]
  },
  {
   "cell_type": "code",
   "execution_count": 63,
   "metadata": {
    "collapsed": true
   },
   "outputs": [],
   "source": [
    "import math\n",
    "import numpy as np\n",
    "import pandas as pd\n",
    "from datetime import datetime\n",
    "\n",
    "import seaborn as sns\n",
    "import matplotlib.pyplot as plt\n",
    "%matplotlib inline \n",
    "plt.style.use('seaborn-whitegrid')"
   ]
  },
  {
   "cell_type": "markdown",
   "metadata": {},
   "source": [
    "# 1 Get the Data"
   ]
  },
  {
   "cell_type": "code",
   "execution_count": 64,
   "metadata": {},
   "outputs": [
    {
     "name": "stdout",
     "output_type": "stream",
     "text": [
      "<class 'pandas.core.frame.DataFrame'>\n",
      "RangeIndex: 100000 entries, 0 to 99999\n",
      "Data columns (total 10 columns):\n",
      "ticket                100000 non-null int64\n",
      "requestor             100000 non-null int64\n",
      "RequestorSeniority    100000 non-null object\n",
      "ITOwner               100000 non-null int64\n",
      "FiledAgainst          100000 non-null object\n",
      "TicketType            100000 non-null object\n",
      "Severity              100000 non-null object\n",
      "Priority              100000 non-null object\n",
      "daysOpen              100000 non-null int64\n",
      "Satisfaction          100000 non-null object\n",
      "dtypes: int64(4), object(6)\n",
      "memory usage: 7.6+ MB\n"
     ]
    }
   ],
   "source": [
    "df = pd.read_csv('11 WA_Fn-UseC_-IT-Help-Desk.csv')\n",
    "df.info()"
   ]
  },
  {
   "cell_type": "code",
   "execution_count": 65,
   "metadata": {},
   "outputs": [
    {
     "name": "stdout",
     "output_type": "stream",
     "text": [
      "<class 'pandas.core.frame.DataFrame'>\n",
      "Int64Index: 48624 entries, 1 to 99999\n",
      "Data columns (total 10 columns):\n",
      "ticket                48624 non-null int64\n",
      "requestor             48624 non-null int64\n",
      "RequestorSeniority    48624 non-null object\n",
      "ITOwner               48624 non-null int64\n",
      "FiledAgainst          48624 non-null object\n",
      "TicketType            48624 non-null object\n",
      "Severity              48624 non-null object\n",
      "Priority              48624 non-null object\n",
      "daysOpen              48624 non-null int64\n",
      "Satisfaction          48624 non-null object\n",
      "dtypes: int64(4), object(6)\n",
      "memory usage: 4.1+ MB\n"
     ]
    }
   ],
   "source": [
    "df1 = df[(df['Severity'] !='0 - Unclassified') & (df['Priority'] !='0 - Unassigned') \n",
    "        & (df['Satisfaction'] !='0 - Unknown')].copy()\n",
    "df1.info()"
   ]
  },
  {
   "cell_type": "code",
   "execution_count": 66,
   "metadata": {},
   "outputs": [],
   "source": [
    "def func_RS(x):\n",
    "    if x=='1 - Junior': return '1 - Junior'\n",
    "    elif x=='2 - Regular': return '2 - Regular'\n",
    "    else: return '3 - Senior Management'\n",
    "df1['RequestorSeniority bin'] = df1['RequestorSeniority'].apply(func_RS)"
   ]
  },
  {
   "cell_type": "code",
   "execution_count": 67,
   "metadata": {},
   "outputs": [],
   "source": [
    "def func_FA(x):\n",
    "    if x=='Hardware': return '1 - Hardware'\n",
    "    elif x in ('Software','Systems'): return '2 - Software & Systems'\n",
    "    else: return '3 - Others'\n",
    "df1['FiledAgainst bin'] = df1['FiledAgainst'].apply(func_FA)"
   ]
  },
  {
   "cell_type": "code",
   "execution_count": 68,
   "metadata": {
    "collapsed": true
   },
   "outputs": [],
   "source": [
    "df1['TicketType bin'] = df1['TicketType'].apply(lambda x: '1 - Request' if x=='Request' else '2 - Issue')"
   ]
  },
  {
   "cell_type": "code",
   "execution_count": 69,
   "metadata": {
    "collapsed": true
   },
   "outputs": [],
   "source": [
    "df1['Severity bin'] = df1['Severity'].apply(lambda x: '2 - Minor' if x=='1 - Minor' else '1 - Major')"
   ]
  },
  {
   "cell_type": "code",
   "execution_count": 70,
   "metadata": {},
   "outputs": [
    {
     "name": "stdout",
     "output_type": "stream",
     "text": [
      "<class 'pandas.core.frame.DataFrame'>\n",
      "Int64Index: 48624 entries, 1 to 99999\n",
      "Data columns (total 7 columns):\n",
      "Priority                  48624 non-null object\n",
      "daysOpen                  48624 non-null int64\n",
      "Satisfaction              48624 non-null object\n",
      "RequestorSeniority bin    48624 non-null object\n",
      "FiledAgainst bin          48624 non-null object\n",
      "TicketType bin            48624 non-null object\n",
      "Severity bin              48624 non-null object\n",
      "dtypes: int64(1), object(6)\n",
      "memory usage: 3.0+ MB\n"
     ]
    }
   ],
   "source": [
    "df2 = df1.drop(['ticket','requestor','ITOwner','RequestorSeniority','FiledAgainst','TicketType','Severity']\n",
    "               ,axis=1).copy()\n",
    "df2.info()"
   ]
  },
  {
   "cell_type": "markdown",
   "metadata": {},
   "source": [
    "# 2a RequestorSeniority"
   ]
  },
  {
   "cell_type": "code",
   "execution_count": 71,
   "metadata": {},
   "outputs": [
    {
     "data": {
      "text/plain": [
       "<matplotlib.axes._subplots.AxesSubplot at 0x235e937cac8>"
      ]
     },
     "execution_count": 71,
     "metadata": {},
     "output_type": "execute_result"
    },
    {
     "data": {
      "image/png": "[encoded data removed]",
      "text/plain": [
       "<matplotlib.figure.Figure at 0x235e937aba8>"
      ]
     },
     "metadata": {},
     "output_type": "display_data"
    }
   ],
   "source": [
    "temp = pd.DataFrame(df2.groupby(['RequestorSeniority bin'], axis=0, as_index=False)['daysOpen'].mean())\n",
    "plt.figure(figsize=(8,4))\n",
    "sns.barplot(x=\"RequestorSeniority bin\", y=\"daysOpen\",data=temp)"
   ]
  },
  {
   "cell_type": "markdown",
   "metadata": {},
   "source": [
    "# 2b FiledAgainst"
   ]
  },
  {
   "cell_type": "code",
   "execution_count": 72,
   "metadata": {},
   "outputs": [
    {
     "data": {
      "text/plain": [
       "<matplotlib.axes._subplots.AxesSubplot at 0x235e93769e8>"
      ]
     },
     "execution_count": 72,
     "metadata": {},
     "output_type": "execute_result"
    },
    {
     "data": {
      "image/png": "[encoded data removed]",
      "text/plain": [
       "<matplotlib.figure.Figure at 0x235e937aa58>"
      ]
     },
     "metadata": {},
     "output_type": "display_data"
    }
   ],
   "source": [
    "temp = pd.DataFrame(df2.groupby(['FiledAgainst bin'], axis=0, as_index=False)['daysOpen'].mean())\n",
    "plt.figure(figsize=(8,4))\n",
    "sns.barplot(x=\"FiledAgainst bin\", y=\"daysOpen\",data=temp)"
   ]
  },
  {
   "cell_type": "markdown",
   "metadata": {},
   "source": [
    "# 2c TicketType"
   ]
  },
  {
   "cell_type": "code",
   "execution_count": 73,
   "metadata": {},
   "outputs": [
    {
     "data": {
      "text/plain": [
       "<matplotlib.axes._subplots.AxesSubplot at 0x235e9430908>"
      ]
     },
     "execution_count": 73,
     "metadata": {},
     "output_type": "execute_result"
    },
    {
     "data": {
      "image/png": "[encoded data removed]",
      "text/plain": [
       "<matplotlib.figure.Figure at 0x235e937aac8>"
      ]
     },
     "metadata": {},
     "output_type": "display_data"
    }
   ],
   "source": [
    "temp = pd.DataFrame(df2.groupby(['TicketType bin'], axis=0, as_index=False)['daysOpen'].mean())\n",
    "plt.figure(figsize=(8,4))\n",
    "sns.barplot(x=\"TicketType bin\", y=\"daysOpen\",data=temp)"
   ]
  },
  {
   "cell_type": "markdown",
   "metadata": {},
   "source": [
    "# 2d Severity"
   ]
  },
  {
   "cell_type": "code",
   "execution_count": 74,
   "metadata": {},
   "outputs": [
    {
     "data": {
      "text/plain": [
       "<matplotlib.axes._subplots.AxesSubplot at 0x235e9491cc0>"
      ]
     },
     "execution_count": 74,
     "metadata": {},
     "output_type": "execute_result"
    },
    {
     "data": {
      "image/png": "[encoded data removed]",
      "text/plain": [
       "<matplotlib.figure.Figure at 0x235e948cd30>"
      ]
     },
     "metadata": {},
     "output_type": "display_data"
    }
   ],
   "source": [
    "temp = pd.DataFrame(df2.groupby(['Severity bin'], axis=0, as_index=False)['daysOpen'].mean())\n",
    "plt.figure(figsize=(8,4))\n",
    "sns.barplot(x=\"Severity bin\", y=\"daysOpen\",data=temp)"
   ]
  },
  {
   "cell_type": "markdown",
   "metadata": {},
   "source": [
    "# 2e Priority"
   ]
  },
  {
   "cell_type": "code",
   "execution_count": 75,
   "metadata": {},
   "outputs": [
    {
     "data": {
      "text/plain": [
       "<matplotlib.axes._subplots.AxesSubplot at 0x235e942bc88>"
      ]
     },
     "execution_count": 75,
     "metadata": {},
     "output_type": "execute_result"
    },
    {
     "data": {
      "image/png": "[encoded data removed]",
      "text/plain": [
       "<matplotlib.figure.Figure at 0x235e98bba20>"
      ]
     },
     "metadata": {},
     "output_type": "display_data"
    }
   ],
   "source": [
    "temp = pd.DataFrame(df2.groupby(['Priority'], axis=0, as_index=False)['daysOpen'].mean())\n",
    "plt.figure(figsize=(8,4))\n",
    "sns.barplot(x=\"Priority\", y=\"daysOpen\",data=temp)"
   ]
  },
  {
   "cell_type": "markdown",
   "metadata": {},
   "source": [
    "# 3a Analyzing the issues leading to higher daysOpen"
   ]
  },
  {
   "cell_type": "code",
   "execution_count": 76,
   "metadata": {},
   "outputs": [
    {
     "name": "stdout",
     "output_type": "stream",
     "text": [
      "1 - Request (top 5)\n"
     ]
    },
    {
     "data": {
      "text/html": [
       "<div>\n",
       "<style>\n",
       "    .dataframe thead tr:only-child th {\n",
       "        text-align: right;\n",
       "    }\n",
       "\n",
       "    .dataframe thead th {\n",
       "        text-align: left;\n",
       "    }\n",
       "\n",
       "    .dataframe tbody tr th {\n",
       "        vertical-align: top;\n",
       "    }\n",
       "</style>\n",
       "<table border=\"1\" class=\"dataframe\">\n",
       "  <thead>\n",
       "    <tr style=\"text-align: right;\">\n",
       "      <th></th>\n",
       "      <th>RequestorSeniority bin</th>\n",
       "      <th>FiledAgainst bin</th>\n",
       "      <th>Severity bin</th>\n",
       "      <th>Priority</th>\n",
       "      <th>daysOpen</th>\n",
       "    </tr>\n",
       "  </thead>\n",
       "  <tbody>\n",
       "    <tr>\n",
       "      <th>4</th>\n",
       "      <td>1 - Junior</td>\n",
       "      <td>1 - Hardware</td>\n",
       "      <td>2 - Minor</td>\n",
       "      <td>2 - Medium</td>\n",
       "      <td>29.800000</td>\n",
       "    </tr>\n",
       "    <tr>\n",
       "      <th>39</th>\n",
       "      <td>3 - Senior Management</td>\n",
       "      <td>1 - Hardware</td>\n",
       "      <td>2 - Minor</td>\n",
       "      <td>1 - Low</td>\n",
       "      <td>27.250000</td>\n",
       "    </tr>\n",
       "    <tr>\n",
       "      <th>18</th>\n",
       "      <td>2 - Regular</td>\n",
       "      <td>1 - Hardware</td>\n",
       "      <td>1 - Major</td>\n",
       "      <td>1 - Low</td>\n",
       "      <td>24.138686</td>\n",
       "    </tr>\n",
       "    <tr>\n",
       "      <th>0</th>\n",
       "      <td>1 - Junior</td>\n",
       "      <td>1 - Hardware</td>\n",
       "      <td>1 - Major</td>\n",
       "      <td>1 - Low</td>\n",
       "      <td>23.895000</td>\n",
       "    </tr>\n",
       "    <tr>\n",
       "      <th>40</th>\n",
       "      <td>3 - Senior Management</td>\n",
       "      <td>1 - Hardware</td>\n",
       "      <td>2 - Minor</td>\n",
       "      <td>2 - Medium</td>\n",
       "      <td>23.250000</td>\n",
       "    </tr>\n",
       "  </tbody>\n",
       "</table>\n",
       "</div>"
      ],
      "text/plain": [
       "   RequestorSeniority bin FiledAgainst bin Severity bin    Priority   daysOpen\n",
       "4              1 - Junior     1 - Hardware    2 - Minor  2 - Medium  29.800000\n",
       "39  3 - Senior Management     1 - Hardware    2 - Minor     1 - Low  27.250000\n",
       "18            2 - Regular     1 - Hardware    1 - Major     1 - Low  24.138686\n",
       "0              1 - Junior     1 - Hardware    1 - Major     1 - Low  23.895000\n",
       "40  3 - Senior Management     1 - Hardware    2 - Minor  2 - Medium  23.250000"
      ]
     },
     "execution_count": 76,
     "metadata": {},
     "output_type": "execute_result"
    }
   ],
   "source": [
    "df3 = df2[df2['TicketType bin']=='1 - Request'].copy()\n",
    "temp = pd.DataFrame(df3.groupby(['RequestorSeniority bin','FiledAgainst bin','Severity bin','Priority'], \n",
    "                                axis=0, as_index=False)['daysOpen'].mean())\n",
    "print('1 - Request (top 5)')\n",
    "temp.sort_values('daysOpen',ascending=False).head()"
   ]
  },
  {
   "cell_type": "code",
   "execution_count": 77,
   "metadata": {},
   "outputs": [
    {
     "name": "stdout",
     "output_type": "stream",
     "text": [
      "2 - Issue (top 5)\n"
     ]
    },
    {
     "data": {
      "text/html": [
       "<div>\n",
       "<style>\n",
       "    .dataframe thead tr:only-child th {\n",
       "        text-align: right;\n",
       "    }\n",
       "\n",
       "    .dataframe thead th {\n",
       "        text-align: left;\n",
       "    }\n",
       "\n",
       "    .dataframe tbody tr th {\n",
       "        vertical-align: top;\n",
       "    }\n",
       "</style>\n",
       "<table border=\"1\" class=\"dataframe\">\n",
       "  <thead>\n",
       "    <tr style=\"text-align: right;\">\n",
       "      <th></th>\n",
       "      <th>RequestorSeniority bin</th>\n",
       "      <th>FiledAgainst bin</th>\n",
       "      <th>Severity bin</th>\n",
       "      <th>Priority</th>\n",
       "      <th>daysOpen</th>\n",
       "    </tr>\n",
       "  </thead>\n",
       "  <tbody>\n",
       "    <tr>\n",
       "      <th>37</th>\n",
       "      <td>3 - Senior Management</td>\n",
       "      <td>1 - Hardware</td>\n",
       "      <td>2 - Minor</td>\n",
       "      <td>1 - Low</td>\n",
       "      <td>21.000000</td>\n",
       "    </tr>\n",
       "    <tr>\n",
       "      <th>16</th>\n",
       "      <td>2 - Regular</td>\n",
       "      <td>1 - Hardware</td>\n",
       "      <td>1 - Major</td>\n",
       "      <td>1 - Low</td>\n",
       "      <td>14.300000</td>\n",
       "    </tr>\n",
       "    <tr>\n",
       "      <th>0</th>\n",
       "      <td>1 - Junior</td>\n",
       "      <td>1 - Hardware</td>\n",
       "      <td>1 - Major</td>\n",
       "      <td>1 - Low</td>\n",
       "      <td>13.841727</td>\n",
       "    </tr>\n",
       "    <tr>\n",
       "      <th>34</th>\n",
       "      <td>3 - Senior Management</td>\n",
       "      <td>1 - Hardware</td>\n",
       "      <td>1 - Major</td>\n",
       "      <td>1 - Low</td>\n",
       "      <td>13.318182</td>\n",
       "    </tr>\n",
       "    <tr>\n",
       "      <th>1</th>\n",
       "      <td>1 - Junior</td>\n",
       "      <td>1 - Hardware</td>\n",
       "      <td>1 - Major</td>\n",
       "      <td>2 - Medium</td>\n",
       "      <td>12.983871</td>\n",
       "    </tr>\n",
       "  </tbody>\n",
       "</table>\n",
       "</div>"
      ],
      "text/plain": [
       "   RequestorSeniority bin FiledAgainst bin Severity bin    Priority   daysOpen\n",
       "37  3 - Senior Management     1 - Hardware    2 - Minor     1 - Low  21.000000\n",
       "16            2 - Regular     1 - Hardware    1 - Major     1 - Low  14.300000\n",
       "0              1 - Junior     1 - Hardware    1 - Major     1 - Low  13.841727\n",
       "34  3 - Senior Management     1 - Hardware    1 - Major     1 - Low  13.318182\n",
       "1              1 - Junior     1 - Hardware    1 - Major  2 - Medium  12.983871"
      ]
     },
     "execution_count": 77,
     "metadata": {},
     "output_type": "execute_result"
    }
   ],
   "source": [
    "df3 = df2[df2['TicketType bin']=='2 - Issue'].copy()\n",
    "temp = pd.DataFrame(df3.groupby(['RequestorSeniority bin','FiledAgainst bin','Severity bin','Priority'], \n",
    "                                axis=0, as_index=False)['daysOpen'].mean())\n",
    "print('2 - Issue (top 5)')\n",
    "temp.sort_values('daysOpen',ascending=False).head()"
   ]
  },
  {
   "cell_type": "markdown",
   "metadata": {},
   "source": [
    "# 3b Analyzing the top reasons for unsatisfaction"
   ]
  },
  {
   "cell_type": "code",
   "execution_count": 78,
   "metadata": {},
   "outputs": [
    {
     "name": "stdout",
     "output_type": "stream",
     "text": [
      "1 - Unsatisfied (top 5)\n"
     ]
    },
    {
     "data": {
      "text/html": [
       "<div>\n",
       "<style>\n",
       "    .dataframe thead tr:only-child th {\n",
       "        text-align: right;\n",
       "    }\n",
       "\n",
       "    .dataframe thead th {\n",
       "        text-align: left;\n",
       "    }\n",
       "\n",
       "    .dataframe tbody tr th {\n",
       "        vertical-align: top;\n",
       "    }\n",
       "</style>\n",
       "<table border=\"1\" class=\"dataframe\">\n",
       "  <thead>\n",
       "    <tr style=\"text-align: right;\">\n",
       "      <th></th>\n",
       "      <th>RequestorSeniority bin</th>\n",
       "      <th>FiledAgainst bin</th>\n",
       "      <th>Severity bin</th>\n",
       "      <th>Priority</th>\n",
       "      <th>Satisfaction</th>\n",
       "    </tr>\n",
       "  </thead>\n",
       "  <tbody>\n",
       "    <tr>\n",
       "      <th>42</th>\n",
       "      <td>3 - Senior Management</td>\n",
       "      <td>2 - Software &amp; Systems</td>\n",
       "      <td>1 - Major</td>\n",
       "      <td>3 - High</td>\n",
       "      <td>2582</td>\n",
       "    </tr>\n",
       "    <tr>\n",
       "      <th>24</th>\n",
       "      <td>2 - Regular</td>\n",
       "      <td>2 - Software &amp; Systems</td>\n",
       "      <td>1 - Major</td>\n",
       "      <td>3 - High</td>\n",
       "      <td>1523</td>\n",
       "    </tr>\n",
       "    <tr>\n",
       "      <th>48</th>\n",
       "      <td>3 - Senior Management</td>\n",
       "      <td>3 - Others</td>\n",
       "      <td>1 - Major</td>\n",
       "      <td>3 - High</td>\n",
       "      <td>1217</td>\n",
       "    </tr>\n",
       "    <tr>\n",
       "      <th>23</th>\n",
       "      <td>2 - Regular</td>\n",
       "      <td>2 - Software &amp; Systems</td>\n",
       "      <td>1 - Major</td>\n",
       "      <td>2 - Medium</td>\n",
       "      <td>1150</td>\n",
       "    </tr>\n",
       "    <tr>\n",
       "      <th>5</th>\n",
       "      <td>1 - Junior</td>\n",
       "      <td>2 - Software &amp; Systems</td>\n",
       "      <td>1 - Major</td>\n",
       "      <td>1 - Low</td>\n",
       "      <td>1042</td>\n",
       "    </tr>\n",
       "  </tbody>\n",
       "</table>\n",
       "</div>"
      ],
      "text/plain": [
       "   RequestorSeniority bin        FiledAgainst bin Severity bin    Priority  \\\n",
       "42  3 - Senior Management  2 - Software & Systems    1 - Major    3 - High   \n",
       "24            2 - Regular  2 - Software & Systems    1 - Major    3 - High   \n",
       "48  3 - Senior Management              3 - Others    1 - Major    3 - High   \n",
       "23            2 - Regular  2 - Software & Systems    1 - Major  2 - Medium   \n",
       "5              1 - Junior  2 - Software & Systems    1 - Major     1 - Low   \n",
       "\n",
       "    Satisfaction  \n",
       "42          2582  \n",
       "24          1523  \n",
       "48          1217  \n",
       "23          1150  \n",
       "5           1042  "
      ]
     },
     "execution_count": 78,
     "metadata": {},
     "output_type": "execute_result"
    }
   ],
   "source": [
    "df3 = df2[df2['Satisfaction']=='1 - Unsatisfied'].copy()\n",
    "temp = pd.DataFrame(df3.groupby(['RequestorSeniority bin','FiledAgainst bin','Severity bin','Priority'], \n",
    "                                axis=0, as_index=False)['Satisfaction'].count())\n",
    "print('1 - Unsatisfied (top 5)')\n",
    "temp.sort_values('Satisfaction',ascending=False).head()"
   ]
  }
 ],
 "metadata": {
  "kernelspec": {
   "display_name": "Python 3",
   "language": "python",
   "name": "python3"
  },
  "language_info": {
   "codemirror_mode": {
    "name": "ipython",
    "version": 3
   },
   "file_extension": ".py",
   "mimetype": "text/x-python",
   "name": "python",
   "nbconvert_exporter": "python",
   "pygments_lexer": "ipython3",
   "version": "3.6.2"
  }
 },
 "nbformat": 4,
 "nbformat_minor": 2
}

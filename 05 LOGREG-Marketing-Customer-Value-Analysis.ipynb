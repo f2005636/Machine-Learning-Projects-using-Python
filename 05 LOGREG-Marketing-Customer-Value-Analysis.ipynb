{
 "cells": [
  {
   "cell_type": "markdown",
   "metadata": {},
   "source": [
    "# Marketing Customer Value Analysis"
   ]
  },
  {
   "cell_type": "markdown",
   "metadata": {},
   "source": [
    "###### Understand customer demographics and buying behavior. Use predictive analytics to analyze the most profitable customers and how they interact. Take targeted actions to increase profitable customer response, retention and growth"
   ]
  },
  {
   "cell_type": "code",
   "execution_count": 25,
   "metadata": {},
   "outputs": [],
   "source": [
    "import math\n",
    "import numpy as np\n",
    "import pandas as pd\n",
    "from datetime import datetime\n",
    "\n",
    "import seaborn as sns\n",
    "import matplotlib.pyplot as plt\n",
    "%matplotlib inline \n",
    "plt.style.use('seaborn-whitegrid')\n",
    "\n",
    "from sklearn.model_selection import train_test_split\n",
    "from sklearn.linear_model import LogisticRegression\n",
    "from sklearn import metrics\n",
    "from sklearn.metrics import classification_report, confusion_matrix\n",
    "import statsmodels.api as sm"
   ]
  },
  {
   "cell_type": "markdown",
   "metadata": {},
   "source": [
    "# 1 Get the Data"
   ]
  },
  {
   "cell_type": "code",
   "execution_count": 26,
   "metadata": {},
   "outputs": [
    {
     "name": "stdout",
     "output_type": "stream",
     "text": [
      "<class 'pandas.core.frame.DataFrame'>\n",
      "Int64Index: 9134 entries, 0 to 9133\n",
      "Data columns (total 24 columns):\n",
      "Customer                         9134 non-null object\n",
      "State                            9134 non-null object\n",
      "Customer Lifetime Value          9134 non-null float64\n",
      "Response                         9134 non-null object\n",
      "Coverage                         9134 non-null object\n",
      "Education                        9134 non-null object\n",
      "Effective To Date                9134 non-null object\n",
      "EmploymentStatus                 9134 non-null object\n",
      "Gender                           9134 non-null object\n",
      "Income                           9134 non-null int64\n",
      "Location Code                    9134 non-null object\n",
      "Marital Status                   9134 non-null object\n",
      "Monthly Premium Auto             9134 non-null int64\n",
      "Months Since Last Claim          9134 non-null int64\n",
      "Months Since Policy Inception    9134 non-null int64\n",
      "Number of Open Complaints        9134 non-null int64\n",
      "Number of Policies               9134 non-null int64\n",
      "Policy Type                      9134 non-null object\n",
      "Policy                           9134 non-null object\n",
      "Renew Offer Type                 9134 non-null object\n",
      "Sales Channel                    9134 non-null object\n",
      "Total Claim Amount               9134 non-null float64\n",
      "Vehicle Class                    9134 non-null object\n",
      "Vehicle Size                     9134 non-null object\n",
      "dtypes: float64(2), int64(6), object(16)\n",
      "memory usage: 1.7+ MB\n"
     ]
    }
   ],
   "source": [
    "df = pd.read_csv('05 WA_Fn-UseC_-Marketing-Customer-Value-Analysis.csv')\n",
    "df.dropna(inplace=True)\n",
    "df.info()"
   ]
  },
  {
   "cell_type": "code",
   "execution_count": 27,
   "metadata": {},
   "outputs": [],
   "source": [
    "def fun_EmploymentStatus (x):\n",
    "    if x=='Retired': return 'a. Retired'\n",
    "    elif x=='Unemployed': return 'c. Unemployed'\n",
    "    else: return 'b. Others'\n",
    "df['EmploymentStatus_bin'] = df['EmploymentStatus'].apply(fun_EmploymentStatus)"
   ]
  },
  {
   "cell_type": "code",
   "execution_count": 28,
   "metadata": {
    "collapsed": true
   },
   "outputs": [],
   "source": [
    "def fun_Location (x):\n",
    "    if x=='Suburban': return 'a. Suburban'\n",
    "    else: return 'b. Others'\n",
    "df['LocationCode_bin'] = df['Location Code'].apply(fun_Location)"
   ]
  },
  {
   "cell_type": "code",
   "execution_count": 29,
   "metadata": {
    "collapsed": true
   },
   "outputs": [],
   "source": [
    "def fun_Renew (x):\n",
    "    if x=='Offer2': return 'a. Offer2'\n",
    "    elif x=='Offer1': return 'b. Offer1'\n",
    "    else: return 'c. Others'\n",
    "df['RenewOfferType_bin'] = df['Renew Offer Type'].apply(fun_Renew)"
   ]
  },
  {
   "cell_type": "code",
   "execution_count": 30,
   "metadata": {
    "collapsed": true
   },
   "outputs": [],
   "source": [
    "def fun_Sales (x):\n",
    "    if x=='Agent': return 'a. Agent'\n",
    "    else: return 'b. Others'\n",
    "df['SalesChannel_bin'] = df['Sales Channel'].apply(fun_Sales)"
   ]
  },
  {
   "cell_type": "code",
   "execution_count": 31,
   "metadata": {},
   "outputs": [
    {
     "name": "stdout",
     "output_type": "stream",
     "text": [
      "<class 'pandas.core.frame.DataFrame'>\n",
      "Int64Index: 9134 entries, 0 to 9133\n",
      "Data columns (total 7 columns):\n",
      "Customer                9134 non-null object\n",
      "Response                9134 non-null object\n",
      "EmploymentStatus_bin    9134 non-null object\n",
      "LocationCode_bin        9134 non-null object\n",
      "RenewOfferType_bin      9134 non-null object\n",
      "SalesChannel_bin        9134 non-null object\n",
      "Vehicle Size            9134 non-null object\n",
      "dtypes: object(7)\n",
      "memory usage: 570.9+ KB\n"
     ]
    }
   ],
   "source": [
    "df = df[['Customer','Response','EmploymentStatus_bin','LocationCode_bin','RenewOfferType_bin',\n",
    "         'SalesChannel_bin','Vehicle Size']].copy()\n",
    "df.info()"
   ]
  },
  {
   "cell_type": "markdown",
   "metadata": {},
   "source": [
    "# 2.1 EmploymentStatus_bin"
   ]
  },
  {
   "cell_type": "code",
   "execution_count": 32,
   "metadata": {},
   "outputs": [
    {
     "data": {
      "text/plain": [
       "<matplotlib.legend.Legend at 0x1c69db07898>"
      ]
     },
     "execution_count": 32,
     "metadata": {},
     "output_type": "execute_result"
    },
    {
     "data": {
      "image/png": "[encoded data removed]",
      "text/plain": [
       "<matplotlib.figure.Figure at 0x1c69fbe1588>"
      ]
     },
     "metadata": {},
     "output_type": "display_data"
    }
   ],
   "source": [
    "temp = df.pivot_table(values=['Customer'], index=['EmploymentStatus_bin'], columns=['Response'], aggfunc='count')\n",
    "temp = temp.apply(lambda c: c / c.sum() * 100, axis=1)\n",
    "temp.plot(kind=\"bar\",stacked=True)\n",
    "plt.legend(loc='center left', bbox_to_anchor=(1.0, 0.5))"
   ]
  },
  {
   "cell_type": "markdown",
   "metadata": {},
   "source": [
    "# 2.2 LocationCode_bin"
   ]
  },
  {
   "cell_type": "code",
   "execution_count": 33,
   "metadata": {},
   "outputs": [
    {
     "data": {
      "text/plain": [
       "<matplotlib.legend.Legend at 0x1c69fbe3550>"
      ]
     },
     "execution_count": 33,
     "metadata": {},
     "output_type": "execute_result"
    },
    {
     "data": {
      "image/png": "[encoded data removed]",
      "text/plain": [
       "<matplotlib.figure.Figure at 0x1c69fbe3ef0>"
      ]
     },
     "metadata": {},
     "output_type": "display_data"
    }
   ],
   "source": [
    "temp = df.pivot_table(values=['Customer'], index=['LocationCode_bin'], columns=['Response'], aggfunc='count')\n",
    "temp = temp.apply(lambda c: c / c.sum() * 100, axis=1)\n",
    "temp.plot(kind=\"bar\",stacked=True)\n",
    "plt.legend(loc='center left', bbox_to_anchor=(1.0, 0.5))"
   ]
  },
  {
   "cell_type": "markdown",
   "metadata": {},
   "source": [
    "# 2.3 RenewOfferType_bin"
   ]
  },
  {
   "cell_type": "code",
   "execution_count": 34,
   "metadata": {},
   "outputs": [
    {
     "data": {
      "text/plain": [
       "<matplotlib.legend.Legend at 0x1c69fc56198>"
      ]
     },
     "execution_count": 34,
     "metadata": {},
     "output_type": "execute_result"
    },
    {
     "data": {
      "image/png": "[encoded data removed]",
      "text/plain": [
       "<matplotlib.figure.Figure at 0x1c69fc56358>"
      ]
     },
     "metadata": {},
     "output_type": "display_data"
    }
   ],
   "source": [
    "temp = df.pivot_table(values=['Customer'], index=['RenewOfferType_bin'], columns=['Response'], aggfunc='count')\n",
    "temp = temp.apply(lambda c: c / c.sum() * 100, axis=1)\n",
    "temp.plot(kind=\"bar\",stacked=True)\n",
    "plt.legend(loc='center left', bbox_to_anchor=(1.0, 0.5))"
   ]
  },
  {
   "cell_type": "markdown",
   "metadata": {},
   "source": [
    "# 2.4 SalesChannel_bin"
   ]
  },
  {
   "cell_type": "code",
   "execution_count": 35,
   "metadata": {},
   "outputs": [
    {
     "data": {
      "text/plain": [
       "<matplotlib.legend.Legend at 0x1c69fc29b70>"
      ]
     },
     "execution_count": 35,
     "metadata": {},
     "output_type": "execute_result"
    },
    {
     "data": {
      "image/png": "[encoded data removed]",
      "text/plain": [
       "<matplotlib.figure.Figure at 0x1c69ddc0c18>"
      ]
     },
     "metadata": {},
     "output_type": "display_data"
    }
   ],
   "source": [
    "temp = df.pivot_table(values=['Customer'], index=['SalesChannel_bin'], columns=['Response'], aggfunc='count')\n",
    "temp = temp.apply(lambda c: c / c.sum() * 100, axis=1)\n",
    "temp.plot(kind=\"bar\",stacked=True)\n",
    "plt.legend(loc='center left', bbox_to_anchor=(1.0, 0.5))"
   ]
  },
  {
   "cell_type": "markdown",
   "metadata": {},
   "source": [
    "# 2.5 Vehicle Size"
   ]
  },
  {
   "cell_type": "code",
   "execution_count": 36,
   "metadata": {},
   "outputs": [
    {
     "data": {
      "text/plain": [
       "<matplotlib.legend.Legend at 0x1c69d63f438>"
      ]
     },
     "execution_count": 36,
     "metadata": {},
     "output_type": "execute_result"
    },
    {
     "data": {
      "image/png": "[encoded data removed]",
      "text/plain": [
       "<matplotlib.figure.Figure at 0x1c69eb06ba8>"
      ]
     },
     "metadata": {},
     "output_type": "display_data"
    }
   ],
   "source": [
    "temp = df.pivot_table(values=['Customer'], index=['Vehicle Size'], columns=['Response'], aggfunc='count')\n",
    "temp = temp.apply(lambda c: c / c.sum() * 100, axis=1)\n",
    "temp.plot(kind=\"bar\",stacked=True)\n",
    "plt.legend(loc='center left', bbox_to_anchor=(1.0, 0.5))"
   ]
  },
  {
   "cell_type": "markdown",
   "metadata": {},
   "source": [
    "# 3 Train Test Split"
   ]
  },
  {
   "cell_type": "code",
   "execution_count": 37,
   "metadata": {
    "collapsed": true
   },
   "outputs": [],
   "source": [
    "df['actual'] = df['Response'].apply(lambda x: 0 if x == \"No\" else 1)\n",
    "df.drop(['Customer','Response'],axis=1,inplace=True)"
   ]
  },
  {
   "cell_type": "code",
   "execution_count": 38,
   "metadata": {
    "collapsed": true
   },
   "outputs": [],
   "source": [
    "cat_feats = ['EmploymentStatus_bin','LocationCode_bin','RenewOfferType_bin','SalesChannel_bin','Vehicle Size']\n",
    "final_data = pd.get_dummies(df,columns=cat_feats,drop_first=True)"
   ]
  },
  {
   "cell_type": "code",
   "execution_count": 39,
   "metadata": {
    "collapsed": true
   },
   "outputs": [],
   "source": [
    "x = final_data.drop(['actual'],axis=1)\n",
    "y = final_data['actual']\n",
    "x_train, x_test, y_train, y_test = train_test_split(x,y,test_size=0.3, random_state=101)"
   ]
  },
  {
   "cell_type": "markdown",
   "metadata": {},
   "source": [
    "# 4 Building the Model"
   ]
  },
  {
   "cell_type": "code",
   "execution_count": 40,
   "metadata": {},
   "outputs": [
    {
     "name": "stdout",
     "output_type": "stream",
     "text": [
      "Optimization terminated successfully.\n",
      "         Current function value: 0.326736\n",
      "         Iterations 9\n"
     ]
    },
    {
     "data": {
      "text/html": [
       "<table class=\"simpletable\">\n",
       "<caption>Logit Regression Results</caption>\n",
       "<tr>\n",
       "  <th>Dep. Variable:</th>      <td>actual</td>      <th>  No. Observations:  </th>   <td>  6393</td>  \n",
       "</tr>\n",
       "<tr>\n",
       "  <th>Model:</th>               <td>Logit</td>      <th>  Df Residuals:      </th>   <td>  6384</td>  \n",
       "</tr>\n",
       "<tr>\n",
       "  <th>Method:</th>               <td>MLE</td>       <th>  Df Model:          </th>   <td>     8</td>  \n",
       "</tr>\n",
       "<tr>\n",
       "  <th>Date:</th>          <td>Sat, 18 Nov 2017</td> <th>  Pseudo R-squ.:     </th>   <td>0.2015</td>  \n",
       "</tr>\n",
       "<tr>\n",
       "  <th>Time:</th>              <td>22:43:52</td>     <th>  Log-Likelihood:    </th>  <td> -2088.8</td> \n",
       "</tr>\n",
       "<tr>\n",
       "  <th>converged:</th>           <td>True</td>       <th>  LL-Null:           </th>  <td> -2616.0</td> \n",
       "</tr>\n",
       "<tr>\n",
       "  <th> </th>                      <td> </td>        <th>  LLR p-value:       </th> <td>2.807e-222</td>\n",
       "</tr>\n",
       "</table>\n",
       "<table class=\"simpletable\">\n",
       "<tr>\n",
       "                   <td></td>                     <th>coef</th>     <th>std err</th>      <th>z</th>      <th>P>|z|</th>  <th>[0.025</th>    <th>0.975]</th>  \n",
       "</tr>\n",
       "<tr>\n",
       "  <th>const</th>                              <td>    2.3599</td> <td>    0.226</td> <td>   10.435</td> <td> 0.000</td> <td>    1.917</td> <td>    2.803</td>\n",
       "</tr>\n",
       "<tr>\n",
       "  <th>EmploymentStatus_bin_b. Others</th>     <td>   -2.5570</td> <td>    0.191</td> <td>  -13.356</td> <td> 0.000</td> <td>   -2.932</td> <td>   -2.182</td>\n",
       "</tr>\n",
       "<tr>\n",
       "  <th>EmploymentStatus_bin_c. Unemployed</th> <td>   -3.4622</td> <td>    0.205</td> <td>  -16.902</td> <td> 0.000</td> <td>   -3.864</td> <td>   -3.061</td>\n",
       "</tr>\n",
       "<tr>\n",
       "  <th>LocationCode_bin_b. Others</th>         <td>   -0.8799</td> <td>    0.094</td> <td>   -9.374</td> <td> 0.000</td> <td>   -1.064</td> <td>   -0.696</td>\n",
       "</tr>\n",
       "<tr>\n",
       "  <th>RenewOfferType_bin_b. Offer1</th>       <td>   -0.6142</td> <td>    0.083</td> <td>   -7.437</td> <td> 0.000</td> <td>   -0.776</td> <td>   -0.452</td>\n",
       "</tr>\n",
       "<tr>\n",
       "  <th>RenewOfferType_bin_c. Others</th>       <td>   -3.3205</td> <td>    0.236</td> <td>  -14.054</td> <td> 0.000</td> <td>   -3.784</td> <td>   -2.857</td>\n",
       "</tr>\n",
       "<tr>\n",
       "  <th>SalesChannel_bin_b. Others</th>         <td>   -0.6434</td> <td>    0.080</td> <td>   -7.998</td> <td> 0.000</td> <td>   -0.801</td> <td>   -0.486</td>\n",
       "</tr>\n",
       "<tr>\n",
       "  <th>Vehicle Size_Medsize</th>               <td>   -0.1890</td> <td>    0.124</td> <td>   -1.520</td> <td> 0.129</td> <td>   -0.433</td> <td>    0.055</td>\n",
       "</tr>\n",
       "<tr>\n",
       "  <th>Vehicle Size_Small</th>                 <td>   -0.5529</td> <td>    0.150</td> <td>   -3.687</td> <td> 0.000</td> <td>   -0.847</td> <td>   -0.259</td>\n",
       "</tr>\n",
       "</table>"
      ],
      "text/plain": [
       "<class 'statsmodels.iolib.summary.Summary'>\n",
       "\"\"\"\n",
       "                           Logit Regression Results                           \n",
       "==============================================================================\n",
       "Dep. Variable:                 actual   No. Observations:                 6393\n",
       "Model:                          Logit   Df Residuals:                     6384\n",
       "Method:                           MLE   Df Model:                            8\n",
       "Date:                Sat, 18 Nov 2017   Pseudo R-squ.:                  0.2015\n",
       "Time:                        22:43:52   Log-Likelihood:                -2088.8\n",
       "converged:                       True   LL-Null:                       -2616.0\n",
       "                                        LLR p-value:                2.807e-222\n",
       "======================================================================================================\n",
       "                                         coef    std err          z      P>|z|      [0.025      0.975]\n",
       "------------------------------------------------------------------------------------------------------\n",
       "const                                  2.3599      0.226     10.435      0.000       1.917       2.803\n",
       "EmploymentStatus_bin_b. Others        -2.5570      0.191    -13.356      0.000      -2.932      -2.182\n",
       "EmploymentStatus_bin_c. Unemployed    -3.4622      0.205    -16.902      0.000      -3.864      -3.061\n",
       "LocationCode_bin_b. Others            -0.8799      0.094     -9.374      0.000      -1.064      -0.696\n",
       "RenewOfferType_bin_b. Offer1          -0.6142      0.083     -7.437      0.000      -0.776      -0.452\n",
       "RenewOfferType_bin_c. Others          -3.3205      0.236    -14.054      0.000      -3.784      -2.857\n",
       "SalesChannel_bin_b. Others            -0.6434      0.080     -7.998      0.000      -0.801      -0.486\n",
       "Vehicle Size_Medsize                  -0.1890      0.124     -1.520      0.129      -0.433       0.055\n",
       "Vehicle Size_Small                    -0.5529      0.150     -3.687      0.000      -0.847      -0.259\n",
       "======================================================================================================\n",
       "\"\"\""
      ]
     },
     "execution_count": 40,
     "metadata": {},
     "output_type": "execute_result"
    }
   ],
   "source": [
    "x_train = sm.add_constant(x_train).copy()\n",
    "logit = sm.Logit(y_train, x_train)\n",
    "result = logit.fit()\n",
    "result.summary()"
   ]
  },
  {
   "cell_type": "code",
   "execution_count": 41,
   "metadata": {
    "collapsed": true
   },
   "outputs": [],
   "source": [
    "x_test = sm.add_constant(x_test).copy()\n",
    "y_pred = result.predict(x_test)\n",
    "x_test = x_test.reset_index(drop=True)\n",
    "y_test = y_test.reset_index(drop=True)\n",
    "y_pred = y_pred.reset_index(drop=True)\n",
    "test_calc = pd.concat([x_test,y_test,pd.DataFrame(y_pred)],axis=1)\n",
    "test_calc.rename(columns={0: 'predicted'}, inplace=True)"
   ]
  },
  {
   "cell_type": "code",
   "execution_count": 42,
   "metadata": {},
   "outputs": [
    {
     "name": "stdout",
     "output_type": "stream",
     "text": [
      "max c:  0.15\n",
      "max a:  0.65\n"
     ]
    },
    {
     "data": {
      "image/png": "[encoded data removed]",
      "text/plain": [
       "<matplotlib.figure.Figure at 0x1c69fbb0208>"
      ]
     },
     "metadata": {},
     "output_type": "display_data"
    }
   ],
   "source": [
    "c = [0.15,0.2,0.25,0.3,0.35,0.4,0.45,0.5,0.55,0.6,0.65,0.7,0.75,0.8,0.85]\n",
    "a = [0.15,0.2,0.25,0.3,0.35,0.4,0.45,0.5,0.55,0.6,0.65,0.7,0.75,0.8,0.85]\n",
    "p = [0.15,0.2,0.25,0.3,0.35,0.4,0.45,0.5,0.55,0.6,0.65,0.7,0.75,0.8,0.85]\n",
    "r = [0.15,0.2,0.25,0.3,0.35,0.4,0.45,0.5,0.55,0.6,0.65,0.7,0.75,0.8,0.85]\n",
    "f = [0.15,0.2,0.25,0.3,0.35,0.4,0.45,0.5,0.55,0.6,0.65,0.7,0.75,0.8,0.85]\n",
    "i = 0\n",
    "\n",
    "for j in c:\n",
    "    def flag(cols):\n",
    "        x = cols[0]\n",
    "        j = cols[1]\n",
    "        if x > j: return 1\n",
    "        else: return 0\n",
    "    test_calc['j']=j\n",
    "    test_calc['flag'] = test_calc[['predicted','j']].apply(flag,axis=1)\n",
    "    df_table = confusion_matrix(test_calc['actual'],test_calc['flag'])\n",
    "    a[i] = (df_table[0,0] + df_table[1,1]) / (df_table[0,0] + df_table[0,1] + df_table[1,0] + df_table[1,1])\n",
    "    p[i] = df_table[1,1] / (df_table[1,1] + df_table[0,1])\n",
    "    r[i] = df_table[1,1] / (df_table[1,1] + df_table[1,0])\n",
    "    f[i] = (2 * p[i] * r[i]) / (p[i] + r[i])\n",
    "    i = i+1\n",
    "\n",
    "df_decision = pd.concat([pd.DataFrame(c),pd.DataFrame(a),pd.DataFrame(p),pd.DataFrame(r),pd.DataFrame(f)],axis=1)\n",
    "df_decision.columns = ['c','a','p','r','f']\n",
    "\n",
    "f_max = df_decision[df_decision['f']==df_decision['f'].max()].head(1)\n",
    "max_c = float(f_max['c'])\n",
    "a_max = df_decision[df_decision['a']==df_decision['a'].max()].head(1)\n",
    "max_a = float(a_max['c'])\n",
    "\n",
    "df_decision.plot(x='c',y=['f','a'],marker=\"o\")\n",
    "\n",
    "print (\"max c: \",max_c)\n",
    "print (\"max a: \",max_a)"
   ]
  },
  {
   "cell_type": "markdown",
   "metadata": {},
   "source": [
    "# 5 Predictions and Evaluation"
   ]
  },
  {
   "cell_type": "code",
   "execution_count": 43,
   "metadata": {},
   "outputs": [
    {
     "name": "stdout",
     "output_type": "stream",
     "text": [
      "[[2024  319]\n",
      " [ 218  180]]\n",
      "accuracy: 0.804086099964\n",
      "precision: 0.360721442886\n",
      "recall: 0.452261306533\n",
      "f1 score:  0.401337792642\n"
     ]
    }
   ],
   "source": [
    "#using 0.25 since f does not deteriorate much and accuracy improves\n",
    "\n",
    "test_calc['predicted'] = test_calc['predicted'].apply(lambda x: 1 if x > 0.25 else 0)\n",
    "df_table = confusion_matrix(test_calc['actual'],test_calc['predicted'])\n",
    "print (df_table)\n",
    "\n",
    "print('accuracy:', (df_table[0,0] + df_table[1,1]) / (df_table[0,0] + df_table[0,1] + df_table[1,0] + df_table[1,1]))\n",
    "print ('precision:', df_table[1,1] / (df_table[1,1] + df_table[0,1]))\n",
    "print('recall:', df_table[1,1] / (df_table[1,1] + df_table[1,0]))\n",
    "\n",
    "p = df_table[1,1] / (df_table[1,1] + df_table[0,1])\n",
    "r = df_table[1,1] / (df_table[1,1] + df_table[1,0])\n",
    "print('f1 score: ', (2*p*r)/(p+r))"
   ]
  },
  {
   "cell_type": "code",
   "execution_count": null,
   "metadata": {
    "collapsed": true
   },
   "outputs": [],
   "source": []
  }
 ],
 "metadata": {
  "kernelspec": {
   "display_name": "Python 3",
   "language": "python",
   "name": "python3"
  },
  "language_info": {
   "codemirror_mode": {
    "name": "ipython",
    "version": 3
   },
   "file_extension": ".py",
   "mimetype": "text/x-python",
   "name": "python",
   "nbconvert_exporter": "python",
   "pygments_lexer": "ipython3",
   "version": "3.6.2"
  }
 },
 "nbformat": 4,
 "nbformat_minor": 2
}

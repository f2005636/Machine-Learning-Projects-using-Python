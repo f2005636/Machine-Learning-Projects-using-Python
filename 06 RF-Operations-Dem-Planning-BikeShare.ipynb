{
 "cells": [
  {
   "cell_type": "markdown",
   "metadata": {},
   "source": [
    "# Operations Demand Planning (Bike Share)"
   ]
  },
  {
   "cell_type": "markdown",
   "metadata": {},
   "source": [
    "###### Understand product and service usage characteristics based on operational and external information. Predict the likely placement or time a service will be used to optimize revenue. Finally, increase the likelihood of positive sentiments by having the right product available at the right time."
   ]
  },
  {
   "cell_type": "code",
   "execution_count": 2,
   "metadata": {
    "collapsed": true
   },
   "outputs": [],
   "source": [
    "import math\n",
    "import numpy as np\n",
    "import pandas as pd\n",
    "from datetime import datetime\n",
    "\n",
    "import seaborn as sns\n",
    "import matplotlib.pyplot as plt\n",
    "%matplotlib inline \n",
    "plt.style.use('seaborn-whitegrid')\n",
    "\n",
    "from sklearn.model_selection import train_test_split\n",
    "from sklearn.ensemble import RandomForestClassifier\n",
    "from sklearn.metrics import classification_report, confusion_matrix, roc_auc_score"
   ]
  },
  {
   "cell_type": "markdown",
   "metadata": {},
   "source": [
    "# 1 Get the Data"
   ]
  },
  {
   "cell_type": "code",
   "execution_count": 3,
   "metadata": {},
   "outputs": [
    {
     "name": "stdout",
     "output_type": "stream",
     "text": [
      "<class 'pandas.core.frame.DataFrame'>\n",
      "Int64Index: 17379 entries, 0 to 17378\n",
      "Data columns (total 12 columns):\n",
      "Instant        17379 non-null int64\n",
      "Riders         17379 non-null int64\n",
      "Season         17379 non-null int64\n",
      "Month          17379 non-null int64\n",
      "Hour           17379 non-null int64\n",
      "Holiday        17379 non-null int64\n",
      "Weekday        17379 non-null int64\n",
      "Workday        17379 non-null int64\n",
      "Weather        17379 non-null int64\n",
      "Temperature    17379 non-null int64\n",
      "Humidity       17379 non-null float64\n",
      "Wind           17379 non-null float64\n",
      "dtypes: float64(2), int64(10)\n",
      "memory usage: 1.7 MB\n"
     ]
    }
   ],
   "source": [
    "df = pd.read_csv('06 WA_Fn-UseC_-Operations-Dem-Planning_-BikeShare.csv')\n",
    "df.dropna(inplace=True)\n",
    "df.info()"
   ]
  },
  {
   "cell_type": "code",
   "execution_count": 4,
   "metadata": {
    "collapsed": true
   },
   "outputs": [],
   "source": [
    "def HB (x):\n",
    "    if (x>=7 and x<=15): return \"b. day (7-15)\"\n",
    "    elif (x>=16 and x<=19): return \"a. evening (16-19)\"\n",
    "    elif (x>=20 and x<=22): return \"c. late evening (20-22)\"\n",
    "    else: return \"d. night (23, 0-6)\"\n",
    "df['Hour_bin'] = df['Hour'].apply(HB)"
   ]
  },
  {
   "cell_type": "code",
   "execution_count": 5,
   "metadata": {
    "collapsed": true
   },
   "outputs": [],
   "source": [
    "def TB (x):\n",
    "    if x<45: return \"a. temp < 45\"\n",
    "    elif x<60: return \"b. temp < 60\"\n",
    "    elif x<75: return \"c. temp < 75\"\n",
    "    else: return \"d. temp - higher\"\n",
    "df['Temperature_bin'] = df['Temperature'].apply(TB)"
   ]
  },
  {
   "cell_type": "code",
   "execution_count": 6,
   "metadata": {
    "collapsed": true
   },
   "outputs": [],
   "source": [
    "def HB (x):\n",
    "    if x<0.45: return \"a. humid < 0.45\"\n",
    "    elif x<0.60: return \"b. humid < 0.60\"\n",
    "    elif x<0.75: return \"c. humid < 0.75\"\n",
    "    else: return \"d. humid - higher\"\n",
    "df['Humidity_bin'] = df['Humidity'].apply(HB)"
   ]
  },
  {
   "cell_type": "code",
   "execution_count": 7,
   "metadata": {
    "collapsed": true
   },
   "outputs": [],
   "source": [
    "def SB (x): \n",
    "    if x==1: return \"a. Jan-Mar\"\n",
    "    elif x==3: return \"c. Jul-Aug\"\n",
    "    else: return \"b. Others\"\n",
    "df['Season_bin'] = df['Season'].apply(SB)"
   ]
  },
  {
   "cell_type": "code",
   "execution_count": 8,
   "metadata": {},
   "outputs": [
    {
     "name": "stdout",
     "output_type": "stream",
     "text": [
      "<class 'pandas.core.frame.DataFrame'>\n",
      "Int64Index: 17379 entries, 0 to 17378\n",
      "Data columns (total 7 columns):\n",
      "Riders             17379 non-null int64\n",
      "Hour_bin           17379 non-null object\n",
      "Temperature_bin    17379 non-null object\n",
      "Humidity_bin       17379 non-null object\n",
      "Season_bin         17379 non-null object\n",
      "Weather            17379 non-null int64\n",
      "Holiday            17379 non-null int64\n",
      "dtypes: int64(3), object(4)\n",
      "memory usage: 1.1+ MB\n"
     ]
    }
   ],
   "source": [
    "df = df[['Riders','Hour_bin','Temperature_bin','Humidity_bin','Season_bin','Weather','Holiday']].copy()\n",
    "df.info()"
   ]
  },
  {
   "cell_type": "markdown",
   "metadata": {},
   "source": [
    "# 2a Hour_bin"
   ]
  },
  {
   "cell_type": "code",
   "execution_count": 9,
   "metadata": {},
   "outputs": [
    {
     "data": {
      "text/plain": [
       "<matplotlib.axes._subplots.AxesSubplot at 0x2355b9da400>"
      ]
     },
     "execution_count": 9,
     "metadata": {},
     "output_type": "execute_result"
    },
    {
     "data": {
      "image/png": "[encoded data removed]",
      "text/plain": [
       "<matplotlib.figure.Figure at 0x235621b3898>"
      ]
     },
     "metadata": {},
     "output_type": "display_data"
    }
   ],
   "source": [
    "temp = pd.DataFrame(df.groupby(['Hour_bin'], axis=0, as_index=False)['Riders'].mean())\n",
    "plt.figure(figsize=(8,4))\n",
    "sns.barplot(x=\"Hour_bin\", y=\"Riders\",data=temp)"
   ]
  },
  {
   "cell_type": "markdown",
   "metadata": {},
   "source": [
    "# 2b Temperature_bin"
   ]
  },
  {
   "cell_type": "code",
   "execution_count": 10,
   "metadata": {},
   "outputs": [
    {
     "data": {
      "text/plain": [
       "<matplotlib.axes._subplots.AxesSubplot at 0x235621b37f0>"
      ]
     },
     "execution_count": 10,
     "metadata": {},
     "output_type": "execute_result"
    },
    {
     "data": {
      "image/png": "[encoded data removed]",
      "text/plain": [
       "<matplotlib.figure.Figure at 0x235621d95c0>"
      ]
     },
     "metadata": {},
     "output_type": "display_data"
    }
   ],
   "source": [
    "temp = pd.DataFrame(df.groupby(['Temperature_bin'], axis=0, as_index=False)['Riders'].mean())\n",
    "plt.figure(figsize=(8,4))\n",
    "sns.barplot(x=\"Temperature_bin\", y=\"Riders\",data=temp)"
   ]
  },
  {
   "cell_type": "markdown",
   "metadata": {},
   "source": [
    "# 2c Humidity_bin"
   ]
  },
  {
   "cell_type": "code",
   "execution_count": 11,
   "metadata": {},
   "outputs": [
    {
     "data": {
      "text/plain": [
       "<matplotlib.axes._subplots.AxesSubplot at 0x23562092860>"
      ]
     },
     "execution_count": 11,
     "metadata": {},
     "output_type": "execute_result"
    },
    {
     "data": {
      "image/png": "[encoded data removed]",
      "text/plain": [
       "<matplotlib.figure.Figure at 0x2356208bc18>"
      ]
     },
     "metadata": {},
     "output_type": "display_data"
    }
   ],
   "source": [
    "temp = pd.DataFrame(df.groupby(['Humidity_bin'], axis=0, as_index=False)['Riders'].mean())\n",
    "plt.figure(figsize=(8,4))\n",
    "sns.barplot(x=\"Humidity_bin\", y=\"Riders\",data=temp)"
   ]
  },
  {
   "cell_type": "markdown",
   "metadata": {},
   "source": [
    "# 2d Season_bin"
   ]
  },
  {
   "cell_type": "code",
   "execution_count": 12,
   "metadata": {},
   "outputs": [
    {
     "data": {
      "text/plain": [
       "<matplotlib.axes._subplots.AxesSubplot at 0x235620fd470>"
      ]
     },
     "execution_count": 12,
     "metadata": {},
     "output_type": "execute_result"
    },
    {
     "data": {
      "image/png": "[encoded data removed]",
      "text/plain": [
       "<matplotlib.figure.Figure at 0x235620b6748>"
      ]
     },
     "metadata": {},
     "output_type": "display_data"
    }
   ],
   "source": [
    "temp = pd.DataFrame(df.groupby(['Season_bin'], axis=0, as_index=False)['Riders'].mean())\n",
    "plt.figure(figsize=(8,4))\n",
    "sns.barplot(x=\"Season_bin\", y=\"Riders\",data=temp)"
   ]
  },
  {
   "cell_type": "markdown",
   "metadata": {},
   "source": [
    "# 2e Weather"
   ]
  },
  {
   "cell_type": "code",
   "execution_count": 13,
   "metadata": {},
   "outputs": [
    {
     "data": {
      "text/plain": [
       "<matplotlib.axes._subplots.AxesSubplot at 0x235621426a0>"
      ]
     },
     "execution_count": 13,
     "metadata": {},
     "output_type": "execute_result"
    },
    {
     "data": {
      "image/png": "[encoded data removed]",
      "text/plain": [
       "<matplotlib.figure.Figure at 0x2356215a6d8>"
      ]
     },
     "metadata": {},
     "output_type": "display_data"
    }
   ],
   "source": [
    "temp = pd.DataFrame(df.groupby(['Weather'], axis=0, as_index=False)['Riders'].mean())\n",
    "plt.figure(figsize=(8,4))\n",
    "sns.barplot(x=\"Weather\", y=\"Riders\",data=temp)"
   ]
  },
  {
   "cell_type": "markdown",
   "metadata": {},
   "source": [
    "# 2f Holiday"
   ]
  },
  {
   "cell_type": "code",
   "execution_count": 14,
   "metadata": {},
   "outputs": [
    {
     "data": {
      "text/plain": [
       "<matplotlib.axes._subplots.AxesSubplot at 0x2356215fa58>"
      ]
     },
     "execution_count": 14,
     "metadata": {},
     "output_type": "execute_result"
    },
    {
     "data": {
      "image/png": "[encoded data removed]",
      "text/plain": [
       "<matplotlib.figure.Figure at 0x2356216fba8>"
      ]
     },
     "metadata": {},
     "output_type": "display_data"
    }
   ],
   "source": [
    "temp = pd.DataFrame(df.groupby(['Holiday'], axis=0, as_index=False)['Riders'].mean())\n",
    "plt.figure(figsize=(8,4))\n",
    "sns.barplot(x=\"Holiday\", y=\"Riders\",data=temp)"
   ]
  },
  {
   "cell_type": "markdown",
   "metadata": {},
   "source": [
    "# 3 Train Test Split"
   ]
  },
  {
   "cell_type": "code",
   "execution_count": 15,
   "metadata": {
    "collapsed": true
   },
   "outputs": [],
   "source": [
    "def RB (x):\n",
    "    if x<50: return \"a. 0-50 bikes\"\n",
    "    elif x<=150: return \"b. 50-150 bikes\"\n",
    "    elif x<=300: return \"c. 150-300- bikes\"\n",
    "    else: return \"d. 300+ bikes\"\n",
    "df['actual'] = df['Riders'].apply(RB)\n",
    "\n",
    "df.drop(['Riders'],axis=1,inplace=True)"
   ]
  },
  {
   "cell_type": "code",
   "execution_count": 16,
   "metadata": {
    "collapsed": true
   },
   "outputs": [],
   "source": [
    "cat_feats = ['Hour_bin','Temperature_bin','Humidity_bin','Season_bin','Weather','Holiday']\n",
    "final_data = pd.get_dummies(df,columns=cat_feats,drop_first=True)"
   ]
  },
  {
   "cell_type": "code",
   "execution_count": 17,
   "metadata": {
    "collapsed": true
   },
   "outputs": [],
   "source": [
    "x = final_data.drop(['actual'],axis=1)\n",
    "y = final_data['actual']\n",
    "x_train, x_test, y_train, y_test = train_test_split(x,y,test_size=0.3, random_state=101)"
   ]
  },
  {
   "cell_type": "markdown",
   "metadata": {},
   "source": [
    "# 4 Building the Model"
   ]
  },
  {
   "cell_type": "markdown",
   "metadata": {},
   "source": [
    "###### n_estimaor - number of trees in the forest"
   ]
  },
  {
   "cell_type": "code",
   "execution_count": 18,
   "metadata": {},
   "outputs": [
    {
     "data": {
      "text/plain": [
       "<matplotlib.axes._subplots.AxesSubplot at 0x2356678c748>"
      ]
     },
     "execution_count": 18,
     "metadata": {},
     "output_type": "execute_result"
    },
    {
     "data": {
      "image/png": "[encoded data removed]",
      "text/plain": [
       "<matplotlib.figure.Figure at 0x235621d9ac8>"
      ]
     },
     "metadata": {},
     "output_type": "display_data"
    }
   ],
   "source": [
    "results = []\n",
    "n_estimaor_options = [25,50,100,200,500,1000,2000]\n",
    "for trees in n_estimaor_options:\n",
    "    model = RandomForestClassifier(trees, oob_score=True, n_jobs=-1, random_state=101)\n",
    "    model.fit(x_train, y_train)\n",
    "    y_pred = model.predict(x_test)\n",
    "    accuracy = np.mean(y_test==y_pred)\n",
    "    results.append(accuracy)\n",
    "\n",
    "plt.figure(figsize=(8,4))\n",
    "pd.Series(results, n_estimaor_options).plot(color=\"darkred\",marker=\"o\")"
   ]
  },
  {
   "cell_type": "markdown",
   "metadata": {},
   "source": [
    "###### max_features - number of features considered \n",
    "###### auto = None = all features are considered "
   ]
  },
  {
   "cell_type": "code",
   "execution_count": 19,
   "metadata": {},
   "outputs": [
    {
     "data": {
      "text/plain": [
       "<matplotlib.axes._subplots.AxesSubplot at 0x2356b6fa160>"
      ]
     },
     "execution_count": 19,
     "metadata": {},
     "output_type": "execute_result"
    },
    {
     "data": {
      "image/png": "[encoded data removed]",
      "text/plain": [
       "<matplotlib.figure.Figure at 0x2356b70b048>"
      ]
     },
     "metadata": {},
     "output_type": "display_data"
    }
   ],
   "source": [
    "results = []\n",
    "max_features_options = ['auto',None,'sqrt',0.95,0.75,0.5,0.25,0.10]\n",
    "for trees in max_features_options:\n",
    "    model = RandomForestClassifier(n_estimators=500, oob_score=True, n_jobs=-1, random_state=101, max_features = trees)\n",
    "    model.fit(x_train, y_train)\n",
    "    y_pred = model.predict(x_test)\n",
    "    accuracy = np.mean(y_test==y_pred)\n",
    "    results.append(accuracy)\n",
    "\n",
    "plt.figure(figsize=(8,4))\n",
    "pd.Series(results, max_features_options).plot(kind=\"bar\",color=\"darkred\",ylim=(0.60,0.625))"
   ]
  },
  {
   "cell_type": "markdown",
   "metadata": {},
   "source": [
    "###### min_samples_leaf - minimum number of samples in new leaf \n",
    "###### sqrt(12165) = 110"
   ]
  },
  {
   "cell_type": "code",
   "execution_count": 20,
   "metadata": {},
   "outputs": [
    {
     "data": {
      "text/plain": [
       "<matplotlib.axes._subplots.AxesSubplot at 0x23566793780>"
      ]
     },
     "execution_count": 20,
     "metadata": {},
     "output_type": "execute_result"
    },
    {
     "data": {
      "image/png": "[encoded data removed]",
      "text/plain": [
       "<matplotlib.figure.Figure at 0x2356679b160>"
      ]
     },
     "metadata": {},
     "output_type": "display_data"
    }
   ],
   "source": [
    "results = []\n",
    "min_samples_leaf_options = [10,20,30,40,50,60,70,80,90,100]\n",
    "for trees in min_samples_leaf_options:\n",
    "    model = RandomForestClassifier(n_estimators=500, oob_score=True, n_jobs=-1, random_state=101, max_features = None, min_samples_leaf = trees)\n",
    "    model.fit(x_train, y_train)\n",
    "    y_pred = model.predict(x_test)\n",
    "    accuracy = np.mean(y_test==y_pred)\n",
    "    results.append(accuracy)\n",
    "\n",
    "plt.figure(figsize=(8,4))\n",
    "pd.Series(results, min_samples_leaf_options).plot(color=\"darkred\",marker=\"o\")"
   ]
  },
  {
   "cell_type": "markdown",
   "metadata": {},
   "source": [
    "# 5 Predictions and Evaluation"
   ]
  },
  {
   "cell_type": "code",
   "execution_count": 21,
   "metadata": {},
   "outputs": [
    {
     "data": {
      "text/plain": [
       "RandomForestClassifier(bootstrap=True, class_weight=None, criterion='gini',\n",
       "            max_depth=None, max_features=None, max_leaf_nodes=None,\n",
       "            min_impurity_decrease=0.0, min_impurity_split=None,\n",
       "            min_samples_leaf=50, min_samples_split=2,\n",
       "            min_weight_fraction_leaf=0.0, n_estimators=500, n_jobs=-1,\n",
       "            oob_score=True, random_state=101, verbose=0, warm_start=False)"
      ]
     },
     "execution_count": 21,
     "metadata": {},
     "output_type": "execute_result"
    }
   ],
   "source": [
    "model = RandomForestClassifier(n_estimators=500, oob_score=True, n_jobs=-1, random_state=101, \n",
    "                               max_features = None, min_samples_leaf = 50)\n",
    "model.fit(x_train, y_train)"
   ]
  },
  {
   "cell_type": "code",
   "execution_count": 22,
   "metadata": {},
   "outputs": [
    {
     "name": "stdout",
     "output_type": "stream",
     "text": [
      "\u001b[1m\u001b[4maccuracy\u001b[0m\n",
      "60.8 %\n",
      "\n",
      "\n",
      "\u001b[1m\u001b[4mclassification_report\u001b[0m\n",
      "                   precision    recall  f1-score   support\n",
      "\n",
      "    a. 0-50 bikes       0.73      0.87      0.80      1445\n",
      "  b. 50-150 bikes       0.51      0.37      0.43      1234\n",
      "c. 150-300- bikes       0.51      0.61      0.55      1353\n",
      "    d. 300+ bikes       0.65      0.53      0.58      1182\n",
      "\n",
      "      avg / total       0.60      0.61      0.60      5214\n",
      "\n",
      "\n",
      "\n",
      "\u001b[1m\u001b[4mconfusion_matrix\u001b[0m\n",
      "[[1256  135   38   16]\n",
      " [ 400  461  283   90]\n",
      " [  57  237  826  233]\n",
      " [   0   67  488  627]]\n"
     ]
    }
   ],
   "source": [
    "y_pred = model.predict(x_test)\n",
    "\n",
    "print('\\033[1m' + '\\033[4m' + 'accuracy' + '\\033[0m')\n",
    "print(round(np.mean(y_test==y_pred)*100,2),\"%\")\n",
    "print('\\n')\n",
    "print('\\033[1m' + '\\033[4m' + 'classification_report' + '\\033[0m')\n",
    "print(classification_report(y_test,y_pred))\n",
    "print('\\n')\n",
    "print('\\033[1m' + '\\033[4m' + 'confusion_matrix' + '\\033[0m')\n",
    "print(confusion_matrix(y_test,y_pred))"
   ]
  }
 ],
 "metadata": {
  "kernelspec": {
   "display_name": "Python 3",
   "language": "python",
   "name": "python3"
  },
  "language_info": {
   "codemirror_mode": {
    "name": "ipython",
    "version": 3
   },
   "file_extension": ".py",
   "mimetype": "text/x-python",
   "name": "python",
   "nbconvert_exporter": "python",
   "pygments_lexer": "ipython3",
   "version": "3.6.2"
  }
 },
 "nbformat": 4,
 "nbformat_minor": 2
}

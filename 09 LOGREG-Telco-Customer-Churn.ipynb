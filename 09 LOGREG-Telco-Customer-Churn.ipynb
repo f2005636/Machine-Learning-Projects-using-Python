{
 "cells": [
  {
   "cell_type": "markdown",
   "metadata": {},
   "source": [
    "# Telco Customer Churn"
   ]
  },
  {
   "cell_type": "markdown",
   "metadata": {},
   "source": [
    "###### Predict behavior to retain customers. You can analyze all relevant customer data and develop focused customer retention programs."
   ]
  },
  {
   "cell_type": "code",
   "execution_count": 76,
   "metadata": {},
   "outputs": [],
   "source": [
    "import math\n",
    "import numpy as np\n",
    "import pandas as pd\n",
    "from datetime import datetime\n",
    "\n",
    "import seaborn as sns\n",
    "import matplotlib.pyplot as plt\n",
    "%matplotlib inline \n",
    "plt.style.use('seaborn-whitegrid')\n",
    "\n",
    "from sklearn.model_selection import train_test_split\n",
    "from sklearn.linear_model import LogisticRegression\n",
    "from sklearn import metrics\n",
    "from sklearn.metrics import classification_report, confusion_matrix\n",
    "import statsmodels.api as sm"
   ]
  },
  {
   "cell_type": "markdown",
   "metadata": {},
   "source": [
    "# 1 Get the Data"
   ]
  },
  {
   "cell_type": "code",
   "execution_count": 77,
   "metadata": {},
   "outputs": [
    {
     "name": "stdout",
     "output_type": "stream",
     "text": [
      "<class 'pandas.core.frame.DataFrame'>\n",
      "Int64Index: 7043 entries, 0 to 7042\n",
      "Data columns (total 21 columns):\n",
      "customerID          7043 non-null object\n",
      "gender              7043 non-null object\n",
      "SeniorCitizen       7043 non-null int64\n",
      "Partner             7043 non-null object\n",
      "Dependents          7043 non-null object\n",
      "tenure              7043 non-null int64\n",
      "PhoneService        7043 non-null object\n",
      "MultipleLines       7043 non-null object\n",
      "InternetService     7043 non-null object\n",
      "OnlineSecurity      7043 non-null object\n",
      "OnlineBackup        7043 non-null object\n",
      "DeviceProtection    7043 non-null object\n",
      "TechSupport         7043 non-null object\n",
      "StreamingTV         7043 non-null object\n",
      "StreamingMovies     7043 non-null object\n",
      "Contract            7043 non-null object\n",
      "PaperlessBilling    7043 non-null object\n",
      "PaymentMethod       7043 non-null object\n",
      "MonthlyCharges      7043 non-null float64\n",
      "TotalCharges        7043 non-null object\n",
      "Churn               7043 non-null object\n",
      "dtypes: float64(1), int64(2), object(18)\n",
      "memory usage: 1.2+ MB\n"
     ]
    }
   ],
   "source": [
    "df = pd.read_csv('09 WA_Fn-UseC_-Telco-Customer-Churn.csv')\n",
    "df.dropna(inplace=True)\n",
    "df.info()"
   ]
  },
  {
   "cell_type": "code",
   "execution_count": 78,
   "metadata": {},
   "outputs": [],
   "source": [
    "def func_PM(x):\n",
    "    if x==\"Electronic check\": return \"a. Electronic check\"\n",
    "    else: return \"b. Others\"\n",
    "df['PaymentMethod_bin'] = df['PaymentMethod'].apply(func_PM)"
   ]
  },
  {
   "cell_type": "code",
   "execution_count": 79,
   "metadata": {
    "collapsed": true
   },
   "outputs": [],
   "source": [
    "def func_TB(x):\n",
    "    if x<=6: return \"a. 06 months\"\n",
    "    elif x<=24: return \"b. 24 months\"\n",
    "    elif x<=48: return \"c. 48 months\"\n",
    "    elif x<=60: return \"d. 60 months\"\n",
    "    else: return \"e. more\"\n",
    "df['tenure_bin'] = df['tenure'].apply(func_TB)"
   ]
  },
  {
   "cell_type": "code",
   "execution_count": 80,
   "metadata": {},
   "outputs": [],
   "source": [
    "df['TotalCharges1']=df['TotalCharges'].apply(lambda x: 0 if x == \" \" else x)\n",
    "df['TotalCharges2']=df['TotalCharges1'].apply(lambda x: float(x))\n",
    "\n",
    "def func_TC(x): \n",
    "    if x<=100: return \"a. 100\"\n",
    "    elif x<=250: return \"b. 250\"\n",
    "    elif x<=500: return \"c. 500\"\n",
    "    elif x<=3000: return \"d. 3000\"\n",
    "    elif x<=4500: return \"e. 4500\"\n",
    "    else: return \"f. more\"\n",
    "df['TotalCharges_bin'] = df['TotalCharges2'].apply(func_TC)"
   ]
  },
  {
   "cell_type": "code",
   "execution_count": 81,
   "metadata": {},
   "outputs": [
    {
     "name": "stdout",
     "output_type": "stream",
     "text": [
      "<class 'pandas.core.frame.DataFrame'>\n",
      "Int64Index: 7043 entries, 0 to 7042\n",
      "Data columns (total 9 columns):\n",
      "customerID           7043 non-null object\n",
      "Churn                7043 non-null object\n",
      "SeniorCitizen        7043 non-null int64\n",
      "InternetService      7043 non-null object\n",
      "Contract             7043 non-null object\n",
      "PaperlessBilling     7043 non-null object\n",
      "PaymentMethod_bin    7043 non-null object\n",
      "tenure_bin           7043 non-null object\n",
      "TotalCharges_bin     7043 non-null object\n",
      "dtypes: int64(1), object(8)\n",
      "memory usage: 550.2+ KB\n"
     ]
    }
   ],
   "source": [
    "df = df[['customerID','Churn','SeniorCitizen','InternetService','Contract','PaperlessBilling',\n",
    "         'PaymentMethod_bin','tenure_bin','TotalCharges_bin']].copy()\n",
    "df.info()"
   ]
  },
  {
   "cell_type": "markdown",
   "metadata": {},
   "source": [
    "# 2a SeniorCitizen"
   ]
  },
  {
   "cell_type": "code",
   "execution_count": 82,
   "metadata": {},
   "outputs": [
    {
     "data": {
      "text/plain": [
       "<matplotlib.legend.Legend at 0x258ccc47550>"
      ]
     },
     "execution_count": 82,
     "metadata": {},
     "output_type": "execute_result"
    },
    {
     "data": {
      "image/png": "[encoded data removed]",
      "text/plain": [
       "<matplotlib.figure.Figure at 0x258ccc47518>"
      ]
     },
     "metadata": {},
     "output_type": "display_data"
    }
   ],
   "source": [
    "temp = df.pivot_table(values=['customerID'], index=['SeniorCitizen'], columns=['Churn'], aggfunc='count')\n",
    "temp = temp.apply(lambda c: c / c.sum() * 100, axis=1)\n",
    "temp.plot(kind=\"bar\",stacked=True)\n",
    "plt.legend(loc='center left', bbox_to_anchor=(1.0, 0.5))"
   ]
  },
  {
   "cell_type": "markdown",
   "metadata": {},
   "source": [
    "# 2b InternetService"
   ]
  },
  {
   "cell_type": "code",
   "execution_count": 83,
   "metadata": {},
   "outputs": [
    {
     "data": {
      "text/plain": [
       "<matplotlib.legend.Legend at 0x258cd066ac8>"
      ]
     },
     "execution_count": 83,
     "metadata": {},
     "output_type": "execute_result"
    },
    {
     "data": {
      "image/png": "[encoded data removed]",
      "text/plain": [
       "<matplotlib.figure.Figure at 0x258cd04ee48>"
      ]
     },
     "metadata": {},
     "output_type": "display_data"
    }
   ],
   "source": [
    "temp = df.pivot_table(values=['customerID'], index=['InternetService'], columns=['Churn'], aggfunc='count')\n",
    "temp = temp.apply(lambda c: c / c.sum() * 100, axis=1)\n",
    "temp.plot(kind=\"bar\",stacked=True)\n",
    "plt.legend(loc='center left', bbox_to_anchor=(1.0, 0.5))"
   ]
  },
  {
   "cell_type": "markdown",
   "metadata": {},
   "source": [
    "# 2c Contract"
   ]
  },
  {
   "cell_type": "code",
   "execution_count": 84,
   "metadata": {},
   "outputs": [
    {
     "data": {
      "text/plain": [
       "<matplotlib.legend.Legend at 0x258cd0667f0>"
      ]
     },
     "execution_count": 84,
     "metadata": {},
     "output_type": "execute_result"
    },
    {
     "data": {
      "image/png": "[encoded data removed]",
      "text/plain": [
       "<matplotlib.figure.Figure at 0x258ca869278>"
      ]
     },
     "metadata": {},
     "output_type": "display_data"
    }
   ],
   "source": [
    "temp = df.pivot_table(values=['customerID'], index=['Contract'], columns=['Churn'], aggfunc='count')\n",
    "temp = temp.apply(lambda c: c / c.sum() * 100, axis=1)\n",
    "temp.plot(kind=\"bar\",stacked=True)\n",
    "plt.legend(loc='center left', bbox_to_anchor=(1.0, 0.5))"
   ]
  },
  {
   "cell_type": "markdown",
   "metadata": {},
   "source": [
    "# 2d PaperlessBilling"
   ]
  },
  {
   "cell_type": "code",
   "execution_count": 85,
   "metadata": {},
   "outputs": [
    {
     "data": {
      "text/plain": [
       "<matplotlib.legend.Legend at 0x258cadb6e10>"
      ]
     },
     "execution_count": 85,
     "metadata": {},
     "output_type": "execute_result"
    },
    {
     "data": {
      "image/png": "[encoded data removed]",
      "text/plain": [
       "<matplotlib.figure.Figure at 0x258ca370e10>"
      ]
     },
     "metadata": {},
     "output_type": "display_data"
    }
   ],
   "source": [
    "temp = df.pivot_table(values=['customerID'], index=['PaperlessBilling'], columns=['Churn'], aggfunc='count')\n",
    "temp = temp.apply(lambda c: c / c.sum() * 100, axis=1)\n",
    "temp.plot(kind=\"bar\",stacked=True)\n",
    "plt.legend(loc='center left', bbox_to_anchor=(1.0, 0.5))"
   ]
  },
  {
   "cell_type": "markdown",
   "metadata": {},
   "source": [
    "# 2e PaymentMethod_bin"
   ]
  },
  {
   "cell_type": "code",
   "execution_count": 86,
   "metadata": {},
   "outputs": [
    {
     "data": {
      "text/plain": [
       "<matplotlib.legend.Legend at 0x258ca50a5f8>"
      ]
     },
     "execution_count": 86,
     "metadata": {},
     "output_type": "execute_result"
    },
    {
     "data": {
      "image/png": "[encoded data removed]",
      "text/plain": [
       "<matplotlib.figure.Figure at 0x258cd099ef0>"
      ]
     },
     "metadata": {},
     "output_type": "display_data"
    }
   ],
   "source": [
    "temp = df.pivot_table(values=['customerID'], index=['PaymentMethod_bin'], columns=['Churn'], aggfunc='count')\n",
    "temp = temp.apply(lambda c: c / c.sum() * 100, axis=1)\n",
    "temp.plot(kind=\"bar\",stacked=True)\n",
    "plt.legend(loc='center left', bbox_to_anchor=(1.0, 0.5))"
   ]
  },
  {
   "cell_type": "markdown",
   "metadata": {},
   "source": [
    "# 2f tenure_bin"
   ]
  },
  {
   "cell_type": "code",
   "execution_count": 87,
   "metadata": {},
   "outputs": [
    {
     "data": {
      "text/plain": [
       "<matplotlib.legend.Legend at 0x258cce5e3c8>"
      ]
     },
     "execution_count": 87,
     "metadata": {},
     "output_type": "execute_result"
    },
    {
     "data": {
      "image/png": "[encoded data removed]",
      "text/plain": [
       "<matplotlib.figure.Figure at 0x258ca0b4a20>"
      ]
     },
     "metadata": {},
     "output_type": "display_data"
    }
   ],
   "source": [
    "temp = df.pivot_table(values=['customerID'], index=['tenure_bin'], columns=['Churn'], aggfunc='count')\n",
    "temp = temp.apply(lambda c: c / c.sum() * 100, axis=1)\n",
    "temp.plot(kind=\"bar\",stacked=True)\n",
    "plt.legend(loc='center left', bbox_to_anchor=(1.0, 0.5))"
   ]
  },
  {
   "cell_type": "markdown",
   "metadata": {},
   "source": [
    "# 2g TotalCharges_bin"
   ]
  },
  {
   "cell_type": "code",
   "execution_count": 88,
   "metadata": {},
   "outputs": [
    {
     "data": {
      "text/plain": [
       "<matplotlib.legend.Legend at 0x258ca78ad30>"
      ]
     },
     "execution_count": 88,
     "metadata": {},
     "output_type": "execute_result"
    },
    {
     "data": {
      "image/png": "[encoded data removed]",
      "text/plain": [
       "<matplotlib.figure.Figure at 0x258ca7bc048>"
      ]
     },
     "metadata": {},
     "output_type": "display_data"
    }
   ],
   "source": [
    "temp = df.pivot_table(values=['customerID'], index=['TotalCharges_bin'], columns=['Churn'], aggfunc='count')\n",
    "temp = temp.apply(lambda c: c / c.sum() * 100, axis=1)\n",
    "temp.plot(kind=\"bar\",stacked=True)\n",
    "plt.legend(loc='center left', bbox_to_anchor=(1.0, 0.5))"
   ]
  },
  {
   "cell_type": "markdown",
   "metadata": {},
   "source": [
    "# 3 Train Test Split"
   ]
  },
  {
   "cell_type": "code",
   "execution_count": 89,
   "metadata": {},
   "outputs": [],
   "source": [
    "df['actual'] = df['Churn'].apply(lambda x: 0 if x == \"No\" else 1)\n",
    "df.drop(['customerID','Churn'],axis=1,inplace=True)"
   ]
  },
  {
   "cell_type": "code",
   "execution_count": 90,
   "metadata": {
    "collapsed": true
   },
   "outputs": [],
   "source": [
    "cat_feats = ['SeniorCitizen','InternetService','Contract','PaperlessBilling',\n",
    "             'PaymentMethod_bin','tenure_bin','TotalCharges_bin']\n",
    "final_data = pd.get_dummies(df,columns=cat_feats,drop_first=True)"
   ]
  },
  {
   "cell_type": "code",
   "execution_count": 91,
   "metadata": {
    "collapsed": true
   },
   "outputs": [],
   "source": [
    "x = final_data.drop(['actual'],axis=1)\n",
    "y = final_data['actual']\n",
    "x_train, x_test, y_train, y_test = train_test_split(x,y,test_size=0.3, random_state=101)"
   ]
  },
  {
   "cell_type": "markdown",
   "metadata": {},
   "source": [
    "# 4 Building the Model"
   ]
  },
  {
   "cell_type": "code",
   "execution_count": 92,
   "metadata": {},
   "outputs": [
    {
     "name": "stdout",
     "output_type": "stream",
     "text": [
      "Optimization terminated successfully.\n",
      "         Current function value: 0.415770\n",
      "         Iterations 8\n"
     ]
    },
    {
     "data": {
      "text/html": [
       "<table class=\"simpletable\">\n",
       "<caption>Logit Regression Results</caption>\n",
       "<tr>\n",
       "  <th>Dep. Variable:</th>      <td>actual</td>      <th>  No. Observations:  </th>  <td>  4930</td> \n",
       "</tr>\n",
       "<tr>\n",
       "  <th>Model:</th>               <td>Logit</td>      <th>  Df Residuals:      </th>  <td>  4913</td> \n",
       "</tr>\n",
       "<tr>\n",
       "  <th>Method:</th>               <td>MLE</td>       <th>  Df Model:          </th>  <td>    16</td> \n",
       "</tr>\n",
       "<tr>\n",
       "  <th>Date:</th>          <td>Sat, 18 Nov 2017</td> <th>  Pseudo R-squ.:     </th>  <td>0.2798</td> \n",
       "</tr>\n",
       "<tr>\n",
       "  <th>Time:</th>              <td>07:34:13</td>     <th>  Log-Likelihood:    </th> <td> -2049.7</td>\n",
       "</tr>\n",
       "<tr>\n",
       "  <th>converged:</th>           <td>True</td>       <th>  LL-Null:           </th> <td> -2846.1</td>\n",
       "</tr>\n",
       "<tr>\n",
       "  <th> </th>                      <td> </td>        <th>  LLR p-value:       </th>  <td> 0.000</td> \n",
       "</tr>\n",
       "</table>\n",
       "<table class=\"simpletable\">\n",
       "<tr>\n",
       "               <td></td>                  <th>coef</th>     <th>std err</th>      <th>z</th>      <th>P>|z|</th>  <th>[0.025</th>    <th>0.975]</th>  \n",
       "</tr>\n",
       "<tr>\n",
       "  <th>const</th>                       <td>    0.2895</td> <td>    0.133</td> <td>    2.170</td> <td> 0.030</td> <td>    0.028</td> <td>    0.551</td>\n",
       "</tr>\n",
       "<tr>\n",
       "  <th>SeniorCitizen_1</th>             <td>    0.2931</td> <td>    0.098</td> <td>    2.987</td> <td> 0.003</td> <td>    0.101</td> <td>    0.485</td>\n",
       "</tr>\n",
       "<tr>\n",
       "  <th>InternetService_Fiber optic</th> <td>    1.1124</td> <td>    0.103</td> <td>   10.844</td> <td> 0.000</td> <td>    0.911</td> <td>    1.313</td>\n",
       "</tr>\n",
       "<tr>\n",
       "  <th>InternetService_No</th>          <td>   -1.1671</td> <td>    0.159</td> <td>   -7.324</td> <td> 0.000</td> <td>   -1.479</td> <td>   -0.855</td>\n",
       "</tr>\n",
       "<tr>\n",
       "  <th>Contract_One year</th>           <td>   -0.6497</td> <td>    0.125</td> <td>   -5.181</td> <td> 0.000</td> <td>   -0.896</td> <td>   -0.404</td>\n",
       "</tr>\n",
       "<tr>\n",
       "  <th>Contract_Two year</th>           <td>   -1.7067</td> <td>    0.218</td> <td>   -7.825</td> <td> 0.000</td> <td>   -2.134</td> <td>   -1.279</td>\n",
       "</tr>\n",
       "<tr>\n",
       "  <th>PaperlessBilling_Yes</th>        <td>    0.4399</td> <td>    0.089</td> <td>    4.968</td> <td> 0.000</td> <td>    0.266</td> <td>    0.614</td>\n",
       "</tr>\n",
       "<tr>\n",
       "  <th>PaymentMethod_bin_b. Others</th> <td>   -0.4425</td> <td>    0.082</td> <td>   -5.418</td> <td> 0.000</td> <td>   -0.603</td> <td>   -0.282</td>\n",
       "</tr>\n",
       "<tr>\n",
       "  <th>tenure_bin_b. 24 months</th>     <td>   -0.2095</td> <td>    0.204</td> <td>   -1.026</td> <td> 0.305</td> <td>   -0.610</td> <td>    0.191</td>\n",
       "</tr>\n",
       "<tr>\n",
       "  <th>tenure_bin_c. 48 months</th>     <td>   -0.6667</td> <td>    0.246</td> <td>   -2.708</td> <td> 0.007</td> <td>   -1.149</td> <td>   -0.184</td>\n",
       "</tr>\n",
       "<tr>\n",
       "  <th>tenure_bin_d. 60 months</th>     <td>   -0.9727</td> <td>    0.315</td> <td>   -3.087</td> <td> 0.002</td> <td>   -1.590</td> <td>   -0.355</td>\n",
       "</tr>\n",
       "<tr>\n",
       "  <th>tenure_bin_e. more</th>          <td>   -1.2074</td> <td>    0.345</td> <td>   -3.498</td> <td> 0.000</td> <td>   -1.884</td> <td>   -0.531</td>\n",
       "</tr>\n",
       "<tr>\n",
       "  <th>TotalCharges_bin_b. 250</th>     <td>   -0.8739</td> <td>    0.168</td> <td>   -5.198</td> <td> 0.000</td> <td>   -1.203</td> <td>   -0.544</td>\n",
       "</tr>\n",
       "<tr>\n",
       "  <th>TotalCharges_bin_c. 500</th>     <td>   -0.9494</td> <td>    0.189</td> <td>   -5.024</td> <td> 0.000</td> <td>   -1.320</td> <td>   -0.579</td>\n",
       "</tr>\n",
       "<tr>\n",
       "  <th>TotalCharges_bin_d. 3000</th>    <td>   -1.2794</td> <td>    0.265</td> <td>   -4.829</td> <td> 0.000</td> <td>   -1.799</td> <td>   -0.760</td>\n",
       "</tr>\n",
       "<tr>\n",
       "  <th>TotalCharges_bin_e. 4500</th>    <td>   -1.4308</td> <td>    0.327</td> <td>   -4.371</td> <td> 0.000</td> <td>   -2.072</td> <td>   -0.789</td>\n",
       "</tr>\n",
       "<tr>\n",
       "  <th>TotalCharges_bin_f. more</th>    <td>   -1.3694</td> <td>    0.371</td> <td>   -3.691</td> <td> 0.000</td> <td>   -2.097</td> <td>   -0.642</td>\n",
       "</tr>\n",
       "</table>"
      ],
      "text/plain": [
       "<class 'statsmodels.iolib.summary.Summary'>\n",
       "\"\"\"\n",
       "                           Logit Regression Results                           \n",
       "==============================================================================\n",
       "Dep. Variable:                 actual   No. Observations:                 4930\n",
       "Model:                          Logit   Df Residuals:                     4913\n",
       "Method:                           MLE   Df Model:                           16\n",
       "Date:                Sat, 18 Nov 2017   Pseudo R-squ.:                  0.2798\n",
       "Time:                        07:34:13   Log-Likelihood:                -2049.7\n",
       "converged:                       True   LL-Null:                       -2846.1\n",
       "                                        LLR p-value:                     0.000\n",
       "===============================================================================================\n",
       "                                  coef    std err          z      P>|z|      [0.025      0.975]\n",
       "-----------------------------------------------------------------------------------------------\n",
       "const                           0.2895      0.133      2.170      0.030       0.028       0.551\n",
       "SeniorCitizen_1                 0.2931      0.098      2.987      0.003       0.101       0.485\n",
       "InternetService_Fiber optic     1.1124      0.103     10.844      0.000       0.911       1.313\n",
       "InternetService_No             -1.1671      0.159     -7.324      0.000      -1.479      -0.855\n",
       "Contract_One year              -0.6497      0.125     -5.181      0.000      -0.896      -0.404\n",
       "Contract_Two year              -1.7067      0.218     -7.825      0.000      -2.134      -1.279\n",
       "PaperlessBilling_Yes            0.4399      0.089      4.968      0.000       0.266       0.614\n",
       "PaymentMethod_bin_b. Others    -0.4425      0.082     -5.418      0.000      -0.603      -0.282\n",
       "tenure_bin_b. 24 months        -0.2095      0.204     -1.026      0.305      -0.610       0.191\n",
       "tenure_bin_c. 48 months        -0.6667      0.246     -2.708      0.007      -1.149      -0.184\n",
       "tenure_bin_d. 60 months        -0.9727      0.315     -3.087      0.002      -1.590      -0.355\n",
       "tenure_bin_e. more             -1.2074      0.345     -3.498      0.000      -1.884      -0.531\n",
       "TotalCharges_bin_b. 250        -0.8739      0.168     -5.198      0.000      -1.203      -0.544\n",
       "TotalCharges_bin_c. 500        -0.9494      0.189     -5.024      0.000      -1.320      -0.579\n",
       "TotalCharges_bin_d. 3000       -1.2794      0.265     -4.829      0.000      -1.799      -0.760\n",
       "TotalCharges_bin_e. 4500       -1.4308      0.327     -4.371      0.000      -2.072      -0.789\n",
       "TotalCharges_bin_f. more       -1.3694      0.371     -3.691      0.000      -2.097      -0.642\n",
       "===============================================================================================\n",
       "\"\"\""
      ]
     },
     "execution_count": 92,
     "metadata": {},
     "output_type": "execute_result"
    }
   ],
   "source": [
    "x_train = sm.add_constant(x_train).copy()\n",
    "logit = sm.Logit(y_train, x_train)\n",
    "result = logit.fit()\n",
    "result.summary()"
   ]
  },
  {
   "cell_type": "code",
   "execution_count": 93,
   "metadata": {
    "collapsed": true
   },
   "outputs": [],
   "source": [
    "x_test = sm.add_constant(x_test).copy()\n",
    "y_pred = result.predict(x_test)\n",
    "x_test = x_test.reset_index(drop=True)\n",
    "y_test = y_test.reset_index(drop=True)\n",
    "y_pred = y_pred.reset_index(drop=True)\n",
    "test_calc = pd.concat([x_test,y_test,pd.DataFrame(y_pred)],axis=1)\n",
    "test_calc.rename(columns={0: 'predicted'}, inplace=True)"
   ]
  },
  {
   "cell_type": "code",
   "execution_count": 94,
   "metadata": {},
   "outputs": [
    {
     "name": "stdout",
     "output_type": "stream",
     "text": [
      "max c:  0.35\n",
      "max a:  0.5\n"
     ]
    },
    {
     "data": {
      "image/png": "[encoded data removed]",
      "text/plain": [
       "<matplotlib.figure.Figure at 0x258ce148860>"
      ]
     },
     "metadata": {},
     "output_type": "display_data"
    }
   ],
   "source": [
    "c = [0.15,0.2,0.25,0.3,0.35,0.4,0.45,0.5,0.55,0.6,0.65,0.7,0.75,0.8,0.85]\n",
    "a = [0.15,0.2,0.25,0.3,0.35,0.4,0.45,0.5,0.55,0.6,0.65,0.7,0.75,0.8,0.85]\n",
    "p = [0.15,0.2,0.25,0.3,0.35,0.4,0.45,0.5,0.55,0.6,0.65,0.7,0.75,0.8,0.85]\n",
    "r = [0.15,0.2,0.25,0.3,0.35,0.4,0.45,0.5,0.55,0.6,0.65,0.7,0.75,0.8,0.85]\n",
    "f = [0.15,0.2,0.25,0.3,0.35,0.4,0.45,0.5,0.55,0.6,0.65,0.7,0.75,0.8,0.85]\n",
    "i = 0\n",
    "\n",
    "for j in c:\n",
    "    def flag(cols):\n",
    "        x = cols[0]\n",
    "        j = cols[1]\n",
    "        if x > j: return 1\n",
    "        else: return 0\n",
    "    test_calc['j']=j\n",
    "    test_calc['flag'] = test_calc[['predicted','j']].apply(flag,axis=1)\n",
    "    df_table = confusion_matrix(test_calc['actual'],test_calc['flag'])\n",
    "    a[i] = (df_table[0,0] + df_table[1,1]) / (df_table[0,0] + df_table[0,1] + df_table[1,0] + df_table[1,1])\n",
    "    p[i] = df_table[1,1] / (df_table[1,1] + df_table[0,1])\n",
    "    r[i] = df_table[1,1] / (df_table[1,1] + df_table[1,0])\n",
    "    f[i] = (2 * p[i] * r[i]) / (p[i] + r[i])\n",
    "    i = i+1\n",
    "\n",
    "df_decision = pd.concat([pd.DataFrame(c),pd.DataFrame(a),pd.DataFrame(p),pd.DataFrame(r),pd.DataFrame(f)],axis=1)\n",
    "df_decision.columns = ['c','a','p','r','f']\n",
    "\n",
    "f_max = df_decision[df_decision['f']==df_decision['f'].max()].head(1)\n",
    "max_c = float(f_max['c'])\n",
    "a_max = df_decision[df_decision['a']==df_decision['a'].max()].head(1)\n",
    "max_a = float(a_max['c'])\n",
    "\n",
    "df_decision.plot(x='c',y=['f','a'],marker=\"o\")\n",
    "\n",
    "print (\"max c: \",max_c)\n",
    "print (\"max a: \",max_a)"
   ]
  },
  {
   "cell_type": "markdown",
   "metadata": {},
   "source": [
    "# 5 Predictions and Evaluation"
   ]
  },
  {
   "cell_type": "code",
   "execution_count": 95,
   "metadata": {},
   "outputs": [
    {
     "name": "stdout",
     "output_type": "stream",
     "text": [
      "[[1277  269]\n",
      " [ 177  390]]\n",
      "accuracy: 0.78892569806\n",
      "precision: 0.591805766313\n",
      "recall: 0.687830687831\n",
      "f1 score:  0.636215334421\n"
     ]
    }
   ],
   "source": [
    "test_calc['predicted'] = test_calc['predicted'].apply(lambda x: 1 if x > 0.35 else 0)\n",
    "df_table = confusion_matrix(test_calc['actual'],test_calc['predicted'])\n",
    "print (df_table)\n",
    "\n",
    "print('accuracy:', (df_table[0,0] + df_table[1,1]) / (df_table[0,0] + df_table[0,1] + df_table[1,0] + df_table[1,1]))\n",
    "print ('precision:', df_table[1,1] / (df_table[1,1] + df_table[0,1]))\n",
    "print('recall:', df_table[1,1] / (df_table[1,1] + df_table[1,0]))\n",
    "\n",
    "p = df_table[1,1] / (df_table[1,1] + df_table[0,1])\n",
    "r = df_table[1,1] / (df_table[1,1] + df_table[1,0])\n",
    "print('f1 score: ', (2*p*r)/(p+r))"
   ]
  }
 ],
 "metadata": {
  "kernelspec": {
   "display_name": "Python 3",
   "language": "python",
   "name": "python3"
  },
  "language_info": {
   "codemirror_mode": {
    "name": "ipython",
    "version": 3
   },
   "file_extension": ".py",
   "mimetype": "text/x-python",
   "name": "python",
   "nbconvert_exporter": "python",
   "pygments_lexer": "ipython3",
   "version": "3.6.2"
  }
 },
 "nbformat": 4,
 "nbformat_minor": 2
}
